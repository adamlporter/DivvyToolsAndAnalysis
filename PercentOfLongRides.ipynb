{
 "cells": [
  {
   "cell_type": "markdown",
   "metadata": {},
   "source": [
    "In the \"StationAnalysis.ipynb,\" I calculated the N of rides > 1 hour for member and casual users. But it isn't clear what percent of ALL rides these numbers represent. So this notebook will figure that information out. The goal is to figure out when we've acccount for 95% (or 99%) of all rides and can justify ignoring rides longer than X hours."
   ]
  },
  {
   "cell_type": "code",
   "execution_count": 1,
   "metadata": {},
   "outputs": [],
   "source": [
    "import pandas as pd\n",
    "import matplotlib.pyplot as plt\n",
    "%matplotlib inline  "
   ]
  },
  {
   "cell_type": "code",
   "execution_count": 2,
   "metadata": {},
   "outputs": [],
   "source": [
    "def getData(year,months=['01','02','03','04','05','06','07','08','09','10','11','12']):\n",
    "    # procedure accepts year (as string) and optional list of months (strings) for which to retreive data\n",
    "    # will return a df with the DIVVY data for that year and month(s)\n",
    "    import pandas as pd\n",
    "\n",
    "    if not isinstance(year,str):\n",
    "        year = str(year)\n",
    "\n",
    "    if not isinstance(months,list):\n",
    "        months = [months]\n",
    "\n",
    "    if int(year) >= 2020:\n",
    "        workDir = '/home/alp/Google Drive/Python/DataSets/Data_Divvy/'\n",
    "    else:\n",
    "        workDir = '/home/alp/Google Drive/Python/DataSets/Data_Divvy/pre2020/'\n",
    "\n",
    "    fileName = year + months[0] + '-divvy-tripdata.json'\n",
    "    print(fileName)\n",
    "    retData = pd.read_json(workDir+fileName,orient='index')\n",
    "\n",
    "    if len(months) > 0:\n",
    "        for month in months[1:]:\n",
    "                fileName = year + month + '-divvy-tripdata.json'\n",
    "                print(fileName)\n",
    "                newData = pd.read_json(workDir+fileName,orient='index')\n",
    "                retData = pd.concat([retData,newData])\n",
    "\n",
    "    return retData\n",
    "\n",
    "def getYear(year):\n",
    "    # this will get the data for a specific year and clean it up, returning the cleaned data \n",
    "    data = getData(year)\n",
    "\n",
    "    if int(year) < 2020:\n",
    "        data.drop(columns = ['trip_id', 'bikeid', 'from_station_name',\n",
    "       'to_station_name', 'gender', 'birthyear','tripduration'],inplace=True)\n",
    "        data['tripduration'] = data['end_time'] - data['start_time']\n",
    "        data.drop(data[data['tripduration'] < '0:00:00'].index, inplace=True)\n",
    "        data['rideable_type'] = 'classic_bike'\n",
    "        \n",
    "    else:\n",
    "        data.drop(columns=['ride_id', 'start_station_name', 'end_station_name'],inplace=True)\n",
    "        data.rename(columns={'started_at':'start_time','ended_at':'end_time','member_casual':'usertype'},inplace=True)\n",
    "        data['tripduration'] = data['end_time'] - data['start_time']\n",
    "        data.drop(data[data['tripduration'] < '0:00:00'].index, inplace=True)\n",
    "        data['rideable_type'].replace(to_replace = 'docked_bike', value = 'classic_bike',inplace = True)\n",
    "    \n",
    "    data['month'] = pd.DatetimeIndex(data['start_time']).month\n",
    "    data['year'] = pd.DatetimeIndex(data['start_time']).year\n",
    "    data['usertype'].replace(['Subscriber','Customer'],['member','casual'],inplace = True)\n",
    "\n",
    "    if 'from_station_id' in data.columns:\n",
    "        data.rename(columns={'from_station_id':'start_station_id','to_station_id':'end_station_id'},inplace=True)\n",
    "    \n",
    "    return data"
   ]
  },
  {
   "cell_type": "code",
   "execution_count": 3,
   "metadata": {},
   "outputs": [
    {
     "name": "stdout",
     "output_type": "stream",
     "text": [
      "202101-divvy-tripdata.json\n",
      "202102-divvy-tripdata.json\n",
      "202103-divvy-tripdata.json\n",
      "202104-divvy-tripdata.json\n",
      "202105-divvy-tripdata.json\n",
      "202106-divvy-tripdata.json\n",
      "202107-divvy-tripdata.json\n",
      "202108-divvy-tripdata.json\n",
      "202109-divvy-tripdata.json\n",
      "202110-divvy-tripdata.json\n",
      "202111-divvy-tripdata.json\n",
      "202112-divvy-tripdata.json\n"
     ]
    }
   ],
   "source": [
    "#bigData = pd.concat([getYear('2019'),getYear('2020'),getYear('2021')],axis=0)\n",
    "bigData = getYear('2021')"
   ]
  },
  {
   "cell_type": "code",
   "execution_count": 4,
   "metadata": {},
   "outputs": [
    {
     "data": {
      "text/plain": [
       "(5593819, 13)"
      ]
     },
     "execution_count": 4,
     "metadata": {},
     "output_type": "execute_result"
    }
   ],
   "source": [
    "bigData.shape\n"
   ]
  },
  {
   "cell_type": "code",
   "execution_count": 5,
   "metadata": {},
   "outputs": [
    {
     "name": "stdout",
     "output_type": "stream",
     "text": [
      "<class 'pandas.core.frame.DataFrame'>\n",
      "Int64Index: 12883947 entries, 0 to 247539\n",
      "Data columns (total 13 columns):\n",
      " #   Column            Dtype          \n",
      "---  ------            -----          \n",
      " 0   start_time        datetime64[ns] \n",
      " 1   end_time          datetime64[ns] \n",
      " 2   start_station_id  object         \n",
      " 3   end_station_id    object         \n",
      " 4   usertype          object         \n",
      " 5   start_lat         float64        \n",
      " 6   start_lng         float64        \n",
      " 7   end_lat           float64        \n",
      " 8   end_lng           float64        \n",
      " 9   tripduration      timedelta64[ns]\n",
      " 10  rideable_type     object         \n",
      " 11  month             int64          \n",
      " 12  year              int64          \n",
      "dtypes: datetime64[ns](2), float64(4), int64(2), object(4), timedelta64[ns](1)\n",
      "memory usage: 1.3+ GB\n"
     ]
    }
   ],
   "source": [
    "bigData.info()"
   ]
  },
  {
   "cell_type": "code",
   "execution_count": 26,
   "metadata": {},
   "outputs": [],
   "source": [
    "def pctLongRides(cutoff,mTemp,cTemp,mTotal, cTotal):\n",
    "    # input - cutoff = hour value - how many rides were N hours long (2-3, 3-4, etc)\n",
    "    # mTemp, cTemp = dfs with the values for member and customers\n",
    "    # mTotal, cTotal = the N of all rides for each user category\n",
    "    #\n",
    "    # output: the number of rides of a given time duration for M and C users, as well as the percent of all rides each represents\n",
    "    mLong = mTemp[(mTemp['tripduration'] > pd.Timedelta(cutoff  ,unit='h') ) &\n",
    "                    (mTemp['tripduration'] < pd.Timedelta(cutoff+1,unit='h') ) ]\n",
    "    #mStartFin = mLong.loc[ (mLong['start_lat'] == mLong['end_lat']) & (mLong['start_lng'] == mLong['end_lng']) ]\n",
    "    #the StartFin number shows the N of bikes taken and returned to the same station, a use pattern that might be common for tourists\n",
    "\n",
    "    cLong = cTemp[(cTemp['tripduration'] > pd.Timedelta(cutoff  ,unit='h') ) &\n",
    "                    (cTemp['tripduration'] < pd.Timedelta(cutoff+1,unit='h') ) ]\n",
    "    #cStartFin = cLong.loc[ (cLong['start_lat'] == cLong['end_lat']) & (cLong['start_lng'] == cLong['end_lng']) ]\n",
    "\n",
    "#    return len(mLong), round(len(mLong)/mTotal,3), len(cLong), round(len(cLong)/cTotal,3)\n",
    "    return len(mLong), len(mLong)/mTotal, len(cLong), len(cLong)/cTotal\n"
   ]
  },
  {
   "cell_type": "code",
   "execution_count": 16,
   "metadata": {},
   "outputs": [
    {
     "data": {
      "text/plain": [
       "member        5195977\n",
       "casual        3870005\n",
       "Subscriber    2937340\n",
       "Customer       880625\n",
       "Name: usertype, dtype: int64"
      ]
     },
     "execution_count": 16,
     "metadata": {},
     "output_type": "execute_result"
    }
   ],
   "source": [
    "bigData['usertype'].value_counts()"
   ]
  },
  {
   "cell_type": "code",
   "execution_count": 17,
   "metadata": {},
   "outputs": [],
   "source": [
    "bigData['usertype'].replace(['Subscriber','Customer'],['member','casual'],inplace = True)"
   ]
  },
  {
   "cell_type": "code",
   "execution_count": 18,
   "metadata": {},
   "outputs": [
    {
     "data": {
      "text/plain": [
       "member    8133317\n",
       "casual    4750630\n",
       "Name: usertype, dtype: int64"
      ]
     },
     "execution_count": 18,
     "metadata": {},
     "output_type": "execute_result"
    }
   ],
   "source": [
    "bigData['usertype'].value_counts()"
   ]
  },
  {
   "cell_type": "code",
   "execution_count": 36,
   "metadata": {},
   "outputs": [],
   "source": [
    "mTemp = bigData[bigData['usertype']=='member']\n",
    "cTemp = bigData[bigData['usertype']=='casual']\n",
    "\n",
    "hours = []\n",
    "NmLong, pctMLong, NcLong, pctCLong  = [],[],[],[]\n",
    "for i in range(1,8):\n",
    "    a,b,c,d = pctLongRides(i,mTemp,cTemp,len(mTemp),len(cTemp))\n",
    "    hours.append(i)\n",
    "    NmLong.append(a)\n",
    "    pctMLong.append(b*100)\n",
    "    NcLong.append(c)\n",
    "    pctCLong.append(d*100)"
   ]
  },
  {
   "cell_type": "code",
   "execution_count": 21,
   "metadata": {},
   "outputs": [
    {
     "data": {
      "image/png": "[encoded data removed]",
      "text/plain": [
       "<Figure size 1224x720 with 1 Axes>"
      ]
     },
     "metadata": {
      "needs_background": "light"
     },
     "output_type": "display_data"
    }
   ],
   "source": [
    "compare = pd.DataFrame({\n",
    "    '# Member'  : NmLong,\n",
    "    '% Member': pctMLong,\n",
    "    '# Casual'  : NcLong,\n",
    "    '% Casual': pctCLong\n",
    "})\n",
    "\n",
    "#ax = plt.gca()\n",
    "ax = compare[['# Member','# Casual']].plot(kind = 'bar',figsize=(17,10))\n",
    "plt.ylabel('Number of Long Rides (log scale)')\n",
    "plt.yscale('log')\n",
    "compare[['% Member','% Casual']].plot(kind = 'line',secondary_y = True,ax=ax)\n",
    "plt.ylabel('Percent of long rides')\n",
    "\n",
    "ax.set_xticklabels(hours)\n",
    "plt.xticks(rotation=0,horizontalalignment = 'center')\n",
    "plt.xlabel('Ride length (hours)')\n",
    "title = 'Comparison of number / percent of long rides '\n",
    "plt.title(title)\n",
    "\n",
    "ax.grid(axis='y')\n",
    "plt.show()"
   ]
  },
  {
   "cell_type": "code",
   "execution_count": 42,
   "metadata": {},
   "outputs": [
    {
     "data": {
      "image/png": "[encoded data removed]",
      "text/plain": [
       "<Figure size 576x360 with 2 Axes>"
      ]
     },
     "metadata": {
      "needs_background": "light"
     },
     "output_type": "display_data"
    }
   ],
   "source": [
    "compare = pd.DataFrame({\n",
    "    '# Member'  : NmLong,\n",
    "    '% Member': pctMLong,\n",
    "    '# Casual'  : NcLong,\n",
    "    '% Casual': pctCLong\n",
    "})\n",
    "\n",
    "#ax = plt.gca()\n",
    "ax = compare[['# Member','# Casual']].plot(kind = 'bar',figsize=(8,5))\n",
    "plt.ylabel('Number of Rides (log scale)')\n",
    "plt.yscale('log')\n",
    "compare[['% Member','% Casual']].plot(kind = 'line',secondary_y = True,ax=ax)\n",
    "plt.ylabel('Pct of all rides')\n",
    "\n",
    "ax.set_xticklabels(hours)\n",
    "plt.xticks(rotation=0,horizontalalignment = 'center')\n",
    "plt.xlabel('Ride length (hours)')\n",
    "\n",
    "title = 'Number/pct of Rides for given time duration'\n",
    "plt.title(title)\n",
    "\n",
    "ax.grid(axis='y')\n",
    "plt.show()"
   ]
  },
  {
   "cell_type": "code",
   "execution_count": 38,
   "metadata": {},
   "outputs": [
    {
     "data": {
      "text/html": [
       "<div>\n",
       "<style scoped>\n",
       "    .dataframe tbody tr th:only-of-type {\n",
       "        vertical-align: middle;\n",
       "    }\n",
       "\n",
       "    .dataframe tbody tr th {\n",
       "        vertical-align: top;\n",
       "    }\n",
       "\n",
       "    .dataframe thead th {\n",
       "        text-align: right;\n",
       "    }\n",
       "</style>\n",
       "<table border=\"1\" class=\"dataframe\">\n",
       "  <thead>\n",
       "    <tr style=\"text-align: right;\">\n",
       "      <th></th>\n",
       "      <th># Member</th>\n",
       "      <th>% Member</th>\n",
       "      <th># Casual</th>\n",
       "      <th>% Casual</th>\n",
       "    </tr>\n",
       "  </thead>\n",
       "  <tbody>\n",
       "    <tr>\n",
       "      <th>0</th>\n",
       "      <td>40369</td>\n",
       "      <td>0.496341</td>\n",
       "      <td>418511</td>\n",
       "      <td>8.809589</td>\n",
       "    </tr>\n",
       "    <tr>\n",
       "      <th>1</th>\n",
       "      <td>5964</td>\n",
       "      <td>0.073328</td>\n",
       "      <td>101215</td>\n",
       "      <td>2.130560</td>\n",
       "    </tr>\n",
       "    <tr>\n",
       "      <th>2</th>\n",
       "      <td>2889</td>\n",
       "      <td>0.035521</td>\n",
       "      <td>23561</td>\n",
       "      <td>0.495955</td>\n",
       "    </tr>\n",
       "    <tr>\n",
       "      <th>3</th>\n",
       "      <td>1106</td>\n",
       "      <td>0.013598</td>\n",
       "      <td>7582</td>\n",
       "      <td>0.159600</td>\n",
       "    </tr>\n",
       "    <tr>\n",
       "      <th>4</th>\n",
       "      <td>654</td>\n",
       "      <td>0.008041</td>\n",
       "      <td>3534</td>\n",
       "      <td>0.074390</td>\n",
       "    </tr>\n",
       "    <tr>\n",
       "      <th>5</th>\n",
       "      <td>416</td>\n",
       "      <td>0.005115</td>\n",
       "      <td>2149</td>\n",
       "      <td>0.045236</td>\n",
       "    </tr>\n",
       "    <tr>\n",
       "      <th>6</th>\n",
       "      <td>578</td>\n",
       "      <td>0.007107</td>\n",
       "      <td>1822</td>\n",
       "      <td>0.038353</td>\n",
       "    </tr>\n",
       "  </tbody>\n",
       "</table>\n",
       "</div>"
      ],
      "text/plain": [
       "   # Member  % Member  # Casual  % Casual\n",
       "0     40369  0.496341    418511  8.809589\n",
       "1      5964  0.073328    101215  2.130560\n",
       "2      2889  0.035521     23561  0.495955\n",
       "3      1106  0.013598      7582  0.159600\n",
       "4       654  0.008041      3534  0.074390\n",
       "5       416  0.005115      2149  0.045236\n",
       "6       578  0.007107      1822  0.038353"
      ]
     },
     "execution_count": 38,
     "metadata": {},
     "output_type": "execute_result"
    }
   ],
   "source": [
    "compare"
   ]
  },
  {
   "cell_type": "markdown",
   "metadata": {},
   "source": [
    "The above routine calculates the N & pct of rides in a given range. It isn't clear how what the cumulative values are. That is, at what point are 99% of rides accounted for?\n",
    "\n",
    "To determine this, let's look at the cumulative values. How many rides are greater than 1? than 2? than 3? This means that we will double count: the N > 1 will be the sum of all the values >2, plus the interval of 1-2. Still, this cumulative calucation makes it easier to see when we've got to a 99% value."
   ]
  },
  {
   "cell_type": "code",
   "execution_count": 43,
   "metadata": {},
   "outputs": [
    {
     "data": {
      "text/html": [
       "<div>\n",
       "<style scoped>\n",
       "    .dataframe tbody tr th:only-of-type {\n",
       "        vertical-align: middle;\n",
       "    }\n",
       "\n",
       "    .dataframe tbody tr th {\n",
       "        vertical-align: top;\n",
       "    }\n",
       "\n",
       "    .dataframe thead th {\n",
       "        text-align: right;\n",
       "    }\n",
       "</style>\n",
       "<table border=\"1\" class=\"dataframe\">\n",
       "  <thead>\n",
       "    <tr style=\"text-align: right;\">\n",
       "      <th></th>\n",
       "      <th># Member</th>\n",
       "      <th>% Member</th>\n",
       "      <th># Casual</th>\n",
       "      <th>% Casual</th>\n",
       "    </tr>\n",
       "  </thead>\n",
       "  <tbody>\n",
       "    <tr>\n",
       "      <th>0</th>\n",
       "      <td>55897</td>\n",
       "      <td>0.687260</td>\n",
       "      <td>576853</td>\n",
       "      <td>12.142663</td>\n",
       "    </tr>\n",
       "    <tr>\n",
       "      <th>1</th>\n",
       "      <td>15527</td>\n",
       "      <td>0.190906</td>\n",
       "      <td>158291</td>\n",
       "      <td>3.332000</td>\n",
       "    </tr>\n",
       "    <tr>\n",
       "      <th>2</th>\n",
       "      <td>9563</td>\n",
       "      <td>0.117578</td>\n",
       "      <td>57065</td>\n",
       "      <td>1.201209</td>\n",
       "    </tr>\n",
       "    <tr>\n",
       "      <th>3</th>\n",
       "      <td>6674</td>\n",
       "      <td>0.082058</td>\n",
       "      <td>33501</td>\n",
       "      <td>0.705191</td>\n",
       "    </tr>\n",
       "    <tr>\n",
       "      <th>4</th>\n",
       "      <td>5567</td>\n",
       "      <td>0.068447</td>\n",
       "      <td>25918</td>\n",
       "      <td>0.545570</td>\n",
       "    </tr>\n",
       "    <tr>\n",
       "      <th>5</th>\n",
       "      <td>4913</td>\n",
       "      <td>0.060406</td>\n",
       "      <td>22383</td>\n",
       "      <td>0.471159</td>\n",
       "    </tr>\n",
       "    <tr>\n",
       "      <th>6</th>\n",
       "      <td>4496</td>\n",
       "      <td>0.055279</td>\n",
       "      <td>20234</td>\n",
       "      <td>0.425922</td>\n",
       "    </tr>\n",
       "  </tbody>\n",
       "</table>\n",
       "</div>"
      ],
      "text/plain": [
       "   # Member  % Member  # Casual   % Casual\n",
       "0     55897  0.687260    576853  12.142663\n",
       "1     15527  0.190906    158291   3.332000\n",
       "2      9563  0.117578     57065   1.201209\n",
       "3      6674  0.082058     33501   0.705191\n",
       "4      5567  0.068447     25918   0.545570\n",
       "5      4913  0.060406     22383   0.471159\n",
       "6      4496  0.055279     20234   0.425922"
      ]
     },
     "execution_count": 43,
     "metadata": {},
     "output_type": "execute_result"
    }
   ],
   "source": [
    "def pctLongRidesCumulative(cutoff,mTemp,cTemp,mTotal, cTotal):\n",
    "    # input - cutoff = hour value - how many rides were N hours long (2-3, 3-4, etc)\n",
    "    # mTemp, cTemp = dfs with the values for member and customers\n",
    "    # mTotal, cTotal = the N of all rides for each user category\n",
    "    #\n",
    "    # output: the number of rides of a given time duration for M and C users, as well as the percent of all rides each represents\n",
    "    mLong = mTemp[(mTemp['tripduration'] > pd.Timedelta(cutoff  ,unit='h') ) ]\n",
    "    cLong = cTemp[(cTemp['tripduration'] > pd.Timedelta(cutoff  ,unit='h') ) ]\n",
    "    \n",
    "    return len(mLong), len(mLong)/mTotal, len(cLong), len(cLong)/cTotal\n",
    "\n",
    "hours = []\n",
    "NmLong, pctMLong, NcLong, pctCLong  = [],[],[],[]\n",
    "for i in range(1,8):\n",
    "    a,b,c,d = pctLongRidesCumulative(i,mTemp,cTemp,len(mTemp),len(cTemp))\n",
    "    hours.append(i)\n",
    "    NmLong.append(a)\n",
    "    pctMLong.append(b*100)\n",
    "    NcLong.append(c)\n",
    "    pctCLong.append(d*100)\n",
    "\n",
    "compare = pd.DataFrame({\n",
    "    '# Member'  : NmLong,\n",
    "    '% Member': pctMLong,\n",
    "    '# Casual'  : NcLong,\n",
    "    '% Casual': pctCLong\n",
    "})\n",
    "\n",
    "compare"
   ]
  },
  {
   "cell_type": "code",
   "execution_count": 48,
   "metadata": {},
   "outputs": [
    {
     "data": {
      "text/plain": [
       "99.313"
      ]
     },
     "execution_count": 48,
     "metadata": {},
     "output_type": "execute_result"
    }
   ],
   "source": [
    "100-0.687"
   ]
  },
  {
   "cell_type": "code",
   "execution_count": 46,
   "metadata": {},
   "outputs": [
    {
     "data": {
      "image/png": "[encoded data removed]",
      "text/plain": [
       "<Figure size 576x360 with 2 Axes>"
      ]
     },
     "metadata": {
      "needs_background": "light"
     },
     "output_type": "display_data"
    }
   ],
   "source": [
    "ax = compare[['# Member','# Casual']].plot(kind = 'bar',figsize=(8,5))\n",
    "plt.ylabel('Number of Rides (log scale)')\n",
    "plt.yscale('log')\n",
    "compare[['% Member','% Casual']].plot(kind = 'line',secondary_y = True,ax=ax)\n",
    "plt.ylabel('Pct of all rides')\n",
    "\n",
    "ax.set_xticklabels(hours)\n",
    "plt.xticks(rotation=0,horizontalalignment = 'center')\n",
    "plt.xlabel('Ride length (hours)')\n",
    "\n",
    "title = 'Number/pct of Rides > given Time Duration'\n",
    "plt.title(title)\n",
    "\n",
    "ax.grid(axis='y')\n",
    "plt.show()"
   ]
  },
  {
   "cell_type": "markdown",
   "metadata": {},
   "source": [
    "How many cascual users take advantage of Divvy's 30 minute ride option?"
   ]
  },
  {
   "cell_type": "code",
   "execution_count": 51,
   "metadata": {},
   "outputs": [
    {
     "name": "stdout",
     "output_type": "stream",
     "text": [
      "1442129 30.356584284610673\n"
     ]
    }
   ],
   "source": [
    "ridesLess30Min = len(cTemp[(cTemp['tripduration'] > pd.Timedelta(0.5  ,unit='h') ) ])\n",
    "print(ridesLess30Min,ridesLess30Min/len(cTemp)*100)"
   ]
  },
  {
   "cell_type": "code",
   "execution_count": 58,
   "metadata": {},
   "outputs": [
    {
     "data": {
      "text/plain": [
       "2021    5593819\n",
       "2019    3817965\n",
       "2020    3472163\n",
       "Name: year, dtype: int64"
      ]
     },
     "execution_count": 58,
     "metadata": {},
     "output_type": "execute_result"
    }
   ],
   "source": [
    "bigData['year'].value_counts()"
   ]
  },
  {
   "cell_type": "code",
   "execution_count": 61,
   "metadata": {},
   "outputs": [
    {
     "name": "stdout",
     "output_type": "stream",
     "text": [
      "2019 count                       880625\n",
      "mean     0 days 00:57:01.095361816\n",
      "std      0 days 15:27:00.303666046\n",
      "min                0 days 00:01:01\n",
      "25%                0 days 00:15:15\n",
      "50%                0 days 00:25:50\n",
      "75%                0 days 00:45:18\n",
      "max              123 days 01:20:22\n",
      "Name: tripduration, dtype: object\n",
      "2020 count                      1341547\n",
      "mean     0 days 00:47:25.715686442\n",
      "std      0 days 08:19:58.810059402\n",
      "min                0 days 00:00:00\n",
      "25%                0 days 00:11:46\n",
      "50%                0 days 00:21:33\n",
      "75%                0 days 00:40:49\n",
      "max              108 days 15:30:24\n",
      "Name: tripduration, dtype: object\n",
      "2021 count                      2528458\n",
      "mean     0 days 00:32:00.191934768\n",
      "std      0 days 04:23:10.302644419\n",
      "min                0 days 00:00:00\n",
      "25%                0 days 00:09:04\n",
      "50%                0 days 00:15:58\n",
      "75%                0 days 00:29:17\n",
      "max               38 days 20:24:09\n",
      "Name: tripduration, dtype: object\n"
     ]
    }
   ],
   "source": [
    "for year in [2019,2020,2021]:\n",
    "    tempDF = bigData[bigData['year'] == year]\n",
    "    print(year,tempDF[tempDF['usertype'] == 'casual']['tripduration'].describe())\n"
   ]
  },
  {
   "cell_type": "code",
   "execution_count": 62,
   "metadata": {},
   "outputs": [
    {
     "name": "stdout",
     "output_type": "stream",
     "text": [
      "2019 count                      2937340\n",
      "mean     0 days 00:14:19.668302273\n",
      "std      0 days 04:12:24.351861691\n",
      "min                0 days 00:01:01\n",
      "25%                0 days 00:06:02\n",
      "50%                0 days 00:09:48\n",
      "75%                0 days 00:16:07\n",
      "max              104 days 19:43:54\n",
      "Name: tripduration, dtype: object\n",
      "2020 count                      2130616\n",
      "mean     0 days 00:15:44.893617620\n",
      "std      0 days 02:11:51.379146211\n",
      "min                0 days 00:00:00\n",
      "25%                0 days 00:06:21\n",
      "50%                0 days 00:11:06\n",
      "75%                0 days 00:19:26\n",
      "max               65 days 03:13:31\n",
      "Name: tripduration, dtype: object\n",
      "2021 count                      3065361\n",
      "mean     0 days 00:13:38.015933523\n",
      "std      0 days 00:27:42.448698235\n",
      "min                0 days 00:00:00\n",
      "25%                0 days 00:05:34\n",
      "50%                0 days 00:09:36\n",
      "75%                0 days 00:16:36\n",
      "max                1 days 01:59:56\n",
      "Name: tripduration, dtype: object\n"
     ]
    }
   ],
   "source": [
    "for year in [2019,2020,2021]:\n",
    "    tempDF = bigData[bigData['year'] == year]\n",
    "    print(year,tempDF[tempDF['usertype'] == 'member']['tripduration'].describe())"
   ]
  },
  {
   "cell_type": "code",
   "execution_count": 6,
   "metadata": {},
   "outputs": [
    {
     "data": {
      "text/plain": [
       "classic_bike     6538112\n",
       "electric_bike    2527870\n",
       "Name: rideable_type, dtype: int64"
      ]
     },
     "execution_count": 6,
     "metadata": {},
     "output_type": "execute_result"
    }
   ],
   "source": [
    "bigData['rideable_type'].value_counts()"
   ]
  }
 ],
 "metadata": {
  "kernelspec": {
   "display_name": "Python 3.10.6 64-bit",
   "language": "python",
   "name": "python3"
  },
  "language_info": {
   "codemirror_mode": {
    "name": "ipython",
    "version": 3
   },
   "file_extension": ".py",
   "mimetype": "text/x-python",
   "name": "python",
   "nbconvert_exporter": "python",
   "pygments_lexer": "ipython3",
   "version": "3.10.6"
  },
  "orig_nbformat": 4,
  "vscode": {
   "interpreter": {
    "hash": "916dbcbb3f70747c44a77c7bcd40155683ae19c65e1c03b4aa3499c5328201f1"
   }
  }
 },
 "nbformat": 4,
 "nbformat_minor": 2
}
