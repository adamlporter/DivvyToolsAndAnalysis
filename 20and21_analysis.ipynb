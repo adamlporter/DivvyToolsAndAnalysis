{
 "cells": [
  {
   "cell_type": "code",
   "execution_count": null,
   "metadata": {},
   "outputs": [],
   "source": [
    "import pandas as pd\n",
    "import matplotlib.pyplot as plt\n",
    "%matplotlib inline  "
   ]
  },
  {
   "cell_type": "code",
   "execution_count": null,
   "metadata": {},
   "outputs": [],
   "source": [
    "def getData(year,months=['01','02','03','04','05','06','07','08','09','10','11','12']):\n",
    "    # procedure accepts year (as string) and optional list of months (strings) for which to retreive data\n",
    "    # will return a df with the DIVVY data for that year and month(s)\n",
    "    import pandas as pd\n",
    "\n",
    "    if not isinstance(year,str):\n",
    "    year = str(year)\n",
    "\n",
    "    if not isinstance(months,list):\n",
    "        months = [months]\n",
    "\n",
    "    if int(year) >= 2020:\n",
    "        workDir = '/home/alp/Google Drive/Python/DataSets/Data_Divvy/'\n",
    "    else:\n",
    "        workDir = '/home/alp/Google Drive/Python/DataSets/Data_Divvy/pre2020/'\n",
    "\n",
    "    fileName = year + months[0] + '-divvy-tripdata.json'\n",
    "    print(fileName)\n",
    "    retData = pd.read_json(workDir+fileName,orient='index')\n",
    "\n",
    "    if len(months) > 0:\n",
    "        for month in months[1:]:\n",
    "                fileName = year + month + '-divvy-tripdata.json'\n",
    "                print(fileName)\n",
    "                newData = pd.read_json(workDir+fileName,orient='index')\n",
    "                retData = pd.concat([retData,newData])\n",
    "\n",
    "    return retData"
   ]
  },
  {
   "cell_type": "code",
   "execution_count": null,
   "metadata": {},
   "outputs": [],
   "source": [
    "data20 = getData('2020')\n",
    "data20.shape"
   ]
  },
  {
   "cell_type": "code",
   "execution_count": null,
   "metadata": {},
   "outputs": [],
   "source": [
    "data21 = getData('2021')\n",
    "data21.shape"
   ]
  },
  {
   "cell_type": "code",
   "execution_count": null,
   "metadata": {},
   "outputs": [],
   "source": [
    "data2021 = pd.concat([data20,data21],axis=0)\n",
    "data2021.drop(columns=['ride_id', 'start_station_name', 'start_station_id', 'end_station_name',\n",
    "       'end_station_id'],inplace=True)\n",
    "data2021.rename(columns={'started_at':'start_time','ended_at':'end_time','member_casual':'usertype'},inplace=True)\n",
    "data2021['tripduration'] = data21['end_time'] - data21['start_time']"
   ]
  },
  {
   "cell_type": "code",
   "execution_count": null,
   "metadata": {},
   "outputs": [],
   "source": []
  }
 ],
 "metadata": {
  "kernelspec": {
   "display_name": "Python 3.8.10 64-bit",
   "language": "python",
   "name": "python3"
  },
  "language_info": {
   "name": "python",
   "version": "3.10.4"
  },
  "orig_nbformat": 4,
  "vscode": {
   "interpreter": {
    "hash": "916dbcbb3f70747c44a77c7bcd40155683ae19c65e1c03b4aa3499c5328201f1"
   }
  }
 },
 "nbformat": 4,
 "nbformat_minor": 2
}
