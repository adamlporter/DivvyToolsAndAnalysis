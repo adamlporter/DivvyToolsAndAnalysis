{
 "cells": [
  {
   "cell_type": "code",
   "execution_count": 1,
   "metadata": {},
   "outputs": [],
   "source": [
    "import pandas as pd\n",
    "import matplotlib.pyplot as plt\n",
    "%matplotlib inline  "
   ]
  },
  {
   "cell_type": "code",
   "execution_count": 2,
   "metadata": {},
   "outputs": [],
   "source": [
    "def getData(year,months=['01','02','03','04','05','06','07','08','09','10','11','12']):\n",
    "    # procedure accepts year (as string) and optional list of months (strings) for which to retreive data\n",
    "    # will return a df with the DIVVY data for that year and month(s)\n",
    "    import pandas as pd\n",
    "\n",
    "    if not isinstance(year,str):\n",
    "        year = str(year)\n",
    "\n",
    "    if not isinstance(months,list):\n",
    "        months = [months]\n",
    "\n",
    "    if int(year) >= 2020:\n",
    "        workDir = '/home/alp/Google Drive/Python/DataSets/Data_Divvy/'\n",
    "    else:\n",
    "        workDir = '/home/alp/Google Drive/Python/DataSets/Data_Divvy/pre2020/'\n",
    "\n",
    "    fileName = year + months[0] + '-divvy-tripdata.json'\n",
    "    print(fileName)\n",
    "    retData = pd.read_json(workDir+fileName,orient='index')\n",
    "\n",
    "    if len(months) > 0:\n",
    "        for month in months[1:]:\n",
    "                fileName = year + month + '-divvy-tripdata.json'\n",
    "                print(fileName)\n",
    "                newData = pd.read_json(workDir+fileName,orient='index')\n",
    "                retData = pd.concat([retData,newData])\n",
    "\n",
    "    return retData"
   ]
  },
  {
   "cell_type": "code",
   "execution_count": 3,
   "metadata": {},
   "outputs": [
    {
     "name": "stdout",
     "output_type": "stream",
     "text": [
      "201901-divvy-tripdata.json\n",
      "201902-divvy-tripdata.json\n",
      "201903-divvy-tripdata.json\n",
      "201904-divvy-tripdata.json\n",
      "201905-divvy-tripdata.json\n",
      "201906-divvy-tripdata.json\n",
      "201907-divvy-tripdata.json\n",
      "201908-divvy-tripdata.json\n",
      "201909-divvy-tripdata.json\n",
      "201910-divvy-tripdata.json\n",
      "201911-divvy-tripdata.json\n",
      "201912-divvy-tripdata.json\n"
     ]
    },
    {
     "data": {
      "text/plain": [
       "(3818004, 16)"
      ]
     },
     "execution_count": 3,
     "metadata": {},
     "output_type": "execute_result"
    }
   ],
   "source": [
    "data19 = getData('2019')\n",
    "data19.shape"
   ]
  },
  {
   "cell_type": "code",
   "execution_count": 4,
   "metadata": {},
   "outputs": [],
   "source": [
    "data19.drop(columns = ['trip_id', 'bikeid', 'from_station_name',\n",
    "       'to_station_name', 'gender', 'birthyear','tripduration'],inplace=True)\n",
    "data19['tripduration'] = data19['end_time'] - data19['start_time']\n",
    "data19.drop(data19[data19['tripduration'] < '0:00:00'].index, inplace=True)"
   ]
  },
  {
   "cell_type": "code",
   "execution_count": 5,
   "metadata": {},
   "outputs": [],
   "source": [
    "data19.rename(columns={'from_station_id':'start_station_id','to_station_id':'end_station_id'},inplace=True)"
   ]
  },
  {
   "cell_type": "code",
   "execution_count": 19,
   "metadata": {},
   "outputs": [
    {
     "name": "stdout",
     "output_type": "stream",
     "text": [
      "202001-divvy-tripdata.json\n",
      "202002-divvy-tripdata.json\n",
      "202003-divvy-tripdata.json\n",
      "202004-divvy-tripdata.json\n",
      "202005-divvy-tripdata.json\n",
      "202006-divvy-tripdata.json\n",
      "202007-divvy-tripdata.json\n",
      "202008-divvy-tripdata.json\n",
      "202009-divvy-tripdata.json\n",
      "202010-divvy-tripdata.json\n",
      "202011-divvy-tripdata.json\n",
      "202012-divvy-tripdata.json\n"
     ]
    }
   ],
   "source": [
    "data20 = getData('2020')"
   ]
  },
  {
   "cell_type": "code",
   "execution_count": 20,
   "metadata": {},
   "outputs": [],
   "source": [
    "data20.drop(columns=['ride_id', 'rideable_type', 'start_station_name', 'end_station_name'],inplace=True)\n",
    "data20.rename(columns={'started_at':'start_time','ended_at':'end_time','member_casual':'usertype'},inplace=True)\n",
    "data20['tripduration'] = data20['end_time'] - data20['start_time']\n",
    "data20.drop(data20[data20['tripduration'] < '0:00:00'].index, inplace=True)"
   ]
  },
  {
   "cell_type": "code",
   "execution_count": 3,
   "metadata": {},
   "outputs": [
    {
     "name": "stdout",
     "output_type": "stream",
     "text": [
      "202101-divvy-tripdata.json\n",
      "202102-divvy-tripdata.json\n",
      "202103-divvy-tripdata.json\n",
      "202104-divvy-tripdata.json\n",
      "202105-divvy-tripdata.json\n",
      "202106-divvy-tripdata.json\n",
      "202107-divvy-tripdata.json\n",
      "202108-divvy-tripdata.json\n",
      "202109-divvy-tripdata.json\n",
      "202110-divvy-tripdata.json\n",
      "202111-divvy-tripdata.json\n",
      "202112-divvy-tripdata.json\n"
     ]
    }
   ],
   "source": [
    "data21 = getData('2021')\n",
    "data21.drop(columns=['ride_id', 'start_station_name', 'end_station_name'],inplace=True) # 'rideable_type',\n",
    "data21.rename(columns={'started_at':'start_time','ended_at':'end_time','member_casual':'usertype'},inplace=True)\n",
    "data21['tripduration'] = data21['end_time'] - data21['start_time']\n",
    "data21.drop(data21[data21['tripduration'] < '0:00:00'].index, inplace=True)"
   ]
  },
  {
   "cell_type": "code",
   "execution_count": 22,
   "metadata": {},
   "outputs": [
    {
     "name": "stdout",
     "output_type": "stream",
     "text": [
      "<class 'pandas.core.frame.DataFrame'>\n",
      "Int64Index: 12883947 entries, 0 to 247539\n",
      "Data columns (total 10 columns):\n",
      " #   Column            Dtype          \n",
      "---  ------            -----          \n",
      " 0   start_time        datetime64[ns] \n",
      " 1   end_time          datetime64[ns] \n",
      " 2   start_station_id  object         \n",
      " 3   end_station_id    object         \n",
      " 4   usertype          object         \n",
      " 5   start_lat         float64        \n",
      " 6   start_lng         float64        \n",
      " 7   end_lat           float64        \n",
      " 8   end_lng           float64        \n",
      " 9   tripduration      timedelta64[ns]\n",
      "dtypes: datetime64[ns](2), float64(4), object(3), timedelta64[ns](1)\n",
      "memory usage: 1.1+ GB\n"
     ]
    }
   ],
   "source": [
    "bigData = pd.concat([data19,data20,data21],axis=0)\n",
    "bigData['usertype'].replace(['Subscriber','Customer'],['member','casual'],inplace = True)"
   ]
  },
  {
   "cell_type": "code",
   "execution_count": 5,
   "metadata": {},
   "outputs": [],
   "source": [
    "data21['usertype'].replace(['Subscriber','Customer'],['member','casual'],inplace = True)\n",
    "data21['month'] = pd.DatetimeIndex(data21['start_time']).month\n",
    "data21['year'] = pd.DatetimeIndex(data21['start_time']).year\n",
    "# DELETE THIS CELL (Test for mapping problem in other tab)"
   ]
  },
  {
   "cell_type": "code",
   "execution_count": 23,
   "metadata": {},
   "outputs": [],
   "source": [
    "bigData['month'] = pd.DatetimeIndex(bigData['start_time']).month\n",
    "bigData['year'] = pd.DatetimeIndex(bigData['start_time']).year"
   ]
  },
  {
   "cell_type": "markdown",
   "metadata": {},
   "source": [
    "What are the busiest stations in 2019?"
   ]
  },
  {
   "cell_type": "code",
   "execution_count": 6,
   "metadata": {},
   "outputs": [
    {
     "name": "stdout",
     "output_type": "stream",
     "text": [
      "<class 'pandas.core.frame.DataFrame'>\n",
      "RangeIndex: 15 entries, 0 to 14\n",
      "Data columns (total 2 columns):\n",
      " #   Column            Non-Null Count  Dtype \n",
      "---  ------            --------------  ----- \n",
      " 0   index             15 non-null     object\n",
      " 1   start_station_id  15 non-null     int64 \n",
      "dtypes: int64(1), object(1)\n",
      "memory usage: 368.0+ bytes\n"
     ]
    }
   ],
   "source": [
    "#DELETE THIS CELL (test for mapping problem)\n",
    "busy_stations = data21['start_station_id'].value_counts().head(15).to_frame().reset_index()\n",
    "busy_stations.info()"
   ]
  },
  {
   "cell_type": "code",
   "execution_count": 24,
   "metadata": {},
   "outputs": [
    {
     "name": "stdout",
     "output_type": "stream",
     "text": [
      "<class 'pandas.core.frame.DataFrame'>\n",
      "RangeIndex: 15 entries, 0 to 14\n",
      "Data columns (total 2 columns):\n",
      " #   Column            Non-Null Count  Dtype\n",
      "---  ------            --------------  -----\n",
      " 0   index             15 non-null     int64\n",
      " 1   start_station_id  15 non-null     int64\n",
      "dtypes: int64(2)\n",
      "memory usage: 368.0 bytes\n"
     ]
    }
   ],
   "source": [
    "temp = bigData[bigData['year'] == 2019]\n",
    "busy_stations = temp['start_station_id'].value_counts().head(15).to_frame().reset_index()\n",
    "busy_stations.info()"
   ]
  },
  {
   "cell_type": "code",
   "execution_count": 7,
   "metadata": {},
   "outputs": [
    {
     "data": {
      "text/html": [
       "<div>\n",
       "<style scoped>\n",
       "    .dataframe tbody tr th:only-of-type {\n",
       "        vertical-align: middle;\n",
       "    }\n",
       "\n",
       "    .dataframe tbody tr th {\n",
       "        vertical-align: top;\n",
       "    }\n",
       "\n",
       "    .dataframe thead th {\n",
       "        text-align: right;\n",
       "    }\n",
       "</style>\n",
       "<table border=\"1\" class=\"dataframe\">\n",
       "  <thead>\n",
       "    <tr style=\"text-align: right;\">\n",
       "      <th></th>\n",
       "      <th>start_station_id</th>\n",
       "      <th>count</th>\n",
       "    </tr>\n",
       "  </thead>\n",
       "  <tbody>\n",
       "    <tr>\n",
       "      <th>0</th>\n",
       "      <td>13022</td>\n",
       "      <td>82698</td>\n",
       "    </tr>\n",
       "    <tr>\n",
       "      <th>1</th>\n",
       "      <td>LF-005</td>\n",
       "      <td>47914</td>\n",
       "    </tr>\n",
       "    <tr>\n",
       "      <th>2</th>\n",
       "      <td>13300</td>\n",
       "      <td>46139</td>\n",
       "    </tr>\n",
       "    <tr>\n",
       "      <th>3</th>\n",
       "      <td>13042</td>\n",
       "      <td>44343</td>\n",
       "    </tr>\n",
       "    <tr>\n",
       "      <th>4</th>\n",
       "      <td>TA1308000050</td>\n",
       "      <td>43602</td>\n",
       "    </tr>\n",
       "    <tr>\n",
       "      <th>5</th>\n",
       "      <td>13008</td>\n",
       "      <td>42220</td>\n",
       "    </tr>\n",
       "    <tr>\n",
       "      <th>6</th>\n",
       "      <td>TA1307000039</td>\n",
       "      <td>41212</td>\n",
       "    </tr>\n",
       "    <tr>\n",
       "      <th>7</th>\n",
       "      <td>KA1504000135</td>\n",
       "      <td>37684</td>\n",
       "    </tr>\n",
       "    <tr>\n",
       "      <th>8</th>\n",
       "      <td>TA1308000001</td>\n",
       "      <td>36834</td>\n",
       "    </tr>\n",
       "    <tr>\n",
       "      <th>9</th>\n",
       "      <td>KA1503000043</td>\n",
       "      <td>33577</td>\n",
       "    </tr>\n",
       "    <tr>\n",
       "      <th>10</th>\n",
       "      <td>13179</td>\n",
       "      <td>33380</td>\n",
       "    </tr>\n",
       "    <tr>\n",
       "      <th>11</th>\n",
       "      <td>13146</td>\n",
       "      <td>32898</td>\n",
       "    </tr>\n",
       "    <tr>\n",
       "      <th>12</th>\n",
       "      <td>TA1307000117</td>\n",
       "      <td>32778</td>\n",
       "    </tr>\n",
       "    <tr>\n",
       "      <th>13</th>\n",
       "      <td>13045</td>\n",
       "      <td>32149</td>\n",
       "    </tr>\n",
       "    <tr>\n",
       "      <th>14</th>\n",
       "      <td>TA1306000012</td>\n",
       "      <td>31414</td>\n",
       "    </tr>\n",
       "  </tbody>\n",
       "</table>\n",
       "</div>"
      ],
      "text/plain": [
       "   start_station_id  count\n",
       "0             13022  82698\n",
       "1            LF-005  47914\n",
       "2             13300  46139\n",
       "3             13042  44343\n",
       "4      TA1308000050  43602\n",
       "5             13008  42220\n",
       "6      TA1307000039  41212\n",
       "7      KA1504000135  37684\n",
       "8      TA1308000001  36834\n",
       "9      KA1503000043  33577\n",
       "10            13179  33380\n",
       "11            13146  32898\n",
       "12     TA1307000117  32778\n",
       "13            13045  32149\n",
       "14     TA1306000012  31414"
      ]
     },
     "execution_count": 7,
     "metadata": {},
     "output_type": "execute_result"
    }
   ],
   "source": [
    "busy_stations.rename(columns={'start_station_id':'count','index':'start_station_id'},inplace=True)\n",
    "busy_stations"
   ]
  },
  {
   "cell_type": "code",
   "execution_count": 8,
   "metadata": {},
   "outputs": [
    {
     "name": "stderr",
     "output_type": "stream",
     "text": [
      "/tmp/ipykernel_167548/367422790.py:3: SettingWithCopyWarning: \n",
      "A value is trying to be set on a copy of a slice from a DataFrame\n",
      "\n",
      "See the caveats in the documentation: https://pandas.pydata.org/pandas-docs/stable/user_guide/indexing.html#returning-a-view-versus-a-copy\n",
      "  station_list.drop(columns=['start_time', 'end_time', 'usertype','tripduration','month','year'],inplace=True)\n"
     ]
    }
   ],
   "source": [
    "# DELTE CELL \n",
    "station_list = data21.drop_duplicates(subset='start_station_id')\n",
    "station_list.drop(columns=['start_time', 'end_time', 'usertype','tripduration','month','year'],inplace=True)\n"
   ]
  },
  {
   "cell_type": "code",
   "execution_count": 41,
   "metadata": {},
   "outputs": [
    {
     "name": "stderr",
     "output_type": "stream",
     "text": [
      "/tmp/ipykernel_8047/3172797893.py:2: SettingWithCopyWarning: \n",
      "A value is trying to be set on a copy of a slice from a DataFrame\n",
      "\n",
      "See the caveats in the documentation: https://pandas.pydata.org/pandas-docs/stable/user_guide/indexing.html#returning-a-view-versus-a-copy\n",
      "  station_list.drop(columns=['start_time', 'end_time', 'usertype','tripduration','month','year'],inplace=True)\n"
     ]
    }
   ],
   "source": [
    "station_list = bigData.drop_duplicates(subset='start_station_id')\n",
    "station_list.drop(columns=['start_time', 'end_time', 'usertype','tripduration','month','year'],inplace=True)\n"
   ]
  },
  {
   "cell_type": "code",
   "execution_count": 11,
   "metadata": {},
   "outputs": [
    {
     "name": "stdout",
     "output_type": "stream",
     "text": [
      "<class 'pandas.core.frame.DataFrame'>\n",
      "Int64Index: 616 entries, 0 to 844636\n",
      "Data columns (total 6 columns):\n",
      " #   Column            Non-Null Count  Dtype  \n",
      "---  ------            --------------  -----  \n",
      " 0   start_station_id  616 non-null    int64  \n",
      " 1   end_station_id    616 non-null    int64  \n",
      " 2   start_lat         609 non-null    float64\n",
      " 3   start_lng         609 non-null    float64\n",
      " 4   end_lat           609 non-null    float64\n",
      " 5   end_lng           609 non-null    float64\n",
      "dtypes: float64(4), int64(2)\n",
      "memory usage: 33.7 KB\n"
     ]
    }
   ],
   "source": [
    "station_list.info()"
   ]
  },
  {
   "cell_type": "code",
   "execution_count": 10,
   "metadata": {},
   "outputs": [],
   "source": [
    "bigData = data21\n",
    "df = bigData[bigData['rideable_type']=='classic_bike']\n",
    "col = 'start_station_id'\n",
    "temp = df\n",
    "busy_stations = temp[col].value_counts().head(20).to_frame().reset_index()\n",
    "busy_stations.rename(columns={col:'count','index':col},inplace=True)\n",
    "bs = busy_stations.merge(station_list,how='left',left_on=col,right_on=['start_station_id'])"
   ]
  },
  {
   "cell_type": "code",
   "execution_count": 15,
   "metadata": {},
   "outputs": [
    {
     "name": "stdout",
     "output_type": "stream",
     "text": [
      "<class 'pandas.core.frame.DataFrame'>\n",
      "Int64Index: 20 entries, 0 to 19\n",
      "Data columns (total 8 columns):\n",
      " #   Column            Non-Null Count  Dtype  \n",
      "---  ------            --------------  -----  \n",
      " 0   start_station_id  20 non-null     object \n",
      " 1   count             20 non-null     int64  \n",
      " 2   rideable_type     20 non-null     object \n",
      " 3   end_station_id    20 non-null     object \n",
      " 4   start_lat         20 non-null     float64\n",
      " 5   start_lng         20 non-null     float64\n",
      " 6   end_lat           20 non-null     float64\n",
      " 7   end_lng           20 non-null     float64\n",
      "dtypes: float64(4), int64(1), object(3)\n",
      "memory usage: 1.4+ KB\n"
     ]
    }
   ],
   "source": [
    "bs.info()"
   ]
  },
  {
   "cell_type": "code",
   "execution_count": null,
   "metadata": {},
   "outputs": [],
   "source": [
    "map = busy_stations.merge(station_list,how='left',on='start_station_id')\n",
    "map"
   ]
  },
  {
   "cell_type": "code",
   "execution_count": 14,
   "metadata": {},
   "outputs": [
    {
     "data": {
      "text/html": [
       "<div style=\"width:100%;\"><div style=\"position:relative;width:100%;height:0;padding-bottom:60%;\"><span style=\"color:#565656\">Make this Notebook Trusted to load map: File -> Trust Notebook</span><iframe srcdoc=\"&lt;!DOCTYPE html&gt;\n",
       "&lt;head&gt;    \n",
       "    &lt;meta http-equiv=&quot;content-type&quot; content=&quot;text/html; charset=UTF-8&quot; /&gt;\n",
       "    \n",
       "        &lt;script&gt;\n",
       "            L_NO_TOUCH = false;\n",
       "            L_DISABLE_3D = false;\n",
       "        &lt;/script&gt;\n",
       "    \n",
       "    &lt;style&gt;html, body {width: 100%;height: 100%;margin: 0;padding: 0;}&lt;/style&gt;\n",
       "    &lt;style&gt;#map {position:absolute;top:0;bottom:0;right:0;left:0;}&lt;/style&gt;\n",
       "    &lt;script src=&quot;https://cdn.jsdelivr.net/npm/leaflet@1.6.0/dist/leaflet.js&quot;&gt;&lt;/script&gt;\n",
       "    &lt;script src=&quot;https://code.jquery.com/jquery-1.12.4.min.js&quot;&gt;&lt;/script&gt;\n",
       "    &lt;script src=&quot;https://maxcdn.bootstrapcdn.com/bootstrap/3.2.0/js/bootstrap.min.js&quot;&gt;&lt;/script&gt;\n",
       "    &lt;script src=&quot;https://cdnjs.cloudflare.com/ajax/libs/Leaflet.awesome-markers/2.0.2/leaflet.awesome-markers.js&quot;&gt;&lt;/script&gt;\n",
       "    &lt;link rel=&quot;stylesheet&quot; href=&quot;https://cdn.jsdelivr.net/npm/leaflet@1.6.0/dist/leaflet.css&quot;/&gt;\n",
       "    &lt;link rel=&quot;stylesheet&quot; href=&quot;https://maxcdn.bootstrapcdn.com/bootstrap/3.2.0/css/bootstrap.min.css&quot;/&gt;\n",
       "    &lt;link rel=&quot;stylesheet&quot; href=&quot;https://maxcdn.bootstrapcdn.com/bootstrap/3.2.0/css/bootstrap-theme.min.css&quot;/&gt;\n",
       "    &lt;link rel=&quot;stylesheet&quot; href=&quot;https://maxcdn.bootstrapcdn.com/font-awesome/4.6.3/css/font-awesome.min.css&quot;/&gt;\n",
       "    &lt;link rel=&quot;stylesheet&quot; href=&quot;https://cdnjs.cloudflare.com/ajax/libs/Leaflet.awesome-markers/2.0.2/leaflet.awesome-markers.css&quot;/&gt;\n",
       "    &lt;link rel=&quot;stylesheet&quot; href=&quot;https://cdn.jsdelivr.net/gh/python-visualization/folium/folium/templates/leaflet.awesome.rotate.min.css&quot;/&gt;\n",
       "    \n",
       "            &lt;meta name=&quot;viewport&quot; content=&quot;width=device-width,\n",
       "                initial-scale=1.0, maximum-scale=1.0, user-scalable=no&quot; /&gt;\n",
       "            &lt;style&gt;\n",
       "                #map_596e72e9abd9f6559dc74c506bd9a24f {\n",
       "                    position: relative;\n",
       "                    width: 100.0%;\n",
       "                    height: 100.0%;\n",
       "                    left: 0.0%;\n",
       "                    top: 0.0%;\n",
       "                }\n",
       "            &lt;/style&gt;\n",
       "        \n",
       "&lt;/head&gt;\n",
       "&lt;body&gt;    \n",
       "    \n",
       "             &lt;h3 align=&quot;center&quot; style=&quot;font-size:16px&quot;&gt;&lt;b&gt;Most popular start (green) and end (red) stations in 2019&lt;/b&gt;&lt;/h3&gt;\n",
       "             \n",
       "    \n",
       "            &lt;div class=&quot;folium-map&quot; id=&quot;map_596e72e9abd9f6559dc74c506bd9a24f&quot; &gt;&lt;/div&gt;\n",
       "        \n",
       "&lt;/body&gt;\n",
       "&lt;script&gt;    \n",
       "    \n",
       "            var map_596e72e9abd9f6559dc74c506bd9a24f = L.map(\n",
       "                &quot;map_596e72e9abd9f6559dc74c506bd9a24f&quot;,\n",
       "                {\n",
       "                    center: [41.903823824095, -87.631090895505],\n",
       "                    crs: L.CRS.EPSG3857,\n",
       "                    zoom: 11,\n",
       "                    zoomControl: true,\n",
       "                    preferCanvas: false,\n",
       "                }\n",
       "            );\n",
       "\n",
       "            \n",
       "\n",
       "        \n",
       "    \n",
       "            var tile_layer_038f46c9840e6c66f05253caf78ab120 = L.tileLayer(\n",
       "                &quot;https://{s}.tile.openstreetmap.org/{z}/{x}/{y}.png&quot;,\n",
       "                {&quot;attribution&quot;: &quot;Data by \\u0026copy; \\u003ca href=\\&quot;http://openstreetmap.org\\&quot;\\u003eOpenStreetMap\\u003c/a\\u003e, under \\u003ca href=\\&quot;http://www.openstreetmap.org/copyright\\&quot;\\u003eODbL\\u003c/a\\u003e.&quot;, &quot;detectRetina&quot;: false, &quot;maxNativeZoom&quot;: 18, &quot;maxZoom&quot;: 18, &quot;minZoom&quot;: 0, &quot;noWrap&quot;: false, &quot;opacity&quot;: 1, &quot;subdomains&quot;: &quot;abc&quot;, &quot;tms&quot;: false}\n",
       "            ).addTo(map_596e72e9abd9f6559dc74c506bd9a24f);\n",
       "        \n",
       "    \n",
       "            var circle_marker_7d65199dd247d696ada9c08df251bc56 = L.circleMarker(\n",
       "                [41.892278, -87.612043],\n",
       "                {&quot;bubblingMouseEvents&quot;: true, &quot;color&quot;: &quot;green&quot;, &quot;dashArray&quot;: null, &quot;dashOffset&quot;: null, &quot;fill&quot;: true, &quot;fillColor&quot;: &quot;green&quot;, &quot;fillOpacity&quot;: 0.2, &quot;fillRule&quot;: &quot;evenodd&quot;, &quot;lineCap&quot;: &quot;round&quot;, &quot;lineJoin&quot;: &quot;round&quot;, &quot;opacity&quot;: 1.0, &quot;radius&quot;: 10.1976, &quot;stroke&quot;: true, &quot;weight&quot;: 3}\n",
       "            ).addTo(map_596e72e9abd9f6559dc74c506bd9a24f);\n",
       "        \n",
       "    \n",
       "            var circle_marker_9f582146ae8f2f9346478b5c65176c03 = L.circleMarker(\n",
       "                [41.911722, -87.62680399999999],\n",
       "                {&quot;bubblingMouseEvents&quot;: true, &quot;color&quot;: &quot;green&quot;, &quot;dashArray&quot;: null, &quot;dashOffset&quot;: null, &quot;fill&quot;: true, &quot;fillColor&quot;: &quot;green&quot;, &quot;fillOpacity&quot;: 0.2, &quot;fillRule&quot;: &quot;evenodd&quot;, &quot;lineCap&quot;: &quot;round&quot;, &quot;lineJoin&quot;: &quot;round&quot;, &quot;opacity&quot;: 1.0, &quot;radius&quot;: 6.8342, &quot;stroke&quot;: true, &quot;weight&quot;: 3}\n",
       "            ).addTo(map_596e72e9abd9f6559dc74c506bd9a24f);\n",
       "        \n",
       "    \n",
       "            var circle_marker_150855bfdc07e89d20391809bcea4d52 = L.circleMarker(\n",
       "                [41.912095, -87.6348903333],\n",
       "                {&quot;bubblingMouseEvents&quot;: true, &quot;color&quot;: &quot;green&quot;, &quot;dashArray&quot;: null, &quot;dashOffset&quot;: null, &quot;fill&quot;: true, &quot;fillColor&quot;: &quot;green&quot;, &quot;fillOpacity&quot;: 0.2, &quot;fillRule&quot;: &quot;evenodd&quot;, &quot;lineCap&quot;: &quot;round&quot;, &quot;lineJoin&quot;: &quot;round&quot;, &quot;opacity&quot;: 1.0, &quot;radius&quot;: 6.0122, &quot;stroke&quot;: true, &quot;weight&quot;: 3}\n",
       "            ).addTo(map_596e72e9abd9f6559dc74c506bd9a24f);\n",
       "        \n",
       "    \n",
       "            var circle_marker_3c481be81ae5173e94cdbc89be481dc5 = L.circleMarker(\n",
       "                [41.902973, -87.63128],\n",
       "                {&quot;bubblingMouseEvents&quot;: true, &quot;color&quot;: &quot;green&quot;, &quot;dashArray&quot;: null, &quot;dashOffset&quot;: null, &quot;fill&quot;: true, &quot;fillColor&quot;: &quot;green&quot;, &quot;fillOpacity&quot;: 0.2, &quot;fillRule&quot;: &quot;evenodd&quot;, &quot;lineCap&quot;: &quot;round&quot;, &quot;lineJoin&quot;: &quot;round&quot;, &quot;opacity&quot;: 1.0, &quot;radius&quot;: 5.8702, &quot;stroke&quot;: true, &quot;weight&quot;: 3}\n",
       "            ).addTo(map_596e72e9abd9f6559dc74c506bd9a24f);\n",
       "        \n",
       "    \n",
       "            var circle_marker_a76d694f18dfa3d453d945ea9a48a05c = L.circleMarker(\n",
       "                [41.9010013333, -87.6237325],\n",
       "                {&quot;bubblingMouseEvents&quot;: true, &quot;color&quot;: &quot;green&quot;, &quot;dashArray&quot;: null, &quot;dashOffset&quot;: null, &quot;fill&quot;: true, &quot;fillColor&quot;: &quot;green&quot;, &quot;fillOpacity&quot;: 0.2, &quot;fillRule&quot;: &quot;evenodd&quot;, &quot;lineCap&quot;: &quot;round&quot;, &quot;lineJoin&quot;: &quot;round&quot;, &quot;opacity&quot;: 1.0, &quot;radius&quot;: 5.729, &quot;stroke&quot;: true, &quot;weight&quot;: 3}\n",
       "            ).addTo(map_596e72e9abd9f6559dc74c506bd9a24f);\n",
       "        \n",
       "    \n",
       "            var circle_marker_15632393223852e9cec3584f4c9ba745 = L.circleMarker(\n",
       "                [41.880958, -87.616743],\n",
       "                {&quot;bubblingMouseEvents&quot;: true, &quot;color&quot;: &quot;green&quot;, &quot;dashArray&quot;: null, &quot;dashOffset&quot;: null, &quot;fill&quot;: true, &quot;fillColor&quot;: &quot;green&quot;, &quot;fillOpacity&quot;: 0.2, &quot;fillRule&quot;: &quot;evenodd&quot;, &quot;lineCap&quot;: &quot;round&quot;, &quot;lineJoin&quot;: &quot;round&quot;, &quot;opacity&quot;: 1.0, &quot;radius&quot;: 5.5, &quot;stroke&quot;: true, &quot;weight&quot;: 3}\n",
       "            ).addTo(map_596e72e9abd9f6559dc74c506bd9a24f);\n",
       "        \n",
       "    \n",
       "            var circle_marker_1df29328085dc24cb2d5c7cc3827bf65 = L.circleMarker(\n",
       "                [41.926277, -87.630834],\n",
       "                {&quot;bubblingMouseEvents&quot;: true, &quot;color&quot;: &quot;green&quot;, &quot;dashArray&quot;: null, &quot;dashOffset&quot;: null, &quot;fill&quot;: true, &quot;fillColor&quot;: &quot;green&quot;, &quot;fillOpacity&quot;: 0.2, &quot;fillRule&quot;: &quot;evenodd&quot;, &quot;lineCap&quot;: &quot;round&quot;, &quot;lineJoin&quot;: &quot;round&quot;, &quot;opacity&quot;: 1.0, &quot;radius&quot;: 5.3988, &quot;stroke&quot;: true, &quot;weight&quot;: 3}\n",
       "            ).addTo(map_596e72e9abd9f6559dc74c506bd9a24f);\n",
       "        \n",
       "    \n",
       "            var circle_marker_be3b0c9c66848e8b384b6984a4d15c9e = L.circleMarker(\n",
       "                [41.9029363333, -87.634573],\n",
       "                {&quot;bubblingMouseEvents&quot;: true, &quot;color&quot;: &quot;green&quot;, &quot;dashArray&quot;: null, &quot;dashOffset&quot;: null, &quot;fill&quot;: true, &quot;fillColor&quot;: &quot;green&quot;, &quot;fillOpacity&quot;: 0.2, &quot;fillRule&quot;: &quot;evenodd&quot;, &quot;lineCap&quot;: &quot;round&quot;, &quot;lineJoin&quot;: &quot;round&quot;, &quot;opacity&quot;: 1.0, &quot;radius&quot;: 5.2738, &quot;stroke&quot;: true, &quot;weight&quot;: 3}\n",
       "            ).addTo(map_596e72e9abd9f6559dc74c506bd9a24f);\n",
       "        \n",
       "    \n",
       "            var circle_marker_886841f41ac7e7a434d7820180e52873 = L.circleMarker(\n",
       "                [41.881032, -87.624084],\n",
       "                {&quot;bubblingMouseEvents&quot;: true, &quot;color&quot;: &quot;green&quot;, &quot;dashArray&quot;: null, &quot;dashOffset&quot;: null, &quot;fill&quot;: true, &quot;fillColor&quot;: &quot;green&quot;, &quot;fillOpacity&quot;: 0.2, &quot;fillRule&quot;: &quot;evenodd&quot;, &quot;lineCap&quot;: &quot;round&quot;, &quot;lineJoin&quot;: &quot;round&quot;, &quot;opacity&quot;: 1.0, &quot;radius&quot;: 4.8474, &quot;stroke&quot;: true, &quot;weight&quot;: 3}\n",
       "            ).addTo(map_596e72e9abd9f6559dc74c506bd9a24f);\n",
       "        \n",
       "    \n",
       "            var circle_marker_8d7cf512283fd1877b4abafdf1d7fe19 = L.circleMarker(\n",
       "                [41.9156916667, -87.634593],\n",
       "                {&quot;bubblingMouseEvents&quot;: true, &quot;color&quot;: &quot;green&quot;, &quot;dashArray&quot;: null, &quot;dashOffset&quot;: null, &quot;fill&quot;: true, &quot;fillColor&quot;: &quot;green&quot;, &quot;fillOpacity&quot;: 0.2, &quot;fillRule&quot;: &quot;evenodd&quot;, &quot;lineCap&quot;: &quot;round&quot;, &quot;lineJoin&quot;: &quot;round&quot;, &quot;opacity&quot;: 1.0, &quot;radius&quot;: 4.707, &quot;stroke&quot;: true, &quot;weight&quot;: 3}\n",
       "            ).addTo(map_596e72e9abd9f6559dc74c506bd9a24f);\n",
       "        \n",
       "    \n",
       "            var circle_marker_8785f652d975f207d49b8aa88f591d31 = L.circleMarker(\n",
       "                [41.8891768326, -87.6385057718],\n",
       "                {&quot;bubblingMouseEvents&quot;: true, &quot;color&quot;: &quot;green&quot;, &quot;dashArray&quot;: null, &quot;dashOffset&quot;: null, &quot;fill&quot;: true, &quot;fillColor&quot;: &quot;green&quot;, &quot;fillOpacity&quot;: 0.2, &quot;fillRule&quot;: &quot;evenodd&quot;, &quot;lineCap&quot;: &quot;round&quot;, &quot;lineJoin&quot;: &quot;round&quot;, &quot;opacity&quot;: 1.0, &quot;radius&quot;: 4.648, &quot;stroke&quot;: true, &quot;weight&quot;: 3}\n",
       "            ).addTo(map_596e72e9abd9f6559dc74c506bd9a24f);\n",
       "        \n",
       "    \n",
       "            var circle_marker_96341a8102e72ca70bf071aa1bf5d2e1 = L.circleMarker(\n",
       "                [41.918306, -87.636282],\n",
       "                {&quot;bubblingMouseEvents&quot;: true, &quot;color&quot;: &quot;green&quot;, &quot;dashArray&quot;: null, &quot;dashOffset&quot;: null, &quot;fill&quot;: true, &quot;fillColor&quot;: &quot;green&quot;, &quot;fillOpacity&quot;: 0.2, &quot;fillRule&quot;: &quot;evenodd&quot;, &quot;lineCap&quot;: &quot;round&quot;, &quot;lineJoin&quot;: &quot;round&quot;, &quot;opacity&quot;: 1.0, &quot;radius&quot;: 4.6062, &quot;stroke&quot;: true, &quot;weight&quot;: 3}\n",
       "            ).addTo(map_596e72e9abd9f6559dc74c506bd9a24f);\n",
       "        \n",
       "    \n",
       "            var circle_marker_c527073c112201a2ee487e92e787addb = L.circleMarker(\n",
       "                [41.937582316, -87.644097805],\n",
       "                {&quot;bubblingMouseEvents&quot;: true, &quot;color&quot;: &quot;green&quot;, &quot;dashArray&quot;: null, &quot;dashOffset&quot;: null, &quot;fill&quot;: true, &quot;fillColor&quot;: &quot;green&quot;, &quot;fillOpacity&quot;: 0.2, &quot;fillRule&quot;: &quot;evenodd&quot;, &quot;lineCap&quot;: &quot;round&quot;, &quot;lineJoin&quot;: &quot;round&quot;, &quot;opacity&quot;: 1.0, &quot;radius&quot;: 4.4308, &quot;stroke&quot;: true, &quot;weight&quot;: 3}\n",
       "            ).addTo(map_596e72e9abd9f6559dc74c506bd9a24f);\n",
       "        \n",
       "    \n",
       "            var circle_marker_ea876c6ed9fcf5feea7b0c65ce6606d4 = L.circleMarker(\n",
       "                [41.891466, -87.626761],\n",
       "                {&quot;bubblingMouseEvents&quot;: true, &quot;color&quot;: &quot;green&quot;, &quot;dashArray&quot;: null, &quot;dashOffset&quot;: null, &quot;fill&quot;: true, &quot;fillColor&quot;: &quot;green&quot;, &quot;fillOpacity&quot;: 0.2, &quot;fillRule&quot;: &quot;evenodd&quot;, &quot;lineCap&quot;: &quot;round&quot;, &quot;lineJoin&quot;: &quot;round&quot;, &quot;opacity&quot;: 1.0, &quot;radius&quot;: 4.3842, &quot;stroke&quot;: true, &quot;weight&quot;: 3}\n",
       "            ).addTo(map_596e72e9abd9f6559dc74c506bd9a24f);\n",
       "        \n",
       "    \n",
       "            var circle_marker_814bef7f9c6a7c9df3634232f73c7a39 = L.circleMarker(\n",
       "                [41.8941976667, -87.6294278333],\n",
       "                {&quot;bubblingMouseEvents&quot;: true, &quot;color&quot;: &quot;green&quot;, &quot;dashArray&quot;: null, &quot;dashOffset&quot;: null, &quot;fill&quot;: true, &quot;fillColor&quot;: &quot;green&quot;, &quot;fillOpacity&quot;: 0.2, &quot;fillRule&quot;: &quot;evenodd&quot;, &quot;lineCap&quot;: &quot;round&quot;, &quot;lineJoin&quot;: &quot;round&quot;, &quot;opacity&quot;: 1.0, &quot;radius&quot;: 4.2762, &quot;stroke&quot;: true, &quot;weight&quot;: 3}\n",
       "            ).addTo(map_596e72e9abd9f6559dc74c506bd9a24f);\n",
       "        \n",
       "    \n",
       "            var circle_marker_e947d188b48d9b8a021b82425768cbe9 = L.circleMarker(\n",
       "                [41.894722, -87.634362],\n",
       "                {&quot;bubblingMouseEvents&quot;: true, &quot;color&quot;: &quot;green&quot;, &quot;dashArray&quot;: null, &quot;dashOffset&quot;: null, &quot;fill&quot;: true, &quot;fillColor&quot;: &quot;green&quot;, &quot;fillOpacity&quot;: 0.2, &quot;fillRule&quot;: &quot;evenodd&quot;, &quot;lineCap&quot;: &quot;round&quot;, &quot;lineJoin&quot;: &quot;round&quot;, &quot;opacity&quot;: 1.0, &quot;radius&quot;: 4.188, &quot;stroke&quot;: true, &quot;weight&quot;: 3}\n",
       "            ).addTo(map_596e72e9abd9f6559dc74c506bd9a24f);\n",
       "        \n",
       "    \n",
       "            var circle_marker_7be7864f831cd966c938f5427f1ef993 = L.circleMarker(\n",
       "                [41.9218428333, -87.6440661667],\n",
       "                {&quot;bubblingMouseEvents&quot;: true, &quot;color&quot;: &quot;green&quot;, &quot;dashArray&quot;: null, &quot;dashOffset&quot;: null, &quot;fill&quot;: true, &quot;fillColor&quot;: &quot;green&quot;, &quot;fillOpacity&quot;: 0.2, &quot;fillRule&quot;: &quot;evenodd&quot;, &quot;lineCap&quot;: &quot;round&quot;, &quot;lineJoin&quot;: &quot;round&quot;, &quot;opacity&quot;: 1.0, &quot;radius&quot;: 4.0212, &quot;stroke&quot;: true, &quot;weight&quot;: 3}\n",
       "            ).addTo(map_596e72e9abd9f6559dc74c506bd9a24f);\n",
       "        \n",
       "    \n",
       "            var circle_marker_ee7d3d124f8e9e4470cf274ad07c9521 = L.circleMarker(\n",
       "                [41.94018, -87.65304],\n",
       "                {&quot;bubblingMouseEvents&quot;: true, &quot;color&quot;: &quot;green&quot;, &quot;dashArray&quot;: null, &quot;dashOffset&quot;: null, &quot;fill&quot;: true, &quot;fillColor&quot;: &quot;green&quot;, &quot;fillOpacity&quot;: 0.2, &quot;fillRule&quot;: &quot;evenodd&quot;, &quot;lineCap&quot;: &quot;round&quot;, &quot;lineJoin&quot;: &quot;round&quot;, &quot;opacity&quot;: 1.0, &quot;radius&quot;: 3.9396, &quot;stroke&quot;: true, &quot;weight&quot;: 3}\n",
       "            ).addTo(map_596e72e9abd9f6559dc74c506bd9a24f);\n",
       "        \n",
       "    \n",
       "            var circle_marker_95017b112a914b7238178c8fb6b2b728 = L.circleMarker(\n",
       "                [41.8941505, -87.6226575],\n",
       "                {&quot;bubblingMouseEvents&quot;: true, &quot;color&quot;: &quot;green&quot;, &quot;dashArray&quot;: null, &quot;dashOffset&quot;: null, &quot;fill&quot;: true, &quot;fillColor&quot;: &quot;green&quot;, &quot;fillOpacity&quot;: 0.2, &quot;fillRule&quot;: &quot;evenodd&quot;, &quot;lineCap&quot;: &quot;round&quot;, &quot;lineJoin&quot;: &quot;round&quot;, &quot;opacity&quot;: 1.0, &quot;radius&quot;: 3.92, &quot;stroke&quot;: true, &quot;weight&quot;: 3}\n",
       "            ).addTo(map_596e72e9abd9f6559dc74c506bd9a24f);\n",
       "        \n",
       "    \n",
       "            var circle_marker_751b1a44c2fa30b51011d1438489993f = L.circleMarker(\n",
       "                [41.867888, -87.623041],\n",
       "                {&quot;bubblingMouseEvents&quot;: true, &quot;color&quot;: &quot;green&quot;, &quot;dashArray&quot;: null, &quot;dashOffset&quot;: null, &quot;fill&quot;: true, &quot;fillColor&quot;: &quot;green&quot;, &quot;fillOpacity&quot;: 0.2, &quot;fillRule&quot;: &quot;evenodd&quot;, &quot;lineCap&quot;: &quot;round&quot;, &quot;lineJoin&quot;: &quot;round&quot;, &quot;opacity&quot;: 1.0, &quot;radius&quot;: 3.7922, &quot;stroke&quot;: true, &quot;weight&quot;: 3}\n",
       "            ).addTo(map_596e72e9abd9f6559dc74c506bd9a24f);\n",
       "        \n",
       "&lt;/script&gt;\" style=\"position:absolute;width:100%;height:100%;left:0;top:0;border:none !important;\" allowfullscreen webkitallowfullscreen mozallowfullscreen></iframe></div></div>"
      ],
      "text/plain": [
       "<folium.folium.Map at 0x7f4e19193d30>"
      ]
     },
     "execution_count": 14,
     "metadata": {},
     "output_type": "execute_result"
    }
   ],
   "source": [
    "import folium\n",
    "\n",
    "m1 = folium.Map(location = [map['start_lat'].mean(),map['start_lng'].mean()],\n",
    "                tiles='OpenStreetMap',zoom_start = 11)\n",
    "\n",
    "title = 'Most popular start (green) and end (red) stations in 2019'\n",
    "title_html = '''\n",
    "             <h3 align=\"center\" style=\"font-size:16px\"><b>{}</b></h3>\n",
    "             '''.format(title)\n",
    "m1.get_root().html.add_child(folium.Element(title_html)) \n",
    "\n",
    "for index, row in map.iterrows():\n",
    "    lat1, lon1 = row['start_lat'],row['start_lng']\n",
    "    folium.CircleMarker(location=[lat1,lon1],\n",
    "        radius = row['count']/5000,\n",
    "        color = 'green',\n",
    "        fill = True\n",
    "                ).add_to(m1)\n",
    "m1"
   ]
  },
  {
   "cell_type": "code",
   "execution_count": 125,
   "metadata": {},
   "outputs": [],
   "source": [
    "def createMapdf(year,col,df):\n",
    "    temp = df[df['year'] == year]\n",
    "    busy_stations = temp[col].value_counts().head(20).to_frame().reset_index()\n",
    "    busy_stations.rename(columns={col:'count','index':col},inplace=True)\n",
    "    return busy_stations.merge(station_list,how='left',left_on=col,right_on=['start_station_id'])\n",
    "    # because I created the station_list by removing dups of the start_station_id, when merging on it \n",
    "    # with 'end_station_id' would return multiple rows. So we will always match on the start_station_id to avoid dups.\n",
    "\n",
    "def mapBusyStations(year,df):\n",
    "    start_stations = createMapdf(year,'start_station_id',df)\n",
    "    end_stations = createMapdf(year,'end_station_id',df)\n",
    "\n",
    "    m1 = folium.Map(location = [start_stations['start_lat'].mean(),start_stations['start_lng'].mean()],\n",
    "                tiles='cartodbpositron',zoom_start = 11)\n",
    "\n",
    "    title = '20 most popular start (green) and end (red) stations in '+str(year)\n",
    "    title_html = '''\n",
    "             <h3 align=\"center\" style=\"font-size:16px\"><b>{}</b></h3>\n",
    "             '''.format(title)\n",
    "    m1.get_root().html.add_child(folium.Element(title_html)) \n",
    "\n",
    "    for index, row in end_stations.iterrows():   \n",
    "        folium.CircleMarker(location=[row['end_lat'],row['end_lng']],\n",
    "            radius = row['count']/5000,\n",
    "            color = 'red',\n",
    "            tooltip=str(row['count']),\n",
    "            fill = True\n",
    "                    ).add_to(m1)\n",
    "\n",
    "    for index, row in start_stations.iterrows():\n",
    "        folium.CircleMarker(location=[row['start_lat'],row['start_lng']],\n",
    "            radius = row['count']/5000,\n",
    "            color = 'green',\n",
    "            tooltip=str(row['count']),\n",
    "            fill = True\n",
    "                    ).add_to(m1)\n",
    "\n",
    "    return m1\n",
    "    "
   ]
  },
  {
   "cell_type": "code",
   "execution_count": 131,
   "metadata": {},
   "outputs": [
    {
     "name": "stdout",
     "output_type": "stream",
     "text": [
      "2019member.html\n",
      "2019casual.html\n",
      "2020member.html\n",
      "2020casual.html\n",
      "2021member.html\n",
      "2021casual.html\n"
     ]
    }
   ],
   "source": [
    "for i in range (2019,2022):\n",
    "    for j in ['member','casual']:\n",
    "        fn = str(i)+j+'.html'\n",
    "        mapBusyStations(i,bigData[bigData['usertype']==j]).save(fn)\n",
    "        print(fn)\n"
   ]
  },
  {
   "cell_type": "code",
   "execution_count": 137,
   "metadata": {},
   "outputs": [],
   "source": [
    "def pctLongRides(cutoff,mTemp,cTemp):\n",
    "    mLong = mTemp[(mTemp['tripduration'] > pd.Timedelta(cutoff  ,unit='h') ) &\n",
    "                    (mTemp['tripduration'] < pd.Timedelta(cutoff+1,unit='h') ) ]\n",
    "    mStartFin = mLong.loc[ (mLong['start_lat'] == mLong['end_lat']) & (mLong['start_lng'] == mLong['end_lng']) ]\n",
    "\n",
    "    cLong = cTemp[(cTemp['tripduration'] > pd.Timedelta(cutoff  ,unit='h') ) &\n",
    "                    (cTemp['tripduration'] < pd.Timedelta(cutoff+1,unit='h') ) ]\n",
    "    cStartFin = cLong.loc[ (cLong['start_lat'] == cLong['end_lat']) & (cLong['start_lng'] == cLong['end_lng']) ]\n",
    "\n",
    "    return len(mLong), round(len(mStartFin)/len(mLong),3), len(cLong), round(len(cStartFin)/len(cLong),3)\n",
    "\n",
    "janfeb = bigData[(bigData['month']==1) | (bigData['month']==2)]\n",
    "\n",
    "mTemp = janfeb[janfeb['usertype']=='member']\n",
    "cTemp = janfeb[janfeb['usertype']=='casual']\n",
    "\n",
    "hours = []\n",
    "NmLong, pctMLong, NcLong, pctCLong  = [],[],[],[]\n",
    "for i in range(2,24):\n",
    "    a,b,c,d = pctLongRides(i,mTemp,cTemp)\n",
    "    hours.append(i)\n",
    "    NmLong.append(a)\n",
    "    pctMLong.append(b*100)\n",
    "    NcLong.append(c)\n",
    "    pctCLong.append(d*100)"
   ]
  },
  {
   "cell_type": "code",
   "execution_count": 139,
   "metadata": {},
   "outputs": [
    {
     "data": {
      "image/png": "[encoded data removed]",
      "text/plain": [
       "<Figure size 1224x720 with 1 Axes>"
      ]
     },
     "metadata": {
      "needs_background": "light"
     },
     "output_type": "display_data"
    }
   ],
   "source": [
    "compare = pd.DataFrame({\n",
    "    '# Member'  : NmLong,\n",
    "    '% Member': pctMLong,\n",
    "    '# Casual'  : NcLong,\n",
    "    '% Casual': pctCLong\n",
    "})\n",
    "\n",
    "#ax = plt.gca()\n",
    "ax = compare[['# Member','# Casual']].plot(kind = 'bar',figsize=(17,10))\n",
    "plt.ylabel('Number of Long Rides (log scale)')\n",
    "plt.yscale('log')\n",
    "#compare[['% Member','% Casual']].plot(kind = 'line',secondary_y = True,ax=ax)\n",
    "#plt.ylabel('Percent of long rides')\n",
    "\n",
    "ax.set_xticklabels(hours)\n",
    "plt.xticks(rotation=0,horizontalalignment = 'center')\n",
    "plt.xlabel('Ride length (hours)')\n",
    "title = 'Comparison of number / percent of long rides '\n",
    "plt.title(title)\n",
    "\n",
    "#ax.grid(axis='y')\n",
    "plt.show()"
   ]
  },
  {
   "cell_type": "code",
   "execution_count": 140,
   "metadata": {},
   "outputs": [
    {
     "name": "stdout",
     "output_type": "stream",
     "text": [
      "<class 'pandas.core.frame.DataFrame'>\n",
      "Int64Index: 12883947 entries, 0 to 247539\n",
      "Data columns (total 12 columns):\n",
      " #   Column            Dtype          \n",
      "---  ------            -----          \n",
      " 0   start_time        datetime64[ns] \n",
      " 1   end_time          datetime64[ns] \n",
      " 2   start_station_id  object         \n",
      " 3   end_station_id    object         \n",
      " 4   usertype          object         \n",
      " 5   start_lat         float64        \n",
      " 6   start_lng         float64        \n",
      " 7   end_lat           float64        \n",
      " 8   end_lng           float64        \n",
      " 9   tripduration      timedelta64[ns]\n",
      " 10  month             int64          \n",
      " 11  year              int64          \n",
      "dtypes: datetime64[ns](2), float64(4), int64(2), object(3), timedelta64[ns](1)\n",
      "memory usage: 1.2+ GB\n"
     ]
    }
   ],
   "source": [
    "bigData.info()"
   ]
  }
 ],
 "metadata": {
  "kernelspec": {
   "display_name": "Python 3.10.4 64-bit",
   "language": "python",
   "name": "python3"
  },
  "language_info": {
   "codemirror_mode": {
    "name": "ipython",
    "version": 3
   },
   "file_extension": ".py",
   "mimetype": "text/x-python",
   "name": "python",
   "nbconvert_exporter": "python",
   "pygments_lexer": "ipython3",
   "version": "3.10.4"
  },
  "orig_nbformat": 4,
  "vscode": {
   "interpreter": {
    "hash": "916dbcbb3f70747c44a77c7bcd40155683ae19c65e1c03b4aa3499c5328201f1"
   }
  }
 },
 "nbformat": 4,
 "nbformat_minor": 2
}
