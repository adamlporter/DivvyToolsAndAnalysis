{
 "cells": [
  {
   "cell_type": "code",
   "execution_count": 1,
   "metadata": {},
   "outputs": [],
   "source": [
    "import pandas as pd\n",
    "import matplotlib.pyplot as plt\n",
    "%matplotlib inline  "
   ]
  },
  {
   "cell_type": "code",
   "execution_count": 2,
   "metadata": {},
   "outputs": [],
   "source": [
    "def getData(year,months=['01','02','03','04','05','06','07','08','09','10','11','12']):\n",
    "    # procedure accepts year (as string) and optional list of months (strings) for which to retreive data\n",
    "    # will return a df with the DIVVY data for that year and month(s)\n",
    "    import pandas as pd\n",
    "\n",
    "    if not isinstance(year,str):\n",
    "        year = str(year)\n",
    "\n",
    "    if not isinstance(months,list):\n",
    "        months = [months]\n",
    "\n",
    "    if int(year) >= 2020:\n",
    "        workDir = '/home/alp/Google Drive/Python/DataSets/Data_Divvy/'\n",
    "    else:\n",
    "        workDir = '/home/alp/Google Drive/Python/DataSets/Data_Divvy/pre2020/'\n",
    "\n",
    "    fileName = year + months[0] + '-divvy-tripdata.json'\n",
    "    print(fileName)\n",
    "    retData = pd.read_json(workDir+fileName,orient='index')\n",
    "\n",
    "    if len(months) > 0:\n",
    "        for month in months[1:]:\n",
    "                fileName = year + month + '-divvy-tripdata.json'\n",
    "                print(fileName)\n",
    "                newData = pd.read_json(workDir+fileName,orient='index')\n",
    "                retData = pd.concat([retData,newData])\n",
    "\n",
    "    return retData"
   ]
  },
  {
   "cell_type": "code",
   "execution_count": 3,
   "metadata": {},
   "outputs": [
    {
     "name": "stdout",
     "output_type": "stream",
     "text": [
      "201901-divvy-tripdata.json\n",
      "201902-divvy-tripdata.json\n",
      "201903-divvy-tripdata.json\n",
      "201904-divvy-tripdata.json\n",
      "201905-divvy-tripdata.json\n",
      "201906-divvy-tripdata.json\n",
      "201907-divvy-tripdata.json\n",
      "201908-divvy-tripdata.json\n",
      "201909-divvy-tripdata.json\n",
      "201910-divvy-tripdata.json\n",
      "201911-divvy-tripdata.json\n",
      "201912-divvy-tripdata.json\n"
     ]
    },
    {
     "data": {
      "text/plain": [
       "(3818004, 16)"
      ]
     },
     "execution_count": 3,
     "metadata": {},
     "output_type": "execute_result"
    }
   ],
   "source": [
    "data19 = getData('2019')\n",
    "data19.shape"
   ]
  },
  {
   "cell_type": "code",
   "execution_count": 4,
   "metadata": {},
   "outputs": [
    {
     "name": "stdout",
     "output_type": "stream",
     "text": [
      "<class 'pandas.core.frame.DataFrame'>\n",
      "Int64Index: 13 entries, 384478 to 384497\n",
      "Data columns (total 10 columns):\n",
      " #   Column           Non-Null Count  Dtype          \n",
      "---  ------           --------------  -----          \n",
      " 0   start_time       13 non-null     datetime64[ns] \n",
      " 1   end_time         13 non-null     datetime64[ns] \n",
      " 2   from_station_id  13 non-null     int64          \n",
      " 3   to_station_id    13 non-null     int64          \n",
      " 4   usertype         13 non-null     object         \n",
      " 5   start_lat        13 non-null     float64        \n",
      " 6   start_lng        13 non-null     float64        \n",
      " 7   end_lat          13 non-null     float64        \n",
      " 8   end_lng          13 non-null     float64        \n",
      " 9   tripduration     13 non-null     timedelta64[ns]\n",
      "dtypes: datetime64[ns](2), float64(4), int64(2), object(1), timedelta64[ns](1)\n",
      "memory usage: 1.1+ KB\n"
     ]
    }
   ],
   "source": [
    "data19.drop(columns = ['trip_id', 'bikeid', 'from_station_name',\n",
    "       'to_station_name', 'gender', 'birthyear','tripduration'],inplace=True)\n",
    "data19['tripduration'] = data19['end_time'] - data19['start_time']\n",
    "data19.drop(data19[data19['tripduration'] < '0:00:00'].index, inplace=True)\n",
    "\n",
    "prob = data19.loc[data19['tripduration'] < '0:00:00']\n",
    "prob.info()"
   ]
  },
  {
   "cell_type": "code",
   "execution_count": 9,
   "metadata": {},
   "outputs": [],
   "source": [
    "data19.rename(columns={'from_station_id':'start_station_id','to_station_id':'end_station_id'},inplace=True)"
   ]
  },
  {
   "cell_type": "code",
   "execution_count": 6,
   "metadata": {},
   "outputs": [
    {
     "name": "stdout",
     "output_type": "stream",
     "text": [
      "202001-divvy-tripdata.json\n",
      "202002-divvy-tripdata.json\n",
      "202003-divvy-tripdata.json\n",
      "202004-divvy-tripdata.json\n",
      "202005-divvy-tripdata.json\n",
      "202006-divvy-tripdata.json\n",
      "202007-divvy-tripdata.json\n",
      "202008-divvy-tripdata.json\n",
      "202009-divvy-tripdata.json\n",
      "202010-divvy-tripdata.json\n",
      "202011-divvy-tripdata.json\n",
      "202012-divvy-tripdata.json\n"
     ]
    }
   ],
   "source": [
    "data20 = getData('2020')"
   ]
  },
  {
   "cell_type": "code",
   "execution_count": 10,
   "metadata": {},
   "outputs": [],
   "source": [
    "data20.drop(columns=['ride_id', 'rideable_type', 'start_station_name', 'end_station_name'],inplace=True)\n",
    "data20.rename(columns={'started_at':'start_time','ended_at':'end_time','member_casual':'usertype'},inplace=True)\n",
    "data20['tripduration'] = data20['end_time'] - data20['start_time']\n"
   ]
  },
  {
   "cell_type": "code",
   "execution_count": 12,
   "metadata": {},
   "outputs": [
    {
     "data": {
      "text/plain": [
       "Index(['start_time', 'end_time', 'start_station_id', 'end_station_id',\n",
       "       'start_lat', 'start_lng', 'end_lat', 'end_lng', 'usertype',\n",
       "       'tripduration'],\n",
       "      dtype='object')"
      ]
     },
     "execution_count": 12,
     "metadata": {},
     "output_type": "execute_result"
    }
   ],
   "source": [
    "data20.columns"
   ]
  },
  {
   "cell_type": "code",
   "execution_count": 13,
   "metadata": {},
   "outputs": [
    {
     "data": {
      "text/plain": [
       "10665"
      ]
     },
     "execution_count": 13,
     "metadata": {},
     "output_type": "execute_result"
    }
   ],
   "source": [
    "prob = data20.loc[data20['tripduration'] < '0:00:00']\n",
    "len(prob)"
   ]
  },
  {
   "cell_type": "code",
   "execution_count": 15,
   "metadata": {},
   "outputs": [
    {
     "name": "stdout",
     "output_type": "stream",
     "text": [
      "before: 3541683\n",
      "after:  3472163\n",
      "dropped =  69520 1.9629085945862461\n"
     ]
    }
   ],
   "source": [
    "b = len(data20)\n",
    "\n",
    "print('before:',b)\n",
    "data20.drop(data20[data20['tripduration'] < '0:00:00'].index, inplace=True)\n",
    "print('after: ',len(data20))\n",
    "print('dropped = ',b-len(data20),(b-len(data20))/b*100)"
   ]
  },
  {
   "cell_type": "code",
   "execution_count": 16,
   "metadata": {},
   "outputs": [
    {
     "name": "stdout",
     "output_type": "stream",
     "text": [
      "202101-divvy-tripdata.json\n",
      "202102-divvy-tripdata.json\n",
      "202103-divvy-tripdata.json\n",
      "202104-divvy-tripdata.json\n",
      "202105-divvy-tripdata.json\n",
      "202106-divvy-tripdata.json\n",
      "202107-divvy-tripdata.json\n",
      "202108-divvy-tripdata.json\n",
      "202109-divvy-tripdata.json\n",
      "202110-divvy-tripdata.json\n",
      "202111-divvy-tripdata.json\n",
      "202112-divvy-tripdata.json\n"
     ]
    }
   ],
   "source": [
    "data21 = getData('2021')\n",
    "data21.drop(columns=['ride_id', 'rideable_type', 'start_station_name', 'end_station_name'],inplace=True)\n",
    "data21.rename(columns={'started_at':'start_time','ended_at':'end_time','member_casual':'usertype'},inplace=True)\n",
    "data21['tripduration'] = data21['end_time'] - data21['start_time']\n",
    "data21.drop(data21[data21['tripduration'] < '0:00:00'].index, inplace=True)"
   ]
  },
  {
   "cell_type": "code",
   "execution_count": 17,
   "metadata": {},
   "outputs": [
    {
     "name": "stdout",
     "output_type": "stream",
     "text": [
      "<class 'pandas.core.frame.DataFrame'>\n",
      "Int64Index: 12883947 entries, 0 to 247539\n",
      "Data columns (total 10 columns):\n",
      " #   Column            Dtype          \n",
      "---  ------            -----          \n",
      " 0   start_time        datetime64[ns] \n",
      " 1   end_time          datetime64[ns] \n",
      " 2   start_station_id  object         \n",
      " 3   end_station_id    object         \n",
      " 4   usertype          object         \n",
      " 5   start_lat         float64        \n",
      " 6   start_lng         float64        \n",
      " 7   end_lat           float64        \n",
      " 8   end_lng           float64        \n",
      " 9   tripduration      timedelta64[ns]\n",
      "dtypes: datetime64[ns](2), float64(4), object(3), timedelta64[ns](1)\n",
      "memory usage: 1.1+ GB\n"
     ]
    }
   ],
   "source": [
    "bigData = pd.concat([data19,data20,data21],axis=0)\n",
    "bigData.info()"
   ]
  },
  {
   "cell_type": "code",
   "execution_count": 18,
   "metadata": {},
   "outputs": [],
   "source": [
    "bigData['month'] = pd.DatetimeIndex(bigData['start_time']).month\n",
    "bigData['year'] = pd.DatetimeIndex(bigData['start_time']).year"
   ]
  },
  {
   "cell_type": "code",
   "execution_count": null,
   "metadata": {},
   "outputs": [],
   "source": [
    "def busyStartStations(bigData,year):\n",
    "    temp = bigData[bigData['year'] == year]\n",
    "    stations = temp['start_station_id'].value_counts().head(15)\n",
    "    for s in stations:\n",
    "        \n",
    "    "
   ]
  },
  {
   "cell_type": "code",
   "execution_count": 34,
   "metadata": {},
   "outputs": [],
   "source": [
    "temp = bigData[bigData['year'] == 2019]\n",
    "stations = temp['start_station_id'].value_counts().head(15)"
   ]
  },
  {
   "cell_type": "code",
   "execution_count": 36,
   "metadata": {},
   "outputs": [
    {
     "name": "stdout",
     "output_type": "stream",
     "text": [
      "<class 'pandas.core.frame.DataFrame'>\n",
      "RangeIndex: 15 entries, 0 to 14\n",
      "Data columns (total 2 columns):\n",
      " #   Column            Non-Null Count  Dtype\n",
      "---  ------            --------------  -----\n",
      " 0   index             15 non-null     int64\n",
      " 1   start_station_id  15 non-null     int64\n",
      "dtypes: int64(2)\n",
      "memory usage: 368.0 bytes\n"
     ]
    }
   ],
   "source": [
    "stat_df = stations.to_frame().reset_index()\n",
    "stat_df.info()\n"
   ]
  },
  {
   "cell_type": "code",
   "execution_count": null,
   "metadata": {},
   "outputs": [],
   "source": [
    "for ind in stat_df.index:\n",
    "    start_lat = bigData.loc[bigData['start_station_id'] == stat_df['index'][ind]]['start_lat']\n",
    "    print(stat_df['index'][ind],start_lat)"
   ]
  },
  {
   "cell_type": "code",
   "execution_count": 42,
   "metadata": {},
   "outputs": [
    {
     "name": "stdout",
     "output_type": "stream",
     "text": [
      "<class 'pandas.core.frame.DataFrame'>\n",
      "RangeIndex: 15 entries, 0 to 14\n",
      "Data columns (total 2 columns):\n",
      " #   Column            Non-Null Count  Dtype\n",
      "---  ------            --------------  -----\n",
      " 0   start_station_id  15 non-null     int64\n",
      " 1   count             15 non-null     int64\n",
      "dtypes: int64(2)\n",
      "memory usage: 368.0 bytes\n"
     ]
    }
   ],
   "source": [
    "stat_df.rename(columns={'start_station_id':'count','index':'start_station_id'},inplace=True)\n",
    "stat_df.info()"
   ]
  },
  {
   "cell_type": "code",
   "execution_count": 48,
   "metadata": {},
   "outputs": [
    {
     "data": {
      "text/html": [
       "<div>\n",
       "<style scoped>\n",
       "    .dataframe tbody tr th:only-of-type {\n",
       "        vertical-align: middle;\n",
       "    }\n",
       "\n",
       "    .dataframe tbody tr th {\n",
       "        vertical-align: top;\n",
       "    }\n",
       "\n",
       "    .dataframe thead th {\n",
       "        text-align: right;\n",
       "    }\n",
       "</style>\n",
       "<table border=\"1\" class=\"dataframe\">\n",
       "  <thead>\n",
       "    <tr style=\"text-align: right;\">\n",
       "      <th></th>\n",
       "      <th>start_station_id</th>\n",
       "      <th>count</th>\n",
       "    </tr>\n",
       "  </thead>\n",
       "  <tbody>\n",
       "    <tr>\n",
       "      <th>0</th>\n",
       "      <td>35</td>\n",
       "      <td>67983</td>\n",
       "    </tr>\n",
       "    <tr>\n",
       "      <th>1</th>\n",
       "      <td>192</td>\n",
       "      <td>54389</td>\n",
       "    </tr>\n",
       "    <tr>\n",
       "      <th>2</th>\n",
       "      <td>77</td>\n",
       "      <td>49908</td>\n",
       "    </tr>\n",
       "    <tr>\n",
       "      <th>3</th>\n",
       "      <td>76</td>\n",
       "      <td>49803</td>\n",
       "    </tr>\n",
       "    <tr>\n",
       "      <th>4</th>\n",
       "      <td>91</td>\n",
       "      <td>48153</td>\n",
       "    </tr>\n",
       "  </tbody>\n",
       "</table>\n",
       "</div>"
      ],
      "text/plain": [
       "   start_station_id  count\n",
       "0                35  67983\n",
       "1               192  54389\n",
       "2                77  49908\n",
       "3                76  49803\n",
       "4                91  48153"
      ]
     },
     "execution_count": 48,
     "metadata": {},
     "output_type": "execute_result"
    }
   ],
   "source": [
    "stat_df.head()\n"
   ]
  },
  {
   "cell_type": "code",
   "execution_count": 49,
   "metadata": {},
   "outputs": [
    {
     "data": {
      "text/html": [
       "<div>\n",
       "<style scoped>\n",
       "    .dataframe tbody tr th:only-of-type {\n",
       "        vertical-align: middle;\n",
       "    }\n",
       "\n",
       "    .dataframe tbody tr th {\n",
       "        vertical-align: top;\n",
       "    }\n",
       "\n",
       "    .dataframe thead th {\n",
       "        text-align: right;\n",
       "    }\n",
       "</style>\n",
       "<table border=\"1\" class=\"dataframe\">\n",
       "  <thead>\n",
       "    <tr style=\"text-align: right;\">\n",
       "      <th></th>\n",
       "      <th>start_time</th>\n",
       "      <th>end_time</th>\n",
       "      <th>start_station_id</th>\n",
       "      <th>end_station_id</th>\n",
       "      <th>usertype</th>\n",
       "      <th>start_lat</th>\n",
       "      <th>start_lng</th>\n",
       "      <th>end_lat</th>\n",
       "      <th>end_lng</th>\n",
       "      <th>tripduration</th>\n",
       "      <th>month</th>\n",
       "      <th>year</th>\n",
       "    </tr>\n",
       "  </thead>\n",
       "  <tbody>\n",
       "    <tr>\n",
       "      <th>18</th>\n",
       "      <td>2019-01-01 00:25:28</td>\n",
       "      <td>2019-01-01 00:27:10</td>\n",
       "      <td>35</td>\n",
       "      <td>35</td>\n",
       "      <td>Subscriber</td>\n",
       "      <td>41.892278</td>\n",
       "      <td>-87.612043</td>\n",
       "      <td>41.892278</td>\n",
       "      <td>-87.612043</td>\n",
       "      <td>0 days 00:01:42</td>\n",
       "      <td>1</td>\n",
       "      <td>2019</td>\n",
       "    </tr>\n",
       "  </tbody>\n",
       "</table>\n",
       "</div>"
      ],
      "text/plain": [
       "            start_time            end_time start_station_id end_station_id  \\\n",
       "18 2019-01-01 00:25:28 2019-01-01 00:27:10               35             35   \n",
       "\n",
       "      usertype  start_lat  start_lng    end_lat    end_lng    tripduration  \\\n",
       "18  Subscriber  41.892278 -87.612043  41.892278 -87.612043 0 days 00:01:42   \n",
       "\n",
       "    month  year  \n",
       "18      1  2019  "
      ]
     },
     "execution_count": 49,
     "metadata": {},
     "output_type": "execute_result"
    }
   ],
   "source": [
    "temp = bigData.loc[bigData['start_station_id'] == 35].head(1)\n",
    "temp"
   ]
  },
  {
   "cell_type": "code",
   "execution_count": 52,
   "metadata": {},
   "outputs": [
    {
     "name": "stdout",
     "output_type": "stream",
     "text": [
      "35 18    41.892278\n",
      "Name: start_lat, dtype: float64 18   -87.612043\n",
      "Name: start_lng, dtype: float64 67983\n",
      "192 288    41.879255\n",
      "Name: start_lat, dtype: float64 288   -87.639904\n",
      "Name: start_lng, dtype: float64 54389\n",
      "77 64    41.882242\n",
      "Name: start_lat, dtype: float64 64   -87.641066\n",
      "Name: start_lng, dtype: float64 49908\n",
      "76 174    41.880958\n",
      "Name: start_lat, dtype: float64 174   -87.616743\n",
      "Name: start_lng, dtype: float64 49803\n",
      "91 758    41.88338\n",
      "Name: start_lat, dtype: float64 758   -87.64117\n",
      "Name: start_lng, dtype: float64 48153\n",
      "195 244    41.884728\n",
      "Name: start_lat, dtype: float64 244   -87.619521\n",
      "Name: start_lng, dtype: float64 39192\n",
      "43 172    41.883984\n",
      "Name: start_lat, dtype: float64 172   -87.624684\n",
      "Name: start_lng, dtype: float64 37696\n",
      "85 22    41.90096\n",
      "Name: start_lat, dtype: float64 22   -87.623777\n",
      "Name: start_lng, dtype: float64 35449\n",
      "268 9    41.911722\n",
      "Name: start_lat, dtype: float64 9   -87.626804\n",
      "Name: start_lng, dtype: float64 34472\n",
      "287 1090    41.880317\n",
      "Name: start_lat, dtype: float64 1090   -87.635185\n",
      "Name: start_lng, dtype: float64 34297\n",
      "90 12    41.881032\n",
      "Name: start_lat, dtype: float64 12   -87.624084\n",
      "Name: start_lng, dtype: float64 34106\n",
      "81 139    41.884241\n",
      "Name: start_lat, dtype: float64 139   -87.629634\n",
      "Name: start_lng, dtype: float64 33875\n",
      "133 124    41.889177\n",
      "Name: start_lat, dtype: float64 124   -87.638506\n",
      "Name: start_lng, dtype: float64 33102\n",
      "177 205    41.926277\n",
      "Name: start_lat, dtype: float64 205   -87.630834\n",
      "Name: start_lng, dtype: float64 31997\n",
      "174 169    41.882091\n",
      "Name: start_lat, dtype: float64 169   -87.639833\n",
      "Name: start_lng, dtype: float64 29831\n"
     ]
    }
   ],
   "source": [
    "for index, row in stat_df.iterrows():\n",
    "    id = row['start_station_id']\n",
    "    temp = bigData.loc[bigData['start_station_id'] == id].head(1)\n",
    "    start_lat = temp['start_lat']\n",
    "    start_lng = temp['start_lng']\n",
    "    print(id,start_lat,start_lng,row['count'])"
   ]
  }
 ],
 "metadata": {
  "kernelspec": {
   "display_name": "Python 3.10.4 64-bit",
   "language": "python",
   "name": "python3"
  },
  "language_info": {
   "codemirror_mode": {
    "name": "ipython",
    "version": 3
   },
   "file_extension": ".py",
   "mimetype": "text/x-python",
   "name": "python",
   "nbconvert_exporter": "python",
   "pygments_lexer": "ipython3",
   "version": "3.10.4"
  },
  "orig_nbformat": 4,
  "vscode": {
   "interpreter": {
    "hash": "916dbcbb3f70747c44a77c7bcd40155683ae19c65e1c03b4aa3499c5328201f1"
   }
  }
 },
 "nbformat": 4,
 "nbformat_minor": 2
}
