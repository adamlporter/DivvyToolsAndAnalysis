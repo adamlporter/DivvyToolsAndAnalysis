{
 "cells": [
  {
   "cell_type": "code",
   "execution_count": 1,
   "metadata": {},
   "outputs": [],
   "source": [
    "import pandas as pd\n",
    "import matplotlib.pyplot as plt\n",
    "%matplotlib inline  "
   ]
  },
  {
   "cell_type": "code",
   "execution_count": 2,
   "metadata": {},
   "outputs": [],
   "source": [
    "def getData(year,months=['01','02','03','04','05','06','07','08','09','10','11','12']):\n",
    "    # procedure accepts year (as string) and optional list of months (strings) for which to retreive data\n",
    "    # will return a df with the DIVVY data for that year and month(s)\n",
    "    import pandas as pd\n",
    "\n",
    "    if not isinstance(year,str):\n",
    "        year = str(year)\n",
    "\n",
    "    if not isinstance(months,list):\n",
    "        months = [months]\n",
    "\n",
    "    if int(year) >= 2020:\n",
    "        workDir = '/home/alp/Google Drive/Python/DataSets/Data_Divvy/'\n",
    "    else:\n",
    "        workDir = '/home/alp/Google Drive/Python/DataSets/Data_Divvy/pre2020/'\n",
    "\n",
    "    fileName = year + months[0] + '-divvy-tripdata.json'\n",
    "    print(fileName)\n",
    "    retData = pd.read_json(workDir+fileName,orient='index')\n",
    "\n",
    "    if len(months) > 0:\n",
    "        for month in months[1:]:\n",
    "                fileName = year + month + '-divvy-tripdata.json'\n",
    "                print(fileName)\n",
    "                newData = pd.read_json(workDir+fileName,orient='index')\n",
    "                retData = pd.concat([retData,newData])\n",
    "\n",
    "    return retData"
   ]
  },
  {
   "cell_type": "code",
   "execution_count": 3,
   "metadata": {},
   "outputs": [
    {
     "name": "stdout",
     "output_type": "stream",
     "text": [
      "201901-divvy-tripdata.json\n",
      "201902-divvy-tripdata.json\n",
      "201903-divvy-tripdata.json\n",
      "201904-divvy-tripdata.json\n",
      "201905-divvy-tripdata.json\n",
      "201906-divvy-tripdata.json\n",
      "201907-divvy-tripdata.json\n",
      "201908-divvy-tripdata.json\n",
      "201909-divvy-tripdata.json\n",
      "201910-divvy-tripdata.json\n",
      "201911-divvy-tripdata.json\n",
      "201912-divvy-tripdata.json\n"
     ]
    },
    {
     "data": {
      "text/plain": [
       "(3818004, 16)"
      ]
     },
     "execution_count": 3,
     "metadata": {},
     "output_type": "execute_result"
    }
   ],
   "source": [
    "data19 = getData('2019')\n",
    "data19.shape"
   ]
  },
  {
   "cell_type": "code",
   "execution_count": 4,
   "metadata": {},
   "outputs": [
    {
     "name": "stdout",
     "output_type": "stream",
     "text": [
      "<class 'pandas.core.frame.DataFrame'>\n",
      "Int64Index: 13 entries, 384478 to 384497\n",
      "Data columns (total 10 columns):\n",
      " #   Column           Non-Null Count  Dtype          \n",
      "---  ------           --------------  -----          \n",
      " 0   start_time       13 non-null     datetime64[ns] \n",
      " 1   end_time         13 non-null     datetime64[ns] \n",
      " 2   from_station_id  13 non-null     int64          \n",
      " 3   to_station_id    13 non-null     int64          \n",
      " 4   usertype         13 non-null     object         \n",
      " 5   start_lat        13 non-null     float64        \n",
      " 6   start_lng        13 non-null     float64        \n",
      " 7   end_lat          13 non-null     float64        \n",
      " 8   end_lng          13 non-null     float64        \n",
      " 9   tripduration     13 non-null     timedelta64[ns]\n",
      "dtypes: datetime64[ns](2), float64(4), int64(2), object(1), timedelta64[ns](1)\n",
      "memory usage: 1.1+ KB\n"
     ]
    }
   ],
   "source": [
    "data19.drop(columns = ['trip_id', 'bikeid', 'from_station_name',\n",
    "       'to_station_name', 'gender', 'birthyear','tripduration'],inplace=True)\n",
    "data19['tripduration'] = data19['end_time'] - data19['start_time']\n",
    "data19.drop(data19[data19['tripduration'] < '0:00:00'].index, inplace=True)\n",
    "\n",
    "prob = data19.loc[data19['tripduration'] < '0:00:00']\n",
    "prob.info()"
   ]
  },
  {
   "cell_type": "code",
   "execution_count": 9,
   "metadata": {},
   "outputs": [],
   "source": [
    "data19.rename(columns={'from_station_id':'start_station_id','to_station_id':'end_station_id'},inplace=True)"
   ]
  },
  {
   "cell_type": "code",
   "execution_count": 6,
   "metadata": {},
   "outputs": [
    {
     "name": "stdout",
     "output_type": "stream",
     "text": [
      "202001-divvy-tripdata.json\n",
      "202002-divvy-tripdata.json\n",
      "202003-divvy-tripdata.json\n",
      "202004-divvy-tripdata.json\n",
      "202005-divvy-tripdata.json\n",
      "202006-divvy-tripdata.json\n",
      "202007-divvy-tripdata.json\n",
      "202008-divvy-tripdata.json\n",
      "202009-divvy-tripdata.json\n",
      "202010-divvy-tripdata.json\n",
      "202011-divvy-tripdata.json\n",
      "202012-divvy-tripdata.json\n"
     ]
    }
   ],
   "source": [
    "data20 = getData('2020')"
   ]
  },
  {
   "cell_type": "code",
   "execution_count": 10,
   "metadata": {},
   "outputs": [],
   "source": [
    "data20.drop(columns=['ride_id', 'rideable_type', 'start_station_name', 'end_station_name'],inplace=True)\n",
    "data20.rename(columns={'started_at':'start_time','ended_at':'end_time','member_casual':'usertype'},inplace=True)\n",
    "data20['tripduration'] = data20['end_time'] - data20['start_time']\n"
   ]
  },
  {
   "cell_type": "code",
   "execution_count": 12,
   "metadata": {},
   "outputs": [
    {
     "data": {
      "text/plain": [
       "Index(['start_time', 'end_time', 'start_station_id', 'end_station_id',\n",
       "       'start_lat', 'start_lng', 'end_lat', 'end_lng', 'usertype',\n",
       "       'tripduration'],\n",
       "      dtype='object')"
      ]
     },
     "execution_count": 12,
     "metadata": {},
     "output_type": "execute_result"
    }
   ],
   "source": [
    "data20.columns"
   ]
  },
  {
   "cell_type": "code",
   "execution_count": 13,
   "metadata": {},
   "outputs": [
    {
     "data": {
      "text/plain": [
       "10665"
      ]
     },
     "execution_count": 13,
     "metadata": {},
     "output_type": "execute_result"
    }
   ],
   "source": [
    "prob = data20.loc[data20['tripduration'] < '0:00:00']\n",
    "len(prob)"
   ]
  },
  {
   "cell_type": "code",
   "execution_count": 15,
   "metadata": {},
   "outputs": [
    {
     "name": "stdout",
     "output_type": "stream",
     "text": [
      "before: 3541683\n",
      "after:  3472163\n",
      "dropped =  69520 1.9629085945862461\n"
     ]
    }
   ],
   "source": [
    "b = len(data20)\n",
    "\n",
    "print('before:',b)\n",
    "data20.drop(data20[data20['tripduration'] < '0:00:00'].index, inplace=True)\n",
    "print('after: ',len(data20))\n",
    "print('dropped = ',b-len(data20),(b-len(data20))/b*100)"
   ]
  },
  {
   "cell_type": "code",
   "execution_count": 16,
   "metadata": {},
   "outputs": [
    {
     "name": "stdout",
     "output_type": "stream",
     "text": [
      "202101-divvy-tripdata.json\n",
      "202102-divvy-tripdata.json\n",
      "202103-divvy-tripdata.json\n",
      "202104-divvy-tripdata.json\n",
      "202105-divvy-tripdata.json\n",
      "202106-divvy-tripdata.json\n",
      "202107-divvy-tripdata.json\n",
      "202108-divvy-tripdata.json\n",
      "202109-divvy-tripdata.json\n",
      "202110-divvy-tripdata.json\n",
      "202111-divvy-tripdata.json\n",
      "202112-divvy-tripdata.json\n"
     ]
    }
   ],
   "source": [
    "data21 = getData('2021')\n",
    "data21.drop(columns=['ride_id', 'rideable_type', 'start_station_name', 'end_station_name'],inplace=True)\n",
    "data21.rename(columns={'started_at':'start_time','ended_at':'end_time','member_casual':'usertype'},inplace=True)\n",
    "data21['tripduration'] = data21['end_time'] - data21['start_time']\n",
    "data21.drop(data21[data21['tripduration'] < '0:00:00'].index, inplace=True)"
   ]
  },
  {
   "cell_type": "code",
   "execution_count": 17,
   "metadata": {},
   "outputs": [
    {
     "name": "stdout",
     "output_type": "stream",
     "text": [
      "<class 'pandas.core.frame.DataFrame'>\n",
      "Int64Index: 12883947 entries, 0 to 247539\n",
      "Data columns (total 10 columns):\n",
      " #   Column            Dtype          \n",
      "---  ------            -----          \n",
      " 0   start_time        datetime64[ns] \n",
      " 1   end_time          datetime64[ns] \n",
      " 2   start_station_id  object         \n",
      " 3   end_station_id    object         \n",
      " 4   usertype          object         \n",
      " 5   start_lat         float64        \n",
      " 6   start_lng         float64        \n",
      " 7   end_lat           float64        \n",
      " 8   end_lng           float64        \n",
      " 9   tripduration      timedelta64[ns]\n",
      "dtypes: datetime64[ns](2), float64(4), object(3), timedelta64[ns](1)\n",
      "memory usage: 1.1+ GB\n"
     ]
    }
   ],
   "source": [
    "bigData = pd.concat([data19,data20,data21],axis=0)\n",
    "bigData.info()"
   ]
  },
  {
   "cell_type": "code",
   "execution_count": 18,
   "metadata": {},
   "outputs": [],
   "source": [
    "bigData['month'] = pd.DatetimeIndex(bigData['start_time']).month\n",
    "bigData['year'] = pd.DatetimeIndex(bigData['start_time']).year"
   ]
  },
  {
   "cell_type": "code",
   "execution_count": null,
   "metadata": {},
   "outputs": [],
   "source": [
    "def busyStartStations(bigData,year):\n",
    "    temp = bigData[bigData['year'] == year]\n",
    "    stations = temp['start_station_id'].value_counts().head(15)\n",
    "    for s in stations:\n",
    "        \n",
    "    "
   ]
  },
  {
   "cell_type": "markdown",
   "metadata": {},
   "source": [
    "What are the busiest stations in 2019?"
   ]
  },
  {
   "cell_type": "code",
   "execution_count": 34,
   "metadata": {},
   "outputs": [],
   "source": [
    "temp = bigData[bigData['year'] == 2019]\n",
    "stations = temp['start_station_id'].value_counts().head(15)"
   ]
  },
  {
   "cell_type": "code",
   "execution_count": 36,
   "metadata": {},
   "outputs": [
    {
     "name": "stdout",
     "output_type": "stream",
     "text": [
      "<class 'pandas.core.frame.DataFrame'>\n",
      "RangeIndex: 15 entries, 0 to 14\n",
      "Data columns (total 2 columns):\n",
      " #   Column            Non-Null Count  Dtype\n",
      "---  ------            --------------  -----\n",
      " 0   index             15 non-null     int64\n",
      " 1   start_station_id  15 non-null     int64\n",
      "dtypes: int64(2)\n",
      "memory usage: 368.0 bytes\n"
     ]
    }
   ],
   "source": [
    "stat_df = stations.to_frame().reset_index()\n",
    "stat_df.info()\n"
   ]
  },
  {
   "cell_type": "code",
   "execution_count": null,
   "metadata": {},
   "outputs": [],
   "source": [
    "for ind in stat_df.index:\n",
    "    start_lat = bigData.loc[bigData['start_station_id'] == stat_df['index'][ind]]['start_lat']\n",
    "    print(stat_df['index'][ind],start_lat)"
   ]
  },
  {
   "cell_type": "code",
   "execution_count": 42,
   "metadata": {},
   "outputs": [
    {
     "name": "stdout",
     "output_type": "stream",
     "text": [
      "<class 'pandas.core.frame.DataFrame'>\n",
      "RangeIndex: 15 entries, 0 to 14\n",
      "Data columns (total 2 columns):\n",
      " #   Column            Non-Null Count  Dtype\n",
      "---  ------            --------------  -----\n",
      " 0   start_station_id  15 non-null     int64\n",
      " 1   count             15 non-null     int64\n",
      "dtypes: int64(2)\n",
      "memory usage: 368.0 bytes\n"
     ]
    }
   ],
   "source": [
    "stat_df.rename(columns={'start_station_id':'count','index':'start_station_id'},inplace=True)\n",
    "stat_df.info()"
   ]
  },
  {
   "cell_type": "code",
   "execution_count": 48,
   "metadata": {},
   "outputs": [
    {
     "data": {
      "text/html": [
       "<div>\n",
       "<style scoped>\n",
       "    .dataframe tbody tr th:only-of-type {\n",
       "        vertical-align: middle;\n",
       "    }\n",
       "\n",
       "    .dataframe tbody tr th {\n",
       "        vertical-align: top;\n",
       "    }\n",
       "\n",
       "    .dataframe thead th {\n",
       "        text-align: right;\n",
       "    }\n",
       "</style>\n",
       "<table border=\"1\" class=\"dataframe\">\n",
       "  <thead>\n",
       "    <tr style=\"text-align: right;\">\n",
       "      <th></th>\n",
       "      <th>start_station_id</th>\n",
       "      <th>count</th>\n",
       "    </tr>\n",
       "  </thead>\n",
       "  <tbody>\n",
       "    <tr>\n",
       "      <th>0</th>\n",
       "      <td>35</td>\n",
       "      <td>67983</td>\n",
       "    </tr>\n",
       "    <tr>\n",
       "      <th>1</th>\n",
       "      <td>192</td>\n",
       "      <td>54389</td>\n",
       "    </tr>\n",
       "    <tr>\n",
       "      <th>2</th>\n",
       "      <td>77</td>\n",
       "      <td>49908</td>\n",
       "    </tr>\n",
       "    <tr>\n",
       "      <th>3</th>\n",
       "      <td>76</td>\n",
       "      <td>49803</td>\n",
       "    </tr>\n",
       "    <tr>\n",
       "      <th>4</th>\n",
       "      <td>91</td>\n",
       "      <td>48153</td>\n",
       "    </tr>\n",
       "  </tbody>\n",
       "</table>\n",
       "</div>"
      ],
      "text/plain": [
       "   start_station_id  count\n",
       "0                35  67983\n",
       "1               192  54389\n",
       "2                77  49908\n",
       "3                76  49803\n",
       "4                91  48153"
      ]
     },
     "execution_count": 48,
     "metadata": {},
     "output_type": "execute_result"
    }
   ],
   "source": [
    "stat_df.head()\n"
   ]
  },
  {
   "cell_type": "code",
   "execution_count": 73,
   "metadata": {},
   "outputs": [
    {
     "data": {
      "text/plain": [
       "[41.892278, -87.612043]"
      ]
     },
     "execution_count": 73,
     "metadata": {},
     "output_type": "execute_result"
    }
   ],
   "source": [
    "temp = bigData.loc[bigData['start_station_id'] == 35].head(1)[['start_lat','start_lng']].values.tolist()\n",
    "temp[0]"
   ]
  },
  {
   "cell_type": "code",
   "execution_count": 83,
   "metadata": {},
   "outputs": [],
   "source": [
    "points = {}\n",
    "for index, row in stat_df.iterrows():\n",
    "    id = row['start_station_id']\n",
    "    lat_lng = bigData.loc[bigData['start_station_id'] == id].head(1)[['start_lat','start_lng']].values.tolist()\n",
    "    points[id] = [row['count'],lat_lng[0]]"
   ]
  },
  {
   "cell_type": "code",
   "execution_count": 75,
   "metadata": {},
   "outputs": [
    {
     "data": {
      "text/plain": [
       "41.892278"
      ]
     },
     "execution_count": 75,
     "metadata": {},
     "output_type": "execute_result"
    }
   ],
   "source": [
    "points[35][1][0]"
   ]
  },
  {
   "cell_type": "code",
   "execution_count": 84,
   "metadata": {},
   "outputs": [
    {
     "name": "stdout",
     "output_type": "stream",
     "text": [
      "35 67983 [41.892278, -87.612043]\n",
      "192 54389 [41.879255, -87.639904]\n",
      "77 49908 [41.882242, -87.641066]\n",
      "76 49803 [41.880958, -87.616743]\n",
      "91 48153 [41.88338, -87.64117]\n",
      "195 39192 [41.884728, -87.619521]\n",
      "43 37696 [41.883984065, -87.624683976]\n",
      "85 35449 [41.90096039, -87.62377664]\n",
      "268 34472 [41.911722, -87.62680399999999]\n",
      "287 34297 [41.880317, -87.635185]\n",
      "90 34106 [41.8810317, -87.62408432]\n",
      "81 33875 [41.884241, -87.629634]\n",
      "133 33102 [41.889176833, -87.638505772]\n",
      "177 31997 [41.926277, -87.630834]\n",
      "174 29831 [41.882091, -87.639833]\n"
     ]
    }
   ],
   "source": [
    "for k in points:\n",
    "    print(k,points[k][0],points[k][1])"
   ]
  },
  {
   "cell_type": "code",
   "execution_count": 85,
   "metadata": {},
   "outputs": [
    {
     "data": {
      "text/html": [
       "<div style=\"width:100%;\"><div style=\"position:relative;width:100%;height:0;padding-bottom:60%;\"><span style=\"color:#565656\">Make this Notebook Trusted to load map: File -> Trust Notebook</span><iframe srcdoc=\"&lt;!DOCTYPE html&gt;\n",
       "&lt;head&gt;    \n",
       "    &lt;meta http-equiv=&quot;content-type&quot; content=&quot;text/html; charset=UTF-8&quot; /&gt;\n",
       "    \n",
       "        &lt;script&gt;\n",
       "            L_NO_TOUCH = false;\n",
       "            L_DISABLE_3D = false;\n",
       "        &lt;/script&gt;\n",
       "    \n",
       "    &lt;style&gt;html, body {width: 100%;height: 100%;margin: 0;padding: 0;}&lt;/style&gt;\n",
       "    &lt;style&gt;#map {position:absolute;top:0;bottom:0;right:0;left:0;}&lt;/style&gt;\n",
       "    &lt;script src=&quot;https://cdn.jsdelivr.net/npm/leaflet@1.6.0/dist/leaflet.js&quot;&gt;&lt;/script&gt;\n",
       "    &lt;script src=&quot;https://code.jquery.com/jquery-1.12.4.min.js&quot;&gt;&lt;/script&gt;\n",
       "    &lt;script src=&quot;https://maxcdn.bootstrapcdn.com/bootstrap/3.2.0/js/bootstrap.min.js&quot;&gt;&lt;/script&gt;\n",
       "    &lt;script src=&quot;https://cdnjs.cloudflare.com/ajax/libs/Leaflet.awesome-markers/2.0.2/leaflet.awesome-markers.js&quot;&gt;&lt;/script&gt;\n",
       "    &lt;link rel=&quot;stylesheet&quot; href=&quot;https://cdn.jsdelivr.net/npm/leaflet@1.6.0/dist/leaflet.css&quot;/&gt;\n",
       "    &lt;link rel=&quot;stylesheet&quot; href=&quot;https://maxcdn.bootstrapcdn.com/bootstrap/3.2.0/css/bootstrap.min.css&quot;/&gt;\n",
       "    &lt;link rel=&quot;stylesheet&quot; href=&quot;https://maxcdn.bootstrapcdn.com/bootstrap/3.2.0/css/bootstrap-theme.min.css&quot;/&gt;\n",
       "    &lt;link rel=&quot;stylesheet&quot; href=&quot;https://maxcdn.bootstrapcdn.com/font-awesome/4.6.3/css/font-awesome.min.css&quot;/&gt;\n",
       "    &lt;link rel=&quot;stylesheet&quot; href=&quot;https://cdnjs.cloudflare.com/ajax/libs/Leaflet.awesome-markers/2.0.2/leaflet.awesome-markers.css&quot;/&gt;\n",
       "    &lt;link rel=&quot;stylesheet&quot; href=&quot;https://cdn.jsdelivr.net/gh/python-visualization/folium/folium/templates/leaflet.awesome.rotate.min.css&quot;/&gt;\n",
       "    \n",
       "            &lt;meta name=&quot;viewport&quot; content=&quot;width=device-width,\n",
       "                initial-scale=1.0, maximum-scale=1.0, user-scalable=no&quot; /&gt;\n",
       "            &lt;style&gt;\n",
       "                #map_18673458d85e6ac2c9cd07f6d0df4f93 {\n",
       "                    position: relative;\n",
       "                    width: 100.0%;\n",
       "                    height: 100.0%;\n",
       "                    left: 0.0%;\n",
       "                    top: 0.0%;\n",
       "                }\n",
       "            &lt;/style&gt;\n",
       "        \n",
       "&lt;/head&gt;\n",
       "&lt;body&gt;    \n",
       "    \n",
       "            &lt;div class=&quot;folium-map&quot; id=&quot;map_18673458d85e6ac2c9cd07f6d0df4f93&quot; &gt;&lt;/div&gt;\n",
       "        \n",
       "&lt;/body&gt;\n",
       "&lt;script&gt;    \n",
       "    \n",
       "            var map_18673458d85e6ac2c9cd07f6d0df4f93 = L.map(\n",
       "                &quot;map_18673458d85e6ac2c9cd07f6d0df4f93&quot;,\n",
       "                {\n",
       "                    center: [41.90130855484122, -87.64471105171],\n",
       "                    crs: L.CRS.EPSG3857,\n",
       "                    zoom: 11,\n",
       "                    zoomControl: true,\n",
       "                    preferCanvas: false,\n",
       "                }\n",
       "            );\n",
       "\n",
       "            \n",
       "\n",
       "        \n",
       "    \n",
       "            var tile_layer_fac76371aad12e2946a51a0c4a70e57a = L.tileLayer(\n",
       "                &quot;https://{s}.tile.openstreetmap.org/{z}/{x}/{y}.png&quot;,\n",
       "                {&quot;attribution&quot;: &quot;Data by \\u0026copy; \\u003ca href=\\&quot;http://openstreetmap.org\\&quot;\\u003eOpenStreetMap\\u003c/a\\u003e, under \\u003ca href=\\&quot;http://www.openstreetmap.org/copyright\\&quot;\\u003eODbL\\u003c/a\\u003e.&quot;, &quot;detectRetina&quot;: false, &quot;maxNativeZoom&quot;: 18, &quot;maxZoom&quot;: 18, &quot;minZoom&quot;: 0, &quot;noWrap&quot;: false, &quot;opacity&quot;: 1, &quot;subdomains&quot;: &quot;abc&quot;, &quot;tms&quot;: false}\n",
       "            ).addTo(map_18673458d85e6ac2c9cd07f6d0df4f93);\n",
       "        \n",
       "    \n",
       "            var circle_marker_6b23d321af30379d35224b4530e8032e = L.circleMarker(\n",
       "                [41.892278, -87.612043],\n",
       "                {&quot;bubblingMouseEvents&quot;: true, &quot;color&quot;: &quot;green&quot;, &quot;dashArray&quot;: null, &quot;dashOffset&quot;: null, &quot;fill&quot;: false, &quot;fillColor&quot;: &quot;green&quot;, &quot;fillOpacity&quot;: 0.2, &quot;fillRule&quot;: &quot;evenodd&quot;, &quot;lineCap&quot;: &quot;round&quot;, &quot;lineJoin&quot;: &quot;round&quot;, &quot;opacity&quot;: 1.0, &quot;radius&quot;: 13.5966, &quot;stroke&quot;: true, &quot;weight&quot;: 3}\n",
       "            ).addTo(map_18673458d85e6ac2c9cd07f6d0df4f93);\n",
       "        \n",
       "    \n",
       "            var circle_marker_4c6f0f54be2c8ccf14f498e703bdbf5a = L.circleMarker(\n",
       "                [41.879255, -87.639904],\n",
       "                {&quot;bubblingMouseEvents&quot;: true, &quot;color&quot;: &quot;green&quot;, &quot;dashArray&quot;: null, &quot;dashOffset&quot;: null, &quot;fill&quot;: false, &quot;fillColor&quot;: &quot;green&quot;, &quot;fillOpacity&quot;: 0.2, &quot;fillRule&quot;: &quot;evenodd&quot;, &quot;lineCap&quot;: &quot;round&quot;, &quot;lineJoin&quot;: &quot;round&quot;, &quot;opacity&quot;: 1.0, &quot;radius&quot;: 10.8778, &quot;stroke&quot;: true, &quot;weight&quot;: 3}\n",
       "            ).addTo(map_18673458d85e6ac2c9cd07f6d0df4f93);\n",
       "        \n",
       "    \n",
       "            var circle_marker_605ba593cdcc69ebc21a7c2b97103cd9 = L.circleMarker(\n",
       "                [41.882242, -87.641066],\n",
       "                {&quot;bubblingMouseEvents&quot;: true, &quot;color&quot;: &quot;green&quot;, &quot;dashArray&quot;: null, &quot;dashOffset&quot;: null, &quot;fill&quot;: false, &quot;fillColor&quot;: &quot;green&quot;, &quot;fillOpacity&quot;: 0.2, &quot;fillRule&quot;: &quot;evenodd&quot;, &quot;lineCap&quot;: &quot;round&quot;, &quot;lineJoin&quot;: &quot;round&quot;, &quot;opacity&quot;: 1.0, &quot;radius&quot;: 9.9816, &quot;stroke&quot;: true, &quot;weight&quot;: 3}\n",
       "            ).addTo(map_18673458d85e6ac2c9cd07f6d0df4f93);\n",
       "        \n",
       "    \n",
       "            var circle_marker_e52104419b3fb5f87a6a29dca4e69a0e = L.circleMarker(\n",
       "                [41.880958, -87.616743],\n",
       "                {&quot;bubblingMouseEvents&quot;: true, &quot;color&quot;: &quot;green&quot;, &quot;dashArray&quot;: null, &quot;dashOffset&quot;: null, &quot;fill&quot;: false, &quot;fillColor&quot;: &quot;green&quot;, &quot;fillOpacity&quot;: 0.2, &quot;fillRule&quot;: &quot;evenodd&quot;, &quot;lineCap&quot;: &quot;round&quot;, &quot;lineJoin&quot;: &quot;round&quot;, &quot;opacity&quot;: 1.0, &quot;radius&quot;: 9.9606, &quot;stroke&quot;: true, &quot;weight&quot;: 3}\n",
       "            ).addTo(map_18673458d85e6ac2c9cd07f6d0df4f93);\n",
       "        \n",
       "    \n",
       "            var circle_marker_d0a075886eaa94fc9bfd36942f548ee0 = L.circleMarker(\n",
       "                [41.88338, -87.64117],\n",
       "                {&quot;bubblingMouseEvents&quot;: true, &quot;color&quot;: &quot;green&quot;, &quot;dashArray&quot;: null, &quot;dashOffset&quot;: null, &quot;fill&quot;: false, &quot;fillColor&quot;: &quot;green&quot;, &quot;fillOpacity&quot;: 0.2, &quot;fillRule&quot;: &quot;evenodd&quot;, &quot;lineCap&quot;: &quot;round&quot;, &quot;lineJoin&quot;: &quot;round&quot;, &quot;opacity&quot;: 1.0, &quot;radius&quot;: 9.6306, &quot;stroke&quot;: true, &quot;weight&quot;: 3}\n",
       "            ).addTo(map_18673458d85e6ac2c9cd07f6d0df4f93);\n",
       "        \n",
       "    \n",
       "            var circle_marker_bb91b1128283d0636ac86821bd5a80fb = L.circleMarker(\n",
       "                [41.884728, -87.619521],\n",
       "                {&quot;bubblingMouseEvents&quot;: true, &quot;color&quot;: &quot;green&quot;, &quot;dashArray&quot;: null, &quot;dashOffset&quot;: null, &quot;fill&quot;: false, &quot;fillColor&quot;: &quot;green&quot;, &quot;fillOpacity&quot;: 0.2, &quot;fillRule&quot;: &quot;evenodd&quot;, &quot;lineCap&quot;: &quot;round&quot;, &quot;lineJoin&quot;: &quot;round&quot;, &quot;opacity&quot;: 1.0, &quot;radius&quot;: 7.8384, &quot;stroke&quot;: true, &quot;weight&quot;: 3}\n",
       "            ).addTo(map_18673458d85e6ac2c9cd07f6d0df4f93);\n",
       "        \n",
       "    \n",
       "            var circle_marker_c14bbd7b36d2ec542da1b1e993901415 = L.circleMarker(\n",
       "                [41.883984065, -87.624683976],\n",
       "                {&quot;bubblingMouseEvents&quot;: true, &quot;color&quot;: &quot;green&quot;, &quot;dashArray&quot;: null, &quot;dashOffset&quot;: null, &quot;fill&quot;: false, &quot;fillColor&quot;: &quot;green&quot;, &quot;fillOpacity&quot;: 0.2, &quot;fillRule&quot;: &quot;evenodd&quot;, &quot;lineCap&quot;: &quot;round&quot;, &quot;lineJoin&quot;: &quot;round&quot;, &quot;opacity&quot;: 1.0, &quot;radius&quot;: 7.5392, &quot;stroke&quot;: true, &quot;weight&quot;: 3}\n",
       "            ).addTo(map_18673458d85e6ac2c9cd07f6d0df4f93);\n",
       "        \n",
       "    \n",
       "            var circle_marker_13271ac8d727eaa835fc3126a2d23ed7 = L.circleMarker(\n",
       "                [41.90096039, -87.62377664],\n",
       "                {&quot;bubblingMouseEvents&quot;: true, &quot;color&quot;: &quot;green&quot;, &quot;dashArray&quot;: null, &quot;dashOffset&quot;: null, &quot;fill&quot;: false, &quot;fillColor&quot;: &quot;green&quot;, &quot;fillOpacity&quot;: 0.2, &quot;fillRule&quot;: &quot;evenodd&quot;, &quot;lineCap&quot;: &quot;round&quot;, &quot;lineJoin&quot;: &quot;round&quot;, &quot;opacity&quot;: 1.0, &quot;radius&quot;: 7.0898, &quot;stroke&quot;: true, &quot;weight&quot;: 3}\n",
       "            ).addTo(map_18673458d85e6ac2c9cd07f6d0df4f93);\n",
       "        \n",
       "    \n",
       "            var circle_marker_cdbe6510bf7d346f3f03d74997096745 = L.circleMarker(\n",
       "                [41.911722, -87.62680399999999],\n",
       "                {&quot;bubblingMouseEvents&quot;: true, &quot;color&quot;: &quot;green&quot;, &quot;dashArray&quot;: null, &quot;dashOffset&quot;: null, &quot;fill&quot;: false, &quot;fillColor&quot;: &quot;green&quot;, &quot;fillOpacity&quot;: 0.2, &quot;fillRule&quot;: &quot;evenodd&quot;, &quot;lineCap&quot;: &quot;round&quot;, &quot;lineJoin&quot;: &quot;round&quot;, &quot;opacity&quot;: 1.0, &quot;radius&quot;: 6.8944, &quot;stroke&quot;: true, &quot;weight&quot;: 3}\n",
       "            ).addTo(map_18673458d85e6ac2c9cd07f6d0df4f93);\n",
       "        \n",
       "    \n",
       "            var circle_marker_f18ff80f2e6d8020013da1debf958b7b = L.circleMarker(\n",
       "                [41.880317, -87.635185],\n",
       "                {&quot;bubblingMouseEvents&quot;: true, &quot;color&quot;: &quot;green&quot;, &quot;dashArray&quot;: null, &quot;dashOffset&quot;: null, &quot;fill&quot;: false, &quot;fillColor&quot;: &quot;green&quot;, &quot;fillOpacity&quot;: 0.2, &quot;fillRule&quot;: &quot;evenodd&quot;, &quot;lineCap&quot;: &quot;round&quot;, &quot;lineJoin&quot;: &quot;round&quot;, &quot;opacity&quot;: 1.0, &quot;radius&quot;: 6.8594, &quot;stroke&quot;: true, &quot;weight&quot;: 3}\n",
       "            ).addTo(map_18673458d85e6ac2c9cd07f6d0df4f93);\n",
       "        \n",
       "    \n",
       "            var circle_marker_0a6ccf993240210f6fea12086e24dc1f = L.circleMarker(\n",
       "                [41.8810317, -87.62408432],\n",
       "                {&quot;bubblingMouseEvents&quot;: true, &quot;color&quot;: &quot;green&quot;, &quot;dashArray&quot;: null, &quot;dashOffset&quot;: null, &quot;fill&quot;: false, &quot;fillColor&quot;: &quot;green&quot;, &quot;fillOpacity&quot;: 0.2, &quot;fillRule&quot;: &quot;evenodd&quot;, &quot;lineCap&quot;: &quot;round&quot;, &quot;lineJoin&quot;: &quot;round&quot;, &quot;opacity&quot;: 1.0, &quot;radius&quot;: 6.8212, &quot;stroke&quot;: true, &quot;weight&quot;: 3}\n",
       "            ).addTo(map_18673458d85e6ac2c9cd07f6d0df4f93);\n",
       "        \n",
       "    \n",
       "            var circle_marker_cb99350b7da5f6614dda30fbc93852d3 = L.circleMarker(\n",
       "                [41.884241, -87.629634],\n",
       "                {&quot;bubblingMouseEvents&quot;: true, &quot;color&quot;: &quot;green&quot;, &quot;dashArray&quot;: null, &quot;dashOffset&quot;: null, &quot;fill&quot;: false, &quot;fillColor&quot;: &quot;green&quot;, &quot;fillOpacity&quot;: 0.2, &quot;fillRule&quot;: &quot;evenodd&quot;, &quot;lineCap&quot;: &quot;round&quot;, &quot;lineJoin&quot;: &quot;round&quot;, &quot;opacity&quot;: 1.0, &quot;radius&quot;: 6.775, &quot;stroke&quot;: true, &quot;weight&quot;: 3}\n",
       "            ).addTo(map_18673458d85e6ac2c9cd07f6d0df4f93);\n",
       "        \n",
       "    \n",
       "            var circle_marker_3384b6b9f3f64c9915a0b71161986563 = L.circleMarker(\n",
       "                [41.889176833, -87.638505772],\n",
       "                {&quot;bubblingMouseEvents&quot;: true, &quot;color&quot;: &quot;green&quot;, &quot;dashArray&quot;: null, &quot;dashOffset&quot;: null, &quot;fill&quot;: false, &quot;fillColor&quot;: &quot;green&quot;, &quot;fillOpacity&quot;: 0.2, &quot;fillRule&quot;: &quot;evenodd&quot;, &quot;lineCap&quot;: &quot;round&quot;, &quot;lineJoin&quot;: &quot;round&quot;, &quot;opacity&quot;: 1.0, &quot;radius&quot;: 6.6204, &quot;stroke&quot;: true, &quot;weight&quot;: 3}\n",
       "            ).addTo(map_18673458d85e6ac2c9cd07f6d0df4f93);\n",
       "        \n",
       "    \n",
       "            var circle_marker_0761d42410bcd29d9b15908dad7b61aa = L.circleMarker(\n",
       "                [41.926277, -87.630834],\n",
       "                {&quot;bubblingMouseEvents&quot;: true, &quot;color&quot;: &quot;green&quot;, &quot;dashArray&quot;: null, &quot;dashOffset&quot;: null, &quot;fill&quot;: false, &quot;fillColor&quot;: &quot;green&quot;, &quot;fillOpacity&quot;: 0.2, &quot;fillRule&quot;: &quot;evenodd&quot;, &quot;lineCap&quot;: &quot;round&quot;, &quot;lineJoin&quot;: &quot;round&quot;, &quot;opacity&quot;: 1.0, &quot;radius&quot;: 6.3994, &quot;stroke&quot;: true, &quot;weight&quot;: 3}\n",
       "            ).addTo(map_18673458d85e6ac2c9cd07f6d0df4f93);\n",
       "        \n",
       "    \n",
       "            var circle_marker_0ded34369a55b01e1d1985f9370899d9 = L.circleMarker(\n",
       "                [41.882091, -87.639833],\n",
       "                {&quot;bubblingMouseEvents&quot;: true, &quot;color&quot;: &quot;green&quot;, &quot;dashArray&quot;: null, &quot;dashOffset&quot;: null, &quot;fill&quot;: false, &quot;fillColor&quot;: &quot;green&quot;, &quot;fillOpacity&quot;: 0.2, &quot;fillRule&quot;: &quot;evenodd&quot;, &quot;lineCap&quot;: &quot;round&quot;, &quot;lineJoin&quot;: &quot;round&quot;, &quot;opacity&quot;: 1.0, &quot;radius&quot;: 5.9662, &quot;stroke&quot;: true, &quot;weight&quot;: 3}\n",
       "            ).addTo(map_18673458d85e6ac2c9cd07f6d0df4f93);\n",
       "        \n",
       "&lt;/script&gt;\" style=\"position:absolute;width:100%;height:100%;left:0;top:0;border:none !important;\" allowfullscreen webkitallowfullscreen mozallowfullscreen></iframe></div></div>"
      ],
      "text/plain": [
       "<folium.folium.Map at 0x7f71d1851e10>"
      ]
     },
     "execution_count": 85,
     "metadata": {},
     "output_type": "execute_result"
    }
   ],
   "source": [
    "import folium\n",
    "\n",
    "m1 = folium.Map(location = [bigData['start_lat'].mean(),bigData['start_lng'].mean()],\n",
    "                tiles='OpenStreetMap',zoom_start = 11)\n",
    "for k in points:\n",
    "    lat1, lon1 = points[k][1][0],points[k][1][1]\n",
    "    folium.CircleMarker(location=[lat1,lon1],\n",
    "        radius = points[k][0]/5000,\n",
    "        color = 'green'\n",
    "                ).add_to(m1)\n",
    "m1"
   ]
  }
 ],
 "metadata": {
  "kernelspec": {
   "display_name": "Python 3.10.4 64-bit",
   "language": "python",
   "name": "python3"
  },
  "language_info": {
   "codemirror_mode": {
    "name": "ipython",
    "version": 3
   },
   "file_extension": ".py",
   "mimetype": "text/x-python",
   "name": "python",
   "nbconvert_exporter": "python",
   "pygments_lexer": "ipython3",
   "version": "3.10.4"
  },
  "orig_nbformat": 4,
  "vscode": {
   "interpreter": {
    "hash": "916dbcbb3f70747c44a77c7bcd40155683ae19c65e1c03b4aa3499c5328201f1"
   }
  }
 },
 "nbformat": 4,
 "nbformat_minor": 2
}
