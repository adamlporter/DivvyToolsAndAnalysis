{
 "cells": [
  {
   "cell_type": "markdown",
   "metadata": {},
   "source": [
    "Questions for Divvy Data:\n",
    "\n",
    "Points:\n",
    "(1) Covid allegedly affected the number of bicyclists, because public transit was restricted and/or seen as dangerous. Many people tried to buy bicycles, but because of supply chain issues, many dealers couldn't get enough stock to satisify demand, so people may have turned to DIVVY as a stopgap measure.\n",
    "\n",
    "(2) Covid also drastically reducted tourism throughout the summer of 2020, especially in Chicago, which had strong public health directives requiring masking.\n",
    "\n",
    "Questions:\n",
    "A) From 2019 to 2020, did Divvy use drop (because of business shut-downs) or increase (because people wanted to bike rather than public transit)? \n",
    "\n",
    "A1) Did the path of bike usage shift? (How to measure this? Aggregrate where bikes went from given stations?)\n",
    "\n",
    "B) Did the proportion of \"casual\" (=non-member) users drop (#2) in 2020? Did it pick up in 2021?"
   ]
  },
  {
   "cell_type": "code",
   "execution_count": 2,
   "metadata": {},
   "outputs": [],
   "source": [
    "import pandas as pd\n",
    "import matplotlib.pyplot as plt\n",
    "%matplotlib inline  "
   ]
  },
  {
   "cell_type": "code",
   "execution_count": 3,
   "metadata": {},
   "outputs": [],
   "source": [
    "def getData(year,months=['01','02','03','04','05','06','07','08','09','10','11','12']):\n",
    "    # procedure accepts year (as string) and optional list of months (strings) for which to retreive data\n",
    "    # will return a df with the DIVVY data for that year and month(s)\n",
    "    import pandas as pd\n",
    "\n",
    "    if int(year) >= 2020:\n",
    "        workDir = '/home/alp/Google Drive/Python/DataSets/Data_Divvy/'\n",
    "    else:\n",
    "        workDir = '/home/alp/Google Drive/Python/DataSets/Data_Divvy/pre2020/'\n",
    "\n",
    "    fileName = year + months[0] + '-divvy-tripdata.json'\n",
    "    print(fileName)\n",
    "    retData = pd.read_json(workDir+fileName,orient='index')\n",
    "\n",
    "    if len(months) > 0:\n",
    "        for month in months[1:]:\n",
    "                fileName = year + month + '-divvy-tripdata.json'\n",
    "                print(fileName)\n",
    "                newData = pd.read_json(workDir+fileName,orient='index')\n",
    "                retData = pd.concat([retData,newData])\n",
    "\n",
    "    return retData\n",
    "       "
   ]
  },
  {
   "cell_type": "code",
   "execution_count": 24,
   "metadata": {},
   "outputs": [
    {
     "name": "stdout",
     "output_type": "stream",
     "text": [
      "201901-divvy-tripdata.json\n",
      "201902-divvy-tripdata.json\n",
      "201903-divvy-tripdata.json\n",
      "201904-divvy-tripdata.json\n",
      "201905-divvy-tripdata.json\n",
      "201906-divvy-tripdata.json\n",
      "201907-divvy-tripdata.json\n",
      "201908-divvy-tripdata.json\n",
      "201909-divvy-tripdata.json\n",
      "201910-divvy-tripdata.json\n",
      "201911-divvy-tripdata.json\n",
      "201912-divvy-tripdata.json\n"
     ]
    },
    {
     "data": {
      "text/plain": [
       "(3818004, 16)"
      ]
     },
     "execution_count": 24,
     "metadata": {},
     "output_type": "execute_result"
    }
   ],
   "source": [
    "data19 = getData('2019')\n",
    "data19.shape"
   ]
  },
  {
   "cell_type": "code",
   "execution_count": 25,
   "metadata": {},
   "outputs": [
    {
     "data": {
      "text/plain": [
       "Subscriber    0.769346\n",
       "Customer      0.230654\n",
       "Name: usertype, dtype: float64"
      ]
     },
     "execution_count": 25,
     "metadata": {},
     "output_type": "execute_result"
    }
   ],
   "source": [
    "\n",
    "data19['usertype'].value_counts(normalize=True)\n"
   ]
  },
  {
   "cell_type": "code",
   "execution_count": 22,
   "metadata": {},
   "outputs": [
    {
     "data": {
      "text/plain": [
       "<AxesSubplot:>"
      ]
     },
     "execution_count": 22,
     "metadata": {},
     "output_type": "execute_result"
    },
    {
     "data": {
      "image/png": "[encoded data removed]",
      "text/plain": [
       "<Figure size 432x288 with 1 Axes>"
      ]
     },
     "metadata": {
      "needs_background": "light"
     },
     "output_type": "display_data"
    }
   ],
   "source": [
    "pd.DatetimeIndex(data18['start_time']).month.value_counts().sort_index().plot.bar()"
   ]
  },
  {
   "cell_type": "code",
   "execution_count": 26,
   "metadata": {},
   "outputs": [
    {
     "data": {
      "text/plain": [
       "1     103272\n",
       "2      96186\n",
       "3     165611\n",
       "4     265310\n",
       "5     367458\n",
       "6     475395\n",
       "7     557315\n",
       "8     590184\n",
       "9     493219\n",
       "10    371786\n",
       "11    177176\n",
       "12    155092\n",
       "Name: start_time, dtype: int64"
      ]
     },
     "execution_count": 26,
     "metadata": {},
     "output_type": "execute_result"
    }
   ],
   "source": [
    "pd.DatetimeIndex(data19['start_time']).month.value_counts().sort_index()"
   ]
  },
  {
   "cell_type": "markdown",
   "metadata": {},
   "source": [
    "2017\n",
    "1     111942\n",
    "2     166343\n",
    "3     153406\n",
    "4     268662\n",
    "5     345988\n",
    "6     505164\n",
    "7     565142\n",
    "8     557639\n",
    "9     485489\n",
    "10    354104\n",
    "11    189739\n",
    "12    125396\n",
    "\n",
    "2018\n",
    "1     109706\n",
    "2     102950\n",
    "3     174489\n",
    "4     200112\n",
    "5     401150\n",
    "6     458419\n",
    "7     544703\n",
    "8     530755\n",
    "9     438112\n",
    "10    344940\n",
    "11    168774\n",
    "12    128972\n",
    "\n",
    "2019\n",
    "1     103272\n",
    "2      96186\n",
    "3     165611\n",
    "4     265310\n",
    "5     367458\n",
    "6     475395\n",
    "7     557315\n",
    "8     590184\n",
    "9     493219\n",
    "10    371786\n",
    "11    177176\n",
    "12    155092\n",
    "\n",
    "2020\n",
    "1     143884\n",
    "2     139585\n",
    "3     143418\n",
    "4      84776\n",
    "5     200274\n",
    "6     343005\n",
    "7     551480\n",
    "8     622361\n",
    "9     532958\n",
    "10    388653\n",
    "11    259716\n",
    "12    131573\n",
    "\n",
    "2021\n",
    "1      96834\n",
    "2      49622\n",
    "3     228496\n",
    "4     337230\n",
    "5     531633\n",
    "6     729595\n",
    "7     822410\n",
    "8     804352\n",
    "9     756147\n",
    "10    631226\n",
    "11    359978\n",
    "12    247540"
   ]
  },
  {
   "cell_type": "code",
   "execution_count": 27,
   "metadata": {},
   "outputs": [
    {
     "data": {
      "text/plain": [
       "<AxesSubplot:>"
      ]
     },
     "execution_count": 27,
     "metadata": {},
     "output_type": "execute_result"
    },
    {
     "data": {
      "image/png": "[encoded data removed]",
      "text/plain": [
       "<Figure size 432x288 with 1 Axes>"
      ]
     },
     "metadata": {
      "needs_background": "light"
     },
     "output_type": "display_data"
    }
   ],
   "source": [
    "pd.DatetimeIndex(data19['start_time']).month.value_counts().sort_index().plot.bar()"
   ]
  },
  {
   "cell_type": "code",
   "execution_count": 3,
   "metadata": {},
   "outputs": [
    {
     "name": "stdout",
     "output_type": "stream",
     "text": [
      "202001-divvy-tripdata.json\n",
      "202002-divvy-tripdata.json\n",
      "202003-divvy-tripdata.json\n",
      "202004-divvy-tripdata.json\n",
      "202005-divvy-tripdata.json\n",
      "202006-divvy-tripdata.json\n",
      "202007-divvy-tripdata.json\n",
      "202008-divvy-tripdata.json\n",
      "202009-divvy-tripdata.json\n",
      "202010-divvy-tripdata.json\n",
      "202011-divvy-tripdata.json\n",
      "202012-divvy-tripdata.json\n"
     ]
    },
    {
     "data": {
      "text/plain": [
       "(3541683, 13)"
      ]
     },
     "execution_count": 3,
     "metadata": {},
     "output_type": "execute_result"
    }
   ],
   "source": [
    "data20 = getData('2020')\n",
    "data20.shape"
   ]
  },
  {
   "cell_type": "code",
   "execution_count": 31,
   "metadata": {},
   "outputs": [
    {
     "data": {
      "text/plain": [
       "<AxesSubplot:>"
      ]
     },
     "execution_count": 31,
     "metadata": {},
     "output_type": "execute_result"
    },
    {
     "data": {
      "image/png": "[encoded data removed]",
      "text/plain": [
       "<Figure size 432x288 with 1 Axes>"
      ]
     },
     "metadata": {
      "needs_background": "light"
     },
     "output_type": "display_data"
    }
   ],
   "source": [
    "pd.DatetimeIndex(data20['started_at']).month.value_counts().sort_index().plot.bar()"
   ]
  },
  {
   "cell_type": "code",
   "execution_count": 19,
   "metadata": {},
   "outputs": [
    {
     "data": {
      "text/plain": [
       "member    0.614145\n",
       "casual    0.385855\n",
       "Name: member_casual, dtype: float64"
      ]
     },
     "execution_count": 19,
     "metadata": {},
     "output_type": "execute_result"
    }
   ],
   "source": [
    "data20['member_casual'].value_counts(normalize=True)"
   ]
  },
  {
   "cell_type": "code",
   "execution_count": 6,
   "metadata": {},
   "outputs": [
    {
     "data": {
      "text/plain": [
       "docked_bike      0.837546\n",
       "electric_bike    0.142516\n",
       "classic_bike     0.019939\n",
       "Name: rideable_type, dtype: float64"
      ]
     },
     "execution_count": 6,
     "metadata": {},
     "output_type": "execute_result"
    }
   ],
   "source": [
    "data20['rideable_type'].value_counts(normalize=True)"
   ]
  },
  {
   "cell_type": "code",
   "execution_count": 4,
   "metadata": {},
   "outputs": [
    {
     "name": "stdout",
     "output_type": "stream",
     "text": [
      "202101-divvy-tripdata.json\n",
      "202102-divvy-tripdata.json\n",
      "202103-divvy-tripdata.json\n",
      "202104-divvy-tripdata.json\n",
      "202105-divvy-tripdata.json\n",
      "202106-divvy-tripdata.json\n",
      "202107-divvy-tripdata.json\n",
      "202108-divvy-tripdata.json\n",
      "202109-divvy-tripdata.json\n",
      "202110-divvy-tripdata.json\n",
      "202111-divvy-tripdata.json\n",
      "202112-divvy-tripdata.json\n"
     ]
    },
    {
     "data": {
      "text/plain": [
       "(5595063, 13)"
      ]
     },
     "execution_count": 4,
     "metadata": {},
     "output_type": "execute_result"
    }
   ],
   "source": [
    "data21 = getData('2021')\n",
    "data21.shape"
   ]
  },
  {
   "cell_type": "code",
   "execution_count": 11,
   "metadata": {},
   "outputs": [
    {
     "data": {
      "text/plain": [
       "1      96834\n",
       "2      49622\n",
       "3     228496\n",
       "4     337230\n",
       "5     531633\n",
       "6     729595\n",
       "7     822410\n",
       "8     804352\n",
       "9     756147\n",
       "10    631226\n",
       "11    359978\n",
       "12    247540\n",
       "Name: started_at, dtype: int64"
      ]
     },
     "execution_count": 11,
     "metadata": {},
     "output_type": "execute_result"
    }
   ],
   "source": [
    "pd.DatetimeIndex(data21['started_at']).month.value_counts().sort_index()"
   ]
  },
  {
   "cell_type": "code",
   "execution_count": 5,
   "metadata": {},
   "outputs": [
    {
     "data": {
      "text/plain": [
       "member    0.547993\n",
       "casual    0.452007\n",
       "Name: member_casual, dtype: float64"
      ]
     },
     "execution_count": 5,
     "metadata": {},
     "output_type": "execute_result"
    }
   ],
   "source": [
    "data21['member_casual'].value_counts(normalize=True)"
   ]
  },
  {
   "cell_type": "code",
   "execution_count": 6,
   "metadata": {},
   "outputs": [
    {
     "data": {
      "text/plain": [
       "classic_bike     0.581053\n",
       "electric_bike    0.363122\n",
       "docked_bike      0.055825\n",
       "Name: rideable_type, dtype: float64"
      ]
     },
     "execution_count": 6,
     "metadata": {},
     "output_type": "execute_result"
    }
   ],
   "source": [
    "data21['rideable_type'].value_counts(normalize=True)"
   ]
  },
  {
   "cell_type": "markdown",
   "metadata": {},
   "source": [
    "lets see how the usage pattern for electric vs classic bikes shifted over the 2021 year"
   ]
  },
  {
   "cell_type": "code",
   "execution_count": 11,
   "metadata": {},
   "outputs": [],
   "source": [
    "def rideType(row):\n",
    "    if row['rideable_type'] == 'electric_bike':\n",
    "        return 1\n",
    "    else:\n",
    "        return 0\n",
    "\n",
    "data21['electric'] = data21.apply(rideType, axis = 1)"
   ]
  },
  {
   "cell_type": "code",
   "execution_count": 18,
   "metadata": {},
   "outputs": [
    {
     "data": {
      "text/plain": [
       "<AxesSubplot:xlabel='started_at'>"
      ]
     },
     "execution_count": 18,
     "metadata": {},
     "output_type": "execute_result"
    },
    {
     "data": {
      "image/png": "[encoded data removed]",
      "text/plain": [
       "<Figure size 432x288 with 1 Axes>"
      ]
     },
     "metadata": {
      "needs_background": "light"
     },
     "output_type": "display_data"
    }
   ],
   "source": [
    "data21.pivot_table(index=pd.DatetimeIndex(data21['started_at']).month,\n",
    "    values = ['classic','electric'],\n",
    "    aggfunc='sum').plot.bar()"
   ]
  },
  {
   "cell_type": "code",
   "execution_count": null,
   "metadata": {},
   "outputs": [],
   "source": []
  }
 ],
 "metadata": {
  "kernelspec": {
   "display_name": "Python 3.8.10 64-bit",
   "language": "python",
   "name": "python3"
  },
  "language_info": {
   "codemirror_mode": {
    "name": "ipython",
    "version": 3
   },
   "file_extension": ".py",
   "mimetype": "text/x-python",
   "name": "python",
   "nbconvert_exporter": "python",
   "pygments_lexer": "ipython3",
   "version": "3.8.10"
  },
  "orig_nbformat": 4,
  "vscode": {
   "interpreter": {
    "hash": "916dbcbb3f70747c44a77c7bcd40155683ae19c65e1c03b4aa3499c5328201f1"
   }
  }
 },
 "nbformat": 4,
 "nbformat_minor": 2
}
