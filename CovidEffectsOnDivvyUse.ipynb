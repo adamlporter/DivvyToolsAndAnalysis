{
 "cells": [
  {
   "cell_type": "markdown",
   "metadata": {},
   "source": [
    "Questions for Divvy Data:\n",
    "\n",
    "Points:\n",
    "(1) Covid allegedly affected the number of bicyclists, because public transit was restricted and/or seen as dangerous. Many people tried to buy bicycles, but because of supply chain issues, many dealers couldn't get enough stock to satisify demand, so people may have turned to DIVVY as a stopgap measure.\n",
    "\n",
    "(2) Covid also drastically reducted tourism throughout the summer of 2020, especially in Chicago, which had strong public health directives requiring masking.\n",
    "\n",
    "Questions:\n",
    "A) From 2019 to 2020, did Divvy use drop (because of business shut-downs) or increase (because people wanted to bike rather than public transit)? \n",
    "\n",
    "A1) Did the path of bike usage shift? (How to measure this? Aggregrate where bikes went from given stations?)\n",
    "\n",
    "B) Did the proportion of \"casual\" (=non-member) users drop (#2) in 2020? Did it pick up in 2021?"
   ]
  },
  {
   "cell_type": "code",
   "execution_count": 1,
   "metadata": {},
   "outputs": [],
   "source": [
    "import pandas as pd\n",
    "import matplotlib.pyplot as plt\n",
    "%matplotlib inline  "
   ]
  },
  {
   "cell_type": "code",
   "execution_count": 2,
   "metadata": {},
   "outputs": [],
   "source": [
    "def getData(year,months=['01','02','03','04','05','06','07','08','09','10','11','12']):\n",
    "    # procedure accepts year (as string) and optional list of months (strings) for which to retreive data\n",
    "    # will return a df with the DIVVY data for that year and month(s)\n",
    "    import pandas as pd\n",
    "\n",
    "    if not isinstance(year,str):\n",
    "        year = str(year)\n",
    "\n",
    "    if not isinstance(months,list):\n",
    "        months = [months]\n",
    "\n",
    "    if int(year) >= 2020:\n",
    "        workDir = '/home/alp/Google Drive/Python/DataSets/Data_Divvy/'\n",
    "    else:\n",
    "        workDir = '/home/alp/Google Drive/Python/DataSets/Data_Divvy/pre2020/'\n",
    "\n",
    "    fileName = year + months[0] + '-divvy-tripdata.json'\n",
    "    print(fileName)\n",
    "    retData = pd.read_json(workDir+fileName,orient='index')\n",
    "\n",
    "    if len(months) > 0:\n",
    "        for month in months[1:]:\n",
    "                fileName = year + month + '-divvy-tripdata.json'\n",
    "                print(fileName)\n",
    "                newData = pd.read_json(workDir+fileName,orient='index')\n",
    "                retData = pd.concat([retData,newData])\n",
    "\n",
    "    return retData\n",
    "       "
   ]
  },
  {
   "cell_type": "code",
   "execution_count": 5,
   "metadata": {},
   "outputs": [
    {
     "name": "stdout",
     "output_type": "stream",
     "text": [
      "202012-divvy-tripdata.json\n"
     ]
    }
   ],
   "source": [
    "d2012 = getData('2020',['12'])"
   ]
  },
  {
   "cell_type": "code",
   "execution_count": 7,
   "metadata": {},
   "outputs": [
    {
     "name": "stdout",
     "output_type": "stream",
     "text": [
      "<class 'pandas.core.frame.DataFrame'>\n",
      "Int64Index: 131573 entries, 0 to 131572\n",
      "Data columns (total 13 columns):\n",
      " #   Column              Non-Null Count   Dtype         \n",
      "---  ------              --------------   -----         \n",
      " 0   ride_id             131573 non-null  object        \n",
      " 1   rideable_type       131573 non-null  object        \n",
      " 2   started_at          131573 non-null  datetime64[ns]\n",
      " 3   ended_at            131573 non-null  datetime64[ns]\n",
      " 4   start_station_name  119874 non-null  object        \n",
      " 5   start_station_id    119874 non-null  object        \n",
      " 6   end_station_name    118336 non-null  object        \n",
      " 7   end_station_id      118336 non-null  object        \n",
      " 8   start_lat           131573 non-null  float64       \n",
      " 9   start_lng           131573 non-null  float64       \n",
      " 10  end_lat             131462 non-null  float64       \n",
      " 11  end_lng             131462 non-null  float64       \n",
      " 12  member_casual       131573 non-null  object        \n",
      "dtypes: datetime64[ns](2), float64(4), object(7)\n",
      "memory usage: 14.1+ MB\n"
     ]
    }
   ],
   "source": [
    "d2012.info()"
   ]
  },
  {
   "cell_type": "code",
   "execution_count": 8,
   "metadata": {},
   "outputs": [
    {
     "data": {
      "text/plain": [
       "6076"
      ]
     },
     "execution_count": 8,
     "metadata": {},
     "output_type": "execute_result"
    }
   ],
   "source": [
    "d2012['tripduration'] = d2012['ended_at'] - d2012['started_at']\n",
    "problems = d2012[d2012['tripduration'] < '0:00:00']\n",
    "problems.size"
   ]
  },
  {
   "cell_type": "code",
   "execution_count": 9,
   "metadata": {},
   "outputs": [
    {
     "data": {
      "text/html": [
       "<div>\n",
       "<style scoped>\n",
       "    .dataframe tbody tr th:only-of-type {\n",
       "        vertical-align: middle;\n",
       "    }\n",
       "\n",
       "    .dataframe tbody tr th {\n",
       "        vertical-align: top;\n",
       "    }\n",
       "\n",
       "    .dataframe thead th {\n",
       "        text-align: right;\n",
       "    }\n",
       "</style>\n",
       "<table border=\"1\" class=\"dataframe\">\n",
       "  <thead>\n",
       "    <tr style=\"text-align: right;\">\n",
       "      <th></th>\n",
       "      <th>ride_id</th>\n",
       "      <th>rideable_type</th>\n",
       "      <th>started_at</th>\n",
       "      <th>ended_at</th>\n",
       "      <th>start_station_name</th>\n",
       "      <th>start_station_id</th>\n",
       "      <th>end_station_name</th>\n",
       "      <th>end_station_id</th>\n",
       "      <th>start_lat</th>\n",
       "      <th>start_lng</th>\n",
       "      <th>end_lat</th>\n",
       "      <th>end_lng</th>\n",
       "      <th>member_casual</th>\n",
       "      <th>tripduration</th>\n",
       "    </tr>\n",
       "  </thead>\n",
       "  <tbody>\n",
       "    <tr>\n",
       "      <th>125</th>\n",
       "      <td>B7DF480FC433DA00</td>\n",
       "      <td>electric_bike</td>\n",
       "      <td>2020-12-15 11:48:35</td>\n",
       "      <td>2020-11-25 13:21:43</td>\n",
       "      <td>None</td>\n",
       "      <td>None</td>\n",
       "      <td>None</td>\n",
       "      <td>None</td>\n",
       "      <td>41.78</td>\n",
       "      <td>-87.60</td>\n",
       "      <td>41.79</td>\n",
       "      <td>-87.60</td>\n",
       "      <td>member</td>\n",
       "      <td>-20 days +01:33:08</td>\n",
       "    </tr>\n",
       "    <tr>\n",
       "      <th>136</th>\n",
       "      <td>923B69F36CE1E2D3</td>\n",
       "      <td>electric_bike</td>\n",
       "      <td>2020-12-15 11:50:32</td>\n",
       "      <td>2020-11-25 14:06:37</td>\n",
       "      <td>None</td>\n",
       "      <td>None</td>\n",
       "      <td>None</td>\n",
       "      <td>None</td>\n",
       "      <td>41.90</td>\n",
       "      <td>-87.69</td>\n",
       "      <td>41.90</td>\n",
       "      <td>-87.69</td>\n",
       "      <td>member</td>\n",
       "      <td>-20 days +02:16:05</td>\n",
       "    </tr>\n",
       "    <tr>\n",
       "      <th>681</th>\n",
       "      <td>4804C00B5CA844EA</td>\n",
       "      <td>electric_bike</td>\n",
       "      <td>2020-12-15 12:05:43</td>\n",
       "      <td>2020-11-25 20:20:05</td>\n",
       "      <td>None</td>\n",
       "      <td>None</td>\n",
       "      <td>None</td>\n",
       "      <td>None</td>\n",
       "      <td>41.80</td>\n",
       "      <td>-87.59</td>\n",
       "      <td>41.80</td>\n",
       "      <td>-87.60</td>\n",
       "      <td>member</td>\n",
       "      <td>-20 days +08:14:22</td>\n",
       "    </tr>\n",
       "    <tr>\n",
       "      <th>1190</th>\n",
       "      <td>D343E9446089AAF2</td>\n",
       "      <td>electric_bike</td>\n",
       "      <td>2020-12-15 12:11:41</td>\n",
       "      <td>2020-11-25 20:03:07</td>\n",
       "      <td>None</td>\n",
       "      <td>None</td>\n",
       "      <td>None</td>\n",
       "      <td>None</td>\n",
       "      <td>41.93</td>\n",
       "      <td>-87.71</td>\n",
       "      <td>41.92</td>\n",
       "      <td>-87.71</td>\n",
       "      <td>casual</td>\n",
       "      <td>-20 days +07:51:26</td>\n",
       "    </tr>\n",
       "    <tr>\n",
       "      <th>1703</th>\n",
       "      <td>6E67A4AAB95CA751</td>\n",
       "      <td>electric_bike</td>\n",
       "      <td>2020-12-15 12:15:37</td>\n",
       "      <td>2020-11-25 16:38:59</td>\n",
       "      <td>None</td>\n",
       "      <td>None</td>\n",
       "      <td>None</td>\n",
       "      <td>None</td>\n",
       "      <td>41.88</td>\n",
       "      <td>-87.65</td>\n",
       "      <td>41.87</td>\n",
       "      <td>-87.65</td>\n",
       "      <td>casual</td>\n",
       "      <td>-20 days +04:23:22</td>\n",
       "    </tr>\n",
       "  </tbody>\n",
       "</table>\n",
       "</div>"
      ],
      "text/plain": [
       "               ride_id  rideable_type          started_at            ended_at  \\\n",
       "125   B7DF480FC433DA00  electric_bike 2020-12-15 11:48:35 2020-11-25 13:21:43   \n",
       "136   923B69F36CE1E2D3  electric_bike 2020-12-15 11:50:32 2020-11-25 14:06:37   \n",
       "681   4804C00B5CA844EA  electric_bike 2020-12-15 12:05:43 2020-11-25 20:20:05   \n",
       "1190  D343E9446089AAF2  electric_bike 2020-12-15 12:11:41 2020-11-25 20:03:07   \n",
       "1703  6E67A4AAB95CA751  electric_bike 2020-12-15 12:15:37 2020-11-25 16:38:59   \n",
       "\n",
       "     start_station_name start_station_id end_station_name end_station_id  \\\n",
       "125                None             None             None           None   \n",
       "136                None             None             None           None   \n",
       "681                None             None             None           None   \n",
       "1190               None             None             None           None   \n",
       "1703               None             None             None           None   \n",
       "\n",
       "      start_lat  start_lng  end_lat  end_lng member_casual       tripduration  \n",
       "125       41.78     -87.60    41.79   -87.60        member -20 days +01:33:08  \n",
       "136       41.90     -87.69    41.90   -87.69        member -20 days +02:16:05  \n",
       "681       41.80     -87.59    41.80   -87.60        member -20 days +08:14:22  \n",
       "1190      41.93     -87.71    41.92   -87.71        casual -20 days +07:51:26  \n",
       "1703      41.88     -87.65    41.87   -87.65        casual -20 days +04:23:22  "
      ]
     },
     "execution_count": 9,
     "metadata": {},
     "output_type": "execute_result"
    }
   ],
   "source": [
    "problems.head()"
   ]
  },
  {
   "cell_type": "code",
   "execution_count": 10,
   "metadata": {},
   "outputs": [
    {
     "name": "stdout",
     "output_type": "stream",
     "text": [
      "before: 131573\n",
      "after:  131139\n"
     ]
    }
   ],
   "source": [
    "print('before:',len(d2012))\n",
    "d2012.drop(d2012[d2012['tripduration'] < '0:00:00'].index, inplace=True)\n",
    "print('after: ',len(d2012))"
   ]
  },
  {
   "cell_type": "code",
   "execution_count": 15,
   "metadata": {},
   "outputs": [
    {
     "data": {
      "text/html": [
       "<div>\n",
       "<style scoped>\n",
       "    .dataframe tbody tr th:only-of-type {\n",
       "        vertical-align: middle;\n",
       "    }\n",
       "\n",
       "    .dataframe tbody tr th {\n",
       "        vertical-align: top;\n",
       "    }\n",
       "\n",
       "    .dataframe thead th {\n",
       "        text-align: right;\n",
       "    }\n",
       "</style>\n",
       "<table border=\"1\" class=\"dataframe\">\n",
       "  <thead>\n",
       "    <tr style=\"text-align: right;\">\n",
       "      <th></th>\n",
       "      <th>start_lat</th>\n",
       "      <th>start_lng</th>\n",
       "      <th>end_lat</th>\n",
       "      <th>end_lng</th>\n",
       "      <th>tripduration</th>\n",
       "    </tr>\n",
       "  </thead>\n",
       "  <tbody>\n",
       "    <tr>\n",
       "      <th>count</th>\n",
       "      <td>131139.000000</td>\n",
       "      <td>131139.000000</td>\n",
       "      <td>131029.000000</td>\n",
       "      <td>131029.000000</td>\n",
       "      <td>131139</td>\n",
       "    </tr>\n",
       "    <tr>\n",
       "      <th>mean</th>\n",
       "      <td>41.902591</td>\n",
       "      <td>-87.646768</td>\n",
       "      <td>41.902677</td>\n",
       "      <td>-87.646951</td>\n",
       "      <td>0 days 00:15:58.480627425</td>\n",
       "    </tr>\n",
       "    <tr>\n",
       "      <th>std</th>\n",
       "      <td>0.046453</td>\n",
       "      <td>0.026926</td>\n",
       "      <td>0.046402</td>\n",
       "      <td>0.026942</td>\n",
       "      <td>0 days 01:14:12.635927595</td>\n",
       "    </tr>\n",
       "    <tr>\n",
       "      <th>min</th>\n",
       "      <td>41.650000</td>\n",
       "      <td>-87.780000</td>\n",
       "      <td>41.650000</td>\n",
       "      <td>-87.790000</td>\n",
       "      <td>0 days 00:00:00</td>\n",
       "    </tr>\n",
       "    <tr>\n",
       "      <th>25%</th>\n",
       "      <td>41.881690</td>\n",
       "      <td>-87.661206</td>\n",
       "      <td>41.881892</td>\n",
       "      <td>-87.661406</td>\n",
       "      <td>0 days 00:05:45</td>\n",
       "    </tr>\n",
       "    <tr>\n",
       "      <th>50%</th>\n",
       "      <td>41.898221</td>\n",
       "      <td>-87.643909</td>\n",
       "      <td>41.898259</td>\n",
       "      <td>-87.644098</td>\n",
       "      <td>0 days 00:09:48</td>\n",
       "    </tr>\n",
       "    <tr>\n",
       "      <th>75%</th>\n",
       "      <td>41.930000</td>\n",
       "      <td>-87.629634</td>\n",
       "      <td>41.930000</td>\n",
       "      <td>-87.629634</td>\n",
       "      <td>0 days 00:17:27</td>\n",
       "    </tr>\n",
       "    <tr>\n",
       "      <th>max</th>\n",
       "      <td>42.070000</td>\n",
       "      <td>-87.528232</td>\n",
       "      <td>42.070000</td>\n",
       "      <td>-87.528232</td>\n",
       "      <td>6 days 18:20:59</td>\n",
       "    </tr>\n",
       "  </tbody>\n",
       "</table>\n",
       "</div>"
      ],
      "text/plain": [
       "           start_lat      start_lng        end_lat        end_lng  \\\n",
       "count  131139.000000  131139.000000  131029.000000  131029.000000   \n",
       "mean       41.902591     -87.646768      41.902677     -87.646951   \n",
       "std         0.046453       0.026926       0.046402       0.026942   \n",
       "min        41.650000     -87.780000      41.650000     -87.790000   \n",
       "25%        41.881690     -87.661206      41.881892     -87.661406   \n",
       "50%        41.898221     -87.643909      41.898259     -87.644098   \n",
       "75%        41.930000     -87.629634      41.930000     -87.629634   \n",
       "max        42.070000     -87.528232      42.070000     -87.528232   \n",
       "\n",
       "                    tripduration  \n",
       "count                     131139  \n",
       "mean   0 days 00:15:58.480627425  \n",
       "std    0 days 01:14:12.635927595  \n",
       "min              0 days 00:00:00  \n",
       "25%              0 days 00:05:45  \n",
       "50%              0 days 00:09:48  \n",
       "75%              0 days 00:17:27  \n",
       "max              6 days 18:20:59  "
      ]
     },
     "execution_count": 15,
     "metadata": {},
     "output_type": "execute_result"
    }
   ],
   "source": [
    "d2012.describe()"
   ]
  },
  {
   "cell_type": "code",
   "execution_count": null,
   "metadata": {},
   "outputs": [],
   "source": []
  },
  {
   "cell_type": "code",
   "execution_count": null,
   "metadata": {},
   "outputs": [],
   "source": []
  },
  {
   "cell_type": "code",
   "execution_count": 3,
   "metadata": {},
   "outputs": [
    {
     "name": "stdout",
     "output_type": "stream",
     "text": [
      "201901-divvy-tripdata.json\n",
      "201902-divvy-tripdata.json\n",
      "201903-divvy-tripdata.json\n",
      "201904-divvy-tripdata.json\n",
      "201905-divvy-tripdata.json\n",
      "201906-divvy-tripdata.json\n",
      "201907-divvy-tripdata.json\n",
      "201908-divvy-tripdata.json\n",
      "201909-divvy-tripdata.json\n",
      "201910-divvy-tripdata.json\n",
      "201911-divvy-tripdata.json\n",
      "201912-divvy-tripdata.json\n"
     ]
    },
    {
     "data": {
      "text/plain": [
       "(3818004, 16)"
      ]
     },
     "execution_count": 3,
     "metadata": {},
     "output_type": "execute_result"
    }
   ],
   "source": [
    "data19 = getData('2019')\n",
    "data19.shape"
   ]
  },
  {
   "cell_type": "code",
   "execution_count": 3,
   "metadata": {},
   "outputs": [
    {
     "name": "stdout",
     "output_type": "stream",
     "text": [
      "202001-divvy-tripdata.json\n",
      "202002-divvy-tripdata.json\n",
      "202003-divvy-tripdata.json\n",
      "202004-divvy-tripdata.json\n",
      "202005-divvy-tripdata.json\n",
      "202006-divvy-tripdata.json\n",
      "202007-divvy-tripdata.json\n",
      "202008-divvy-tripdata.json\n",
      "202009-divvy-tripdata.json\n",
      "202010-divvy-tripdata.json\n",
      "202011-divvy-tripdata.json\n",
      "202012-divvy-tripdata.json\n"
     ]
    },
    {
     "data": {
      "text/plain": [
       "(3541683, 13)"
      ]
     },
     "execution_count": 3,
     "metadata": {},
     "output_type": "execute_result"
    }
   ],
   "source": [
    "data20 = getData('2020')\n",
    "data20.shape"
   ]
  },
  {
   "cell_type": "code",
   "execution_count": null,
   "metadata": {},
   "outputs": [],
   "source": [
    "data20.drop(columns=['ride_id', 'rideable_type', 'start_station_name', 'start_station_id', 'end_station_name',\n",
    "       'end_station_id'],inplace=True)\n",
    "data20.rename(columns={'started_at':'start_time','ended_at':'end_time','member_casual':'usertype'},inplace=True)\n",
    "data20['tripduration'] = data20['end_time'] - data20['start_time']\n"
   ]
  },
  {
   "cell_type": "code",
   "execution_count": 5,
   "metadata": {},
   "outputs": [
    {
     "data": {
      "text/html": [
       "<div>\n",
       "<style scoped>\n",
       "    .dataframe tbody tr th:only-of-type {\n",
       "        vertical-align: middle;\n",
       "    }\n",
       "\n",
       "    .dataframe tbody tr th {\n",
       "        vertical-align: top;\n",
       "    }\n",
       "\n",
       "    .dataframe thead th {\n",
       "        text-align: right;\n",
       "    }\n",
       "</style>\n",
       "<table border=\"1\" class=\"dataframe\">\n",
       "  <thead>\n",
       "    <tr style=\"text-align: right;\">\n",
       "      <th></th>\n",
       "      <th>start_time</th>\n",
       "      <th>end_time</th>\n",
       "      <th>start_lat</th>\n",
       "      <th>start_lng</th>\n",
       "      <th>end_lat</th>\n",
       "      <th>end_lng</th>\n",
       "      <th>usertype</th>\n",
       "      <th>tripduration</th>\n",
       "    </tr>\n",
       "  </thead>\n",
       "  <tbody>\n",
       "    <tr>\n",
       "      <th>99279</th>\n",
       "      <td>2020-01-01 00:04:44</td>\n",
       "      <td>2020-01-01 00:17:08</td>\n",
       "      <td>41.9363</td>\n",
       "      <td>-87.6527</td>\n",
       "      <td>41.9561</td>\n",
       "      <td>-87.6688</td>\n",
       "      <td>casual</td>\n",
       "      <td>0 days 00:12:24</td>\n",
       "    </tr>\n",
       "    <tr>\n",
       "      <th>143776</th>\n",
       "      <td>2020-01-01 00:10:37</td>\n",
       "      <td>2020-01-01 00:10:54</td>\n",
       "      <td>41.8842</td>\n",
       "      <td>-87.6296</td>\n",
       "      <td>41.8842</td>\n",
       "      <td>-87.6296</td>\n",
       "      <td>member</td>\n",
       "      <td>0 days 00:00:17</td>\n",
       "    </tr>\n",
       "    <tr>\n",
       "      <th>143777</th>\n",
       "      <td>2020-01-01 00:11:14</td>\n",
       "      <td>2020-01-01 00:15:32</td>\n",
       "      <td>41.8842</td>\n",
       "      <td>-87.6296</td>\n",
       "      <td>41.8763</td>\n",
       "      <td>-87.6292</td>\n",
       "      <td>member</td>\n",
       "      <td>0 days 00:04:18</td>\n",
       "    </tr>\n",
       "    <tr>\n",
       "      <th>39811</th>\n",
       "      <td>2020-01-01 00:11:27</td>\n",
       "      <td>2020-01-01 00:13:15</td>\n",
       "      <td>41.9542</td>\n",
       "      <td>-87.6544</td>\n",
       "      <td>41.9528</td>\n",
       "      <td>-87.6500</td>\n",
       "      <td>member</td>\n",
       "      <td>0 days 00:01:48</td>\n",
       "    </tr>\n",
       "    <tr>\n",
       "      <th>94468</th>\n",
       "      <td>2020-01-01 00:12:34</td>\n",
       "      <td>2020-01-01 00:14:29</td>\n",
       "      <td>41.8675</td>\n",
       "      <td>-87.6322</td>\n",
       "      <td>41.8672</td>\n",
       "      <td>-87.6260</td>\n",
       "      <td>member</td>\n",
       "      <td>0 days 00:01:55</td>\n",
       "    </tr>\n",
       "  </tbody>\n",
       "</table>\n",
       "</div>"
      ],
      "text/plain": [
       "                start_time            end_time  start_lat  start_lng  end_lat  \\\n",
       "99279  2020-01-01 00:04:44 2020-01-01 00:17:08    41.9363   -87.6527  41.9561   \n",
       "143776 2020-01-01 00:10:37 2020-01-01 00:10:54    41.8842   -87.6296  41.8842   \n",
       "143777 2020-01-01 00:11:14 2020-01-01 00:15:32    41.8842   -87.6296  41.8763   \n",
       "39811  2020-01-01 00:11:27 2020-01-01 00:13:15    41.9542   -87.6544  41.9528   \n",
       "94468  2020-01-01 00:12:34 2020-01-01 00:14:29    41.8675   -87.6322  41.8672   \n",
       "\n",
       "        end_lng usertype    tripduration  \n",
       "99279  -87.6688   casual 0 days 00:12:24  \n",
       "143776 -87.6296   member 0 days 00:00:17  \n",
       "143777 -87.6292   member 0 days 00:04:18  \n",
       "39811  -87.6500   member 0 days 00:01:48  \n",
       "94468  -87.6260   member 0 days 00:01:55  "
      ]
     },
     "execution_count": 5,
     "metadata": {},
     "output_type": "execute_result"
    }
   ],
   "source": [
    "data20.head()"
   ]
  },
  {
   "cell_type": "code",
   "execution_count": 6,
   "metadata": {},
   "outputs": [
    {
     "data": {
      "text/html": [
       "<div>\n",
       "<style scoped>\n",
       "    .dataframe tbody tr th:only-of-type {\n",
       "        vertical-align: middle;\n",
       "    }\n",
       "\n",
       "    .dataframe tbody tr th {\n",
       "        vertical-align: top;\n",
       "    }\n",
       "\n",
       "    .dataframe thead th {\n",
       "        text-align: right;\n",
       "    }\n",
       "</style>\n",
       "<table border=\"1\" class=\"dataframe\">\n",
       "  <thead>\n",
       "    <tr style=\"text-align: right;\">\n",
       "      <th></th>\n",
       "      <th>start_lat</th>\n",
       "      <th>start_lng</th>\n",
       "      <th>end_lat</th>\n",
       "      <th>end_lng</th>\n",
       "      <th>tripduration</th>\n",
       "    </tr>\n",
       "  </thead>\n",
       "  <tbody>\n",
       "    <tr>\n",
       "      <th>count</th>\n",
       "      <td>3.541683e+06</td>\n",
       "      <td>3.541683e+06</td>\n",
       "      <td>3.537428e+06</td>\n",
       "      <td>3.537428e+06</td>\n",
       "      <td>3541683</td>\n",
       "    </tr>\n",
       "    <tr>\n",
       "      <th>mean</th>\n",
       "      <td>4.190376e+01</td>\n",
       "      <td>-8.764483e+01</td>\n",
       "      <td>4.190401e+01</td>\n",
       "      <td>-8.764509e+01</td>\n",
       "      <td>0 days 00:24:50.050446637</td>\n",
       "    </tr>\n",
       "    <tr>\n",
       "      <th>std</th>\n",
       "      <td>4.287934e-02</td>\n",
       "      <td>2.532487e-02</td>\n",
       "      <td>4.299847e-02</td>\n",
       "      <td>2.545005e-02</td>\n",
       "      <td>0 days 07:20:22.141436886</td>\n",
       "    </tr>\n",
       "    <tr>\n",
       "      <th>min</th>\n",
       "      <td>4.164000e+01</td>\n",
       "      <td>-8.787000e+01</td>\n",
       "      <td>4.154000e+01</td>\n",
       "      <td>-8.789000e+01</td>\n",
       "      <td>-21 days +19:50:02</td>\n",
       "    </tr>\n",
       "    <tr>\n",
       "      <th>25%</th>\n",
       "      <td>4.188213e+01</td>\n",
       "      <td>-8.765875e+01</td>\n",
       "      <td>4.188220e+01</td>\n",
       "      <td>-8.765889e+01</td>\n",
       "      <td>0 days 00:07:38</td>\n",
       "    </tr>\n",
       "    <tr>\n",
       "      <th>50%</th>\n",
       "      <td>4.189875e+01</td>\n",
       "      <td>-8.764119e+01</td>\n",
       "      <td>4.189897e+01</td>\n",
       "      <td>-8.764170e+01</td>\n",
       "      <td>0 days 00:14:04</td>\n",
       "    </tr>\n",
       "    <tr>\n",
       "      <th>75%</th>\n",
       "      <td>4.192950e+01</td>\n",
       "      <td>-8.762775e+01</td>\n",
       "      <td>4.192955e+01</td>\n",
       "      <td>-8.762780e+01</td>\n",
       "      <td>0 days 00:25:56</td>\n",
       "    </tr>\n",
       "    <tr>\n",
       "      <th>max</th>\n",
       "      <td>4.208000e+01</td>\n",
       "      <td>-8.752000e+01</td>\n",
       "      <td>4.216000e+01</td>\n",
       "      <td>-8.744000e+01</td>\n",
       "      <td>108 days 15:30:24</td>\n",
       "    </tr>\n",
       "  </tbody>\n",
       "</table>\n",
       "</div>"
      ],
      "text/plain": [
       "          start_lat     start_lng       end_lat       end_lng  \\\n",
       "count  3.541683e+06  3.541683e+06  3.537428e+06  3.537428e+06   \n",
       "mean   4.190376e+01 -8.764483e+01  4.190401e+01 -8.764509e+01   \n",
       "std    4.287934e-02  2.532487e-02  4.299847e-02  2.545005e-02   \n",
       "min    4.164000e+01 -8.787000e+01  4.154000e+01 -8.789000e+01   \n",
       "25%    4.188213e+01 -8.765875e+01  4.188220e+01 -8.765889e+01   \n",
       "50%    4.189875e+01 -8.764119e+01  4.189897e+01 -8.764170e+01   \n",
       "75%    4.192950e+01 -8.762775e+01  4.192955e+01 -8.762780e+01   \n",
       "max    4.208000e+01 -8.752000e+01  4.216000e+01 -8.744000e+01   \n",
       "\n",
       "                    tripduration  \n",
       "count                    3541683  \n",
       "mean   0 days 00:24:50.050446637  \n",
       "std    0 days 07:20:22.141436886  \n",
       "min           -21 days +19:50:02  \n",
       "25%              0 days 00:07:38  \n",
       "50%              0 days 00:14:04  \n",
       "75%              0 days 00:25:56  \n",
       "max            108 days 15:30:24  "
      ]
     },
     "execution_count": 6,
     "metadata": {},
     "output_type": "execute_result"
    }
   ],
   "source": [
    "data20.describe()"
   ]
  },
  {
   "cell_type": "code",
   "execution_count": 7,
   "metadata": {},
   "outputs": [
    {
     "data": {
      "text/html": [
       "<div>\n",
       "<style scoped>\n",
       "    .dataframe tbody tr th:only-of-type {\n",
       "        vertical-align: middle;\n",
       "    }\n",
       "\n",
       "    .dataframe tbody tr th {\n",
       "        vertical-align: top;\n",
       "    }\n",
       "\n",
       "    .dataframe thead th {\n",
       "        text-align: right;\n",
       "    }\n",
       "</style>\n",
       "<table border=\"1\" class=\"dataframe\">\n",
       "  <thead>\n",
       "    <tr style=\"text-align: right;\">\n",
       "      <th></th>\n",
       "      <th>start_time</th>\n",
       "      <th>end_time</th>\n",
       "      <th>start_lat</th>\n",
       "      <th>start_lng</th>\n",
       "      <th>end_lat</th>\n",
       "      <th>end_lng</th>\n",
       "      <th>usertype</th>\n",
       "      <th>tripduration</th>\n",
       "    </tr>\n",
       "  </thead>\n",
       "  <tbody>\n",
       "    <tr>\n",
       "      <th>155332</th>\n",
       "      <td>2020-02-28 10:09:43</td>\n",
       "      <td>2020-02-28 10:09:42</td>\n",
       "      <td>41.8899</td>\n",
       "      <td>-87.6803</td>\n",
       "      <td>41.8899</td>\n",
       "      <td>-87.6803</td>\n",
       "      <td>casual</td>\n",
       "      <td>-1 days +23:59:59</td>\n",
       "    </tr>\n",
       "    <tr>\n",
       "      <th>403763</th>\n",
       "      <td>2020-03-06 09:32:54</td>\n",
       "      <td>2020-03-06 09:32:52</td>\n",
       "      <td>41.8899</td>\n",
       "      <td>-87.6803</td>\n",
       "      <td>41.8899</td>\n",
       "      <td>-87.6803</td>\n",
       "      <td>casual</td>\n",
       "      <td>-1 days +23:59:58</td>\n",
       "    </tr>\n",
       "    <tr>\n",
       "      <th>365429</th>\n",
       "      <td>2020-03-09 14:02:50</td>\n",
       "      <td>2020-03-09 14:02:46</td>\n",
       "      <td>41.8899</td>\n",
       "      <td>-87.6803</td>\n",
       "      <td>41.8899</td>\n",
       "      <td>-87.6803</td>\n",
       "      <td>casual</td>\n",
       "      <td>-1 days +23:59:56</td>\n",
       "    </tr>\n",
       "    <tr>\n",
       "      <th>313192</th>\n",
       "      <td>2020-03-10 13:02:39</td>\n",
       "      <td>2020-03-10 13:02:28</td>\n",
       "      <td>41.8899</td>\n",
       "      <td>-87.6803</td>\n",
       "      <td>41.8899</td>\n",
       "      <td>-87.6803</td>\n",
       "      <td>casual</td>\n",
       "      <td>-1 days +23:59:49</td>\n",
       "    </tr>\n",
       "    <tr>\n",
       "      <th>304559</th>\n",
       "      <td>2020-03-10 13:10:45</td>\n",
       "      <td>2020-03-10 13:10:33</td>\n",
       "      <td>41.8899</td>\n",
       "      <td>-87.6803</td>\n",
       "      <td>41.8899</td>\n",
       "      <td>-87.6803</td>\n",
       "      <td>casual</td>\n",
       "      <td>-1 days +23:59:48</td>\n",
       "    </tr>\n",
       "  </tbody>\n",
       "</table>\n",
       "</div>"
      ],
      "text/plain": [
       "                start_time            end_time  start_lat  start_lng  end_lat  \\\n",
       "155332 2020-02-28 10:09:43 2020-02-28 10:09:42    41.8899   -87.6803  41.8899   \n",
       "403763 2020-03-06 09:32:54 2020-03-06 09:32:52    41.8899   -87.6803  41.8899   \n",
       "365429 2020-03-09 14:02:50 2020-03-09 14:02:46    41.8899   -87.6803  41.8899   \n",
       "313192 2020-03-10 13:02:39 2020-03-10 13:02:28    41.8899   -87.6803  41.8899   \n",
       "304559 2020-03-10 13:10:45 2020-03-10 13:10:33    41.8899   -87.6803  41.8899   \n",
       "\n",
       "        end_lng usertype      tripduration  \n",
       "155332 -87.6803   casual -1 days +23:59:59  \n",
       "403763 -87.6803   casual -1 days +23:59:58  \n",
       "365429 -87.6803   casual -1 days +23:59:56  \n",
       "313192 -87.6803   casual -1 days +23:59:49  \n",
       "304559 -87.6803   casual -1 days +23:59:48  "
      ]
     },
     "execution_count": 7,
     "metadata": {},
     "output_type": "execute_result"
    }
   ],
   "source": [
    "prob = data20[data20['tripduration'] < '0:00:00']\n",
    "prob.head()"
   ]
  },
  {
   "cell_type": "code",
   "execution_count": 8,
   "metadata": {},
   "outputs": [
    {
     "data": {
      "text/html": [
       "<div>\n",
       "<style scoped>\n",
       "    .dataframe tbody tr th:only-of-type {\n",
       "        vertical-align: middle;\n",
       "    }\n",
       "\n",
       "    .dataframe tbody tr th {\n",
       "        vertical-align: top;\n",
       "    }\n",
       "\n",
       "    .dataframe thead th {\n",
       "        text-align: right;\n",
       "    }\n",
       "</style>\n",
       "<table border=\"1\" class=\"dataframe\">\n",
       "  <thead>\n",
       "    <tr style=\"text-align: right;\">\n",
       "      <th></th>\n",
       "      <th>start_lat</th>\n",
       "      <th>start_lng</th>\n",
       "      <th>end_lat</th>\n",
       "      <th>end_lng</th>\n",
       "      <th>tripduration</th>\n",
       "    </tr>\n",
       "  </thead>\n",
       "  <tbody>\n",
       "    <tr>\n",
       "      <th>count</th>\n",
       "      <td>10665.000000</td>\n",
       "      <td>10665.000000</td>\n",
       "      <td>10639.000000</td>\n",
       "      <td>10639.000000</td>\n",
       "      <td>10665</td>\n",
       "    </tr>\n",
       "    <tr>\n",
       "      <th>mean</th>\n",
       "      <td>41.905145</td>\n",
       "      <td>-87.640899</td>\n",
       "      <td>41.905472</td>\n",
       "      <td>-87.642753</td>\n",
       "      <td>-1 days +07:05:44.387998125</td>\n",
       "    </tr>\n",
       "    <tr>\n",
       "      <th>std</th>\n",
       "      <td>0.038737</td>\n",
       "      <td>0.021870</td>\n",
       "      <td>0.039757</td>\n",
       "      <td>0.022618</td>\n",
       "      <td>3 days 16:05:51.065799012</td>\n",
       "    </tr>\n",
       "    <tr>\n",
       "      <th>min</th>\n",
       "      <td>41.691300</td>\n",
       "      <td>-87.774446</td>\n",
       "      <td>41.700000</td>\n",
       "      <td>-87.774446</td>\n",
       "      <td>-21 days +19:50:02</td>\n",
       "    </tr>\n",
       "    <tr>\n",
       "      <th>25%</th>\n",
       "      <td>41.884241</td>\n",
       "      <td>-87.652310</td>\n",
       "      <td>41.883668</td>\n",
       "      <td>-87.654020</td>\n",
       "      <td>-1 days +23:59:35</td>\n",
       "    </tr>\n",
       "    <tr>\n",
       "      <th>50%</th>\n",
       "      <td>41.900363</td>\n",
       "      <td>-87.636829</td>\n",
       "      <td>41.899930</td>\n",
       "      <td>-87.638973</td>\n",
       "      <td>-1 days +23:59:47</td>\n",
       "    </tr>\n",
       "    <tr>\n",
       "      <th>75%</th>\n",
       "      <td>41.929499</td>\n",
       "      <td>-87.626761</td>\n",
       "      <td>41.930585</td>\n",
       "      <td>-87.627691</td>\n",
       "      <td>-1 days +23:59:54</td>\n",
       "    </tr>\n",
       "    <tr>\n",
       "      <th>max</th>\n",
       "      <td>42.064313</td>\n",
       "      <td>-87.552812</td>\n",
       "      <td>42.064854</td>\n",
       "      <td>-87.549386</td>\n",
       "      <td>-1 days +23:59:59</td>\n",
       "    </tr>\n",
       "  </tbody>\n",
       "</table>\n",
       "</div>"
      ],
      "text/plain": [
       "          start_lat     start_lng       end_lat       end_lng  \\\n",
       "count  10665.000000  10665.000000  10639.000000  10639.000000   \n",
       "mean      41.905145    -87.640899     41.905472    -87.642753   \n",
       "std        0.038737      0.021870      0.039757      0.022618   \n",
       "min       41.691300    -87.774446     41.700000    -87.774446   \n",
       "25%       41.884241    -87.652310     41.883668    -87.654020   \n",
       "50%       41.900363    -87.636829     41.899930    -87.638973   \n",
       "75%       41.929499    -87.626761     41.930585    -87.627691   \n",
       "max       42.064313    -87.552812     42.064854    -87.549386   \n",
       "\n",
       "                      tripduration  \n",
       "count                        10665  \n",
       "mean   -1 days +07:05:44.387998125  \n",
       "std      3 days 16:05:51.065799012  \n",
       "min             -21 days +19:50:02  \n",
       "25%              -1 days +23:59:35  \n",
       "50%              -1 days +23:59:47  \n",
       "75%              -1 days +23:59:54  \n",
       "max              -1 days +23:59:59  "
      ]
     },
     "execution_count": 8,
     "metadata": {},
     "output_type": "execute_result"
    }
   ],
   "source": [
    "prob.describe()"
   ]
  },
  {
   "cell_type": "code",
   "execution_count": 9,
   "metadata": {},
   "outputs": [
    {
     "data": {
      "text/plain": [
       "0.3011280230331173"
      ]
     },
     "execution_count": 9,
     "metadata": {},
     "output_type": "execute_result"
    }
   ],
   "source": [
    "len(prob)/len(data20)*100"
   ]
  },
  {
   "cell_type": "code",
   "execution_count": 10,
   "metadata": {},
   "outputs": [
    {
     "name": "stdout",
     "output_type": "stream",
     "text": [
      "before: 3541683\n",
      "after:  3472163\n",
      "dropped =  69520 1.9629085945862461\n"
     ]
    }
   ],
   "source": [
    "b = len(data20)\n",
    "\n",
    "print('before:',b)\n",
    "data20.drop(data20[data20['tripduration'] < '0:00:00'].index, inplace=True)\n",
    "print('after: ',len(data20))\n",
    "print('dropped = ',b-len(data20),(b-len(data20))/b*100)"
   ]
  },
  {
   "cell_type": "code",
   "execution_count": 11,
   "metadata": {},
   "outputs": [
    {
     "data": {
      "text/html": [
       "<div>\n",
       "<style scoped>\n",
       "    .dataframe tbody tr th:only-of-type {\n",
       "        vertical-align: middle;\n",
       "    }\n",
       "\n",
       "    .dataframe tbody tr th {\n",
       "        vertical-align: top;\n",
       "    }\n",
       "\n",
       "    .dataframe thead th {\n",
       "        text-align: right;\n",
       "    }\n",
       "</style>\n",
       "<table border=\"1\" class=\"dataframe\">\n",
       "  <thead>\n",
       "    <tr style=\"text-align: right;\">\n",
       "      <th></th>\n",
       "      <th>start_lat</th>\n",
       "      <th>start_lng</th>\n",
       "      <th>end_lat</th>\n",
       "      <th>end_lng</th>\n",
       "      <th>tripduration</th>\n",
       "    </tr>\n",
       "  </thead>\n",
       "  <tbody>\n",
       "    <tr>\n",
       "      <th>count</th>\n",
       "      <td>3.472163e+06</td>\n",
       "      <td>3.472163e+06</td>\n",
       "      <td>3.467989e+06</td>\n",
       "      <td>3.467989e+06</td>\n",
       "      <td>3472163</td>\n",
       "    </tr>\n",
       "    <tr>\n",
       "      <th>mean</th>\n",
       "      <td>4.190376e+01</td>\n",
       "      <td>-8.764484e+01</td>\n",
       "      <td>4.190401e+01</td>\n",
       "      <td>-8.764510e+01</td>\n",
       "      <td>0 days 00:27:59.318281428</td>\n",
       "    </tr>\n",
       "    <tr>\n",
       "      <th>std</th>\n",
       "      <td>4.288855e-02</td>\n",
       "      <td>2.533557e-02</td>\n",
       "      <td>4.300561e-02</td>\n",
       "      <td>2.545964e-02</td>\n",
       "      <td>0 days 05:27:51.571191068</td>\n",
       "    </tr>\n",
       "    <tr>\n",
       "      <th>min</th>\n",
       "      <td>4.164000e+01</td>\n",
       "      <td>-8.787000e+01</td>\n",
       "      <td>4.154000e+01</td>\n",
       "      <td>-8.789000e+01</td>\n",
       "      <td>0 days 00:00:00</td>\n",
       "    </tr>\n",
       "    <tr>\n",
       "      <th>25%</th>\n",
       "      <td>4.188213e+01</td>\n",
       "      <td>-8.765875e+01</td>\n",
       "      <td>4.188220e+01</td>\n",
       "      <td>-8.765890e+01</td>\n",
       "      <td>0 days 00:07:41</td>\n",
       "    </tr>\n",
       "    <tr>\n",
       "      <th>50%</th>\n",
       "      <td>4.189877e+01</td>\n",
       "      <td>-8.764120e+01</td>\n",
       "      <td>4.189897e+01</td>\n",
       "      <td>-8.764170e+01</td>\n",
       "      <td>0 days 00:14:07</td>\n",
       "    </tr>\n",
       "    <tr>\n",
       "      <th>75%</th>\n",
       "      <td>4.192950e+01</td>\n",
       "      <td>-8.762775e+01</td>\n",
       "      <td>4.192955e+01</td>\n",
       "      <td>-8.762780e+01</td>\n",
       "      <td>0 days 00:25:59</td>\n",
       "    </tr>\n",
       "    <tr>\n",
       "      <th>max</th>\n",
       "      <td>4.208000e+01</td>\n",
       "      <td>-8.752000e+01</td>\n",
       "      <td>4.216000e+01</td>\n",
       "      <td>-8.744000e+01</td>\n",
       "      <td>108 days 15:30:24</td>\n",
       "    </tr>\n",
       "  </tbody>\n",
       "</table>\n",
       "</div>"
      ],
      "text/plain": [
       "          start_lat     start_lng       end_lat       end_lng  \\\n",
       "count  3.472163e+06  3.472163e+06  3.467989e+06  3.467989e+06   \n",
       "mean   4.190376e+01 -8.764484e+01  4.190401e+01 -8.764510e+01   \n",
       "std    4.288855e-02  2.533557e-02  4.300561e-02  2.545964e-02   \n",
       "min    4.164000e+01 -8.787000e+01  4.154000e+01 -8.789000e+01   \n",
       "25%    4.188213e+01 -8.765875e+01  4.188220e+01 -8.765890e+01   \n",
       "50%    4.189877e+01 -8.764120e+01  4.189897e+01 -8.764170e+01   \n",
       "75%    4.192950e+01 -8.762775e+01  4.192955e+01 -8.762780e+01   \n",
       "max    4.208000e+01 -8.752000e+01  4.216000e+01 -8.744000e+01   \n",
       "\n",
       "                    tripduration  \n",
       "count                    3472163  \n",
       "mean   0 days 00:27:59.318281428  \n",
       "std    0 days 05:27:51.571191068  \n",
       "min              0 days 00:00:00  \n",
       "25%              0 days 00:07:41  \n",
       "50%              0 days 00:14:07  \n",
       "75%              0 days 00:25:59  \n",
       "max            108 days 15:30:24  "
      ]
     },
     "execution_count": 11,
     "metadata": {},
     "output_type": "execute_result"
    }
   ],
   "source": [
    "data20.describe()"
   ]
  },
  {
   "cell_type": "code",
   "execution_count": 12,
   "metadata": {},
   "outputs": [],
   "source": [
    "data20['month'] = pd.DatetimeIndex(data20['start_time']).month\n",
    "data20['year'] = pd.DatetimeIndex(data20['start_time']).year"
   ]
  },
  {
   "cell_type": "code",
   "execution_count": 13,
   "metadata": {},
   "outputs": [
    {
     "data": {
      "text/html": [
       "<div>\n",
       "<style scoped>\n",
       "    .dataframe tbody tr th:only-of-type {\n",
       "        vertical-align: middle;\n",
       "    }\n",
       "\n",
       "    .dataframe tbody tr th {\n",
       "        vertical-align: top;\n",
       "    }\n",
       "\n",
       "    .dataframe thead tr th {\n",
       "        text-align: left;\n",
       "    }\n",
       "\n",
       "    .dataframe thead tr:last-of-type th {\n",
       "        text-align: right;\n",
       "    }\n",
       "</style>\n",
       "<table border=\"1\" class=\"dataframe\">\n",
       "  <thead>\n",
       "    <tr>\n",
       "      <th></th>\n",
       "      <th colspan=\"2\" halign=\"left\">mean</th>\n",
       "    </tr>\n",
       "    <tr>\n",
       "      <th>year</th>\n",
       "      <th colspan=\"2\" halign=\"left\">2020</th>\n",
       "    </tr>\n",
       "    <tr>\n",
       "      <th>usertype</th>\n",
       "      <th>casual</th>\n",
       "      <th>member</th>\n",
       "    </tr>\n",
       "    <tr>\n",
       "      <th>month</th>\n",
       "      <th></th>\n",
       "      <th></th>\n",
       "    </tr>\n",
       "  </thead>\n",
       "  <tbody>\n",
       "    <tr>\n",
       "      <th>1</th>\n",
       "      <td>0 days 02:44:14.224495148</td>\n",
       "      <td>0 days 00:11:07.096063145</td>\n",
       "    </tr>\n",
       "    <tr>\n",
       "      <th>2</th>\n",
       "      <td>0 days 02:07:52.678551576</td>\n",
       "      <td>0 days 00:12:50.609336232</td>\n",
       "    </tr>\n",
       "    <tr>\n",
       "      <th>3</th>\n",
       "      <td>0 days 01:03:19.231369531</td>\n",
       "      <td>0 days 00:14:21.617471652</td>\n",
       "    </tr>\n",
       "    <tr>\n",
       "      <th>4</th>\n",
       "      <td>0 days 01:13:34.635799543</td>\n",
       "      <td>0 days 00:21:33.099462052</td>\n",
       "    </tr>\n",
       "    <tr>\n",
       "      <th>5</th>\n",
       "      <td>0 days 00:51:04.373642790</td>\n",
       "      <td>0 days 00:19:46.572813782</td>\n",
       "    </tr>\n",
       "    <tr>\n",
       "      <th>6</th>\n",
       "      <td>0 days 00:51:49.666778984</td>\n",
       "      <td>0 days 00:18:43.822416563</td>\n",
       "    </tr>\n",
       "    <tr>\n",
       "      <th>7</th>\n",
       "      <td>0 days 00:59:44.317448142</td>\n",
       "      <td>0 days 00:17:46.309840372</td>\n",
       "    </tr>\n",
       "    <tr>\n",
       "      <th>8</th>\n",
       "      <td>0 days 00:44:59.836589953</td>\n",
       "      <td>0 days 00:16:50.276789156</td>\n",
       "    </tr>\n",
       "    <tr>\n",
       "      <th>9</th>\n",
       "      <td>0 days 00:38:11.977702133</td>\n",
       "      <td>0 days 00:15:33.097594490</td>\n",
       "    </tr>\n",
       "    <tr>\n",
       "      <th>10</th>\n",
       "      <td>0 days 00:30:15.354670830</td>\n",
       "      <td>0 days 00:14:02.341403636</td>\n",
       "    </tr>\n",
       "    <tr>\n",
       "      <th>11</th>\n",
       "      <td>0 days 00:31:50.813087034</td>\n",
       "      <td>0 days 00:13:35.213734987</td>\n",
       "    </tr>\n",
       "    <tr>\n",
       "      <th>12</th>\n",
       "      <td>0 days 00:26:55.189357735</td>\n",
       "      <td>0 days 00:12:44.148956738</td>\n",
       "    </tr>\n",
       "  </tbody>\n",
       "</table>\n",
       "</div>"
      ],
      "text/plain": [
       "                              mean                          \n",
       "year                          2020                          \n",
       "usertype                    casual                    member\n",
       "month                                                       \n",
       "1        0 days 02:44:14.224495148 0 days 00:11:07.096063145\n",
       "2        0 days 02:07:52.678551576 0 days 00:12:50.609336232\n",
       "3        0 days 01:03:19.231369531 0 days 00:14:21.617471652\n",
       "4        0 days 01:13:34.635799543 0 days 00:21:33.099462052\n",
       "5        0 days 00:51:04.373642790 0 days 00:19:46.572813782\n",
       "6        0 days 00:51:49.666778984 0 days 00:18:43.822416563\n",
       "7        0 days 00:59:44.317448142 0 days 00:17:46.309840372\n",
       "8        0 days 00:44:59.836589953 0 days 00:16:50.276789156\n",
       "9        0 days 00:38:11.977702133 0 days 00:15:33.097594490\n",
       "10       0 days 00:30:15.354670830 0 days 00:14:02.341403636\n",
       "11       0 days 00:31:50.813087034 0 days 00:13:35.213734987\n",
       "12       0 days 00:26:55.189357735 0 days 00:12:44.148956738"
      ]
     },
     "execution_count": 13,
     "metadata": {},
     "output_type": "execute_result"
    }
   ],
   "source": [
    "d20_pivot = data20.pivot_table(index=['month'],columns=['year','usertype'],values='tripduration',aggfunc = ['mean'])\n",
    "d20_pivot"
   ]
  },
  {
   "cell_type": "code",
   "execution_count": null,
   "metadata": {},
   "outputs": [],
   "source": []
  },
  {
   "cell_type": "code",
   "execution_count": null,
   "metadata": {},
   "outputs": [],
   "source": []
  },
  {
   "cell_type": "code",
   "execution_count": 5,
   "metadata": {},
   "outputs": [
    {
     "name": "stdout",
     "output_type": "stream",
     "text": [
      "202101-divvy-tripdata.json\n",
      "202102-divvy-tripdata.json\n",
      "202103-divvy-tripdata.json\n",
      "202104-divvy-tripdata.json\n",
      "202105-divvy-tripdata.json\n",
      "202106-divvy-tripdata.json\n",
      "202107-divvy-tripdata.json\n",
      "202108-divvy-tripdata.json\n",
      "202109-divvy-tripdata.json\n",
      "202110-divvy-tripdata.json\n",
      "202111-divvy-tripdata.json\n",
      "202112-divvy-tripdata.json\n"
     ]
    }
   ],
   "source": [
    "data21 = getData('2021')"
   ]
  },
  {
   "cell_type": "code",
   "execution_count": 7,
   "metadata": {},
   "outputs": [
    {
     "data": {
      "text/plain": [
       "(5595063, 13)"
      ]
     },
     "execution_count": 7,
     "metadata": {},
     "output_type": "execute_result"
    }
   ],
   "source": [
    "data21.shape"
   ]
  },
  {
   "cell_type": "code",
   "execution_count": 8,
   "metadata": {},
   "outputs": [
    {
     "data": {
      "text/plain": [
       "Index(['trip_id', 'start_time', 'end_time', 'bikeid', 'tripduration',\n",
       "       'from_station_id', 'from_station_name', 'to_station_id',\n",
       "       'to_station_name', 'usertype', 'gender', 'birthyear', 'start_lat',\n",
       "       'start_lng', 'end_lat', 'end_lng'],\n",
       "      dtype='object')"
      ]
     },
     "execution_count": 8,
     "metadata": {},
     "output_type": "execute_result"
    }
   ],
   "source": [
    "data19.columns"
   ]
  },
  {
   "cell_type": "code",
   "execution_count": 9,
   "metadata": {},
   "outputs": [
    {
     "data": {
      "text/plain": [
       "Index(['ride_id', 'rideable_type', 'started_at', 'ended_at',\n",
       "       'start_station_name', 'start_station_id', 'end_station_name',\n",
       "       'end_station_id', 'start_lat', 'start_lng', 'end_lat', 'end_lng',\n",
       "       'member_casual'],\n",
       "      dtype='object')"
      ]
     },
     "execution_count": 9,
     "metadata": {},
     "output_type": "execute_result"
    }
   ],
   "source": [
    "data20.columns"
   ]
  },
  {
   "cell_type": "markdown",
   "metadata": {},
   "source": [
    "In 2020, Divvy changed the sort of information it collected. For this analysis, let's drop the columns we don't care about and combine the two DFs.\n",
    "\n",
    "Eliminate: 2019: ride_id, bikeid, from_station_id, from_station_name, to_station_id, to_station_name, gender, birthyear\n",
    "    2020: ride_id, ridable_type, start_station_name, start_station_id, end_station_name, end_station_id\n",
    "\n",
    "Rename: 2020: started_at -> start_time, ended_at -> end_time\n",
    "\n",
    "Finally, for some rows, the end time is before the start time. This results in negative \"tripduration\" values. These errors seem to be when bikes are removed or added to the system (the station ID fields are often blank or the start and end locations are identical). In any case, they represent a very small proportion of the total number of rows, so we will just drop them."
   ]
  },
  {
   "cell_type": "code",
   "execution_count": 6,
   "metadata": {},
   "outputs": [
    {
     "name": "stdout",
     "output_type": "stream",
     "text": [
      "before: 3818004\n",
      "after:  3817965\n"
     ]
    }
   ],
   "source": [
    "data19.drop(columns = ['trip_id', 'bikeid', 'from_station_id', 'from_station_name', 'to_station_id',\n",
    "       'to_station_name', 'gender', 'birthyear','tripduration'],inplace=True)\n",
    "data19['tripduration'] = data19['end_time'] - data19['start_time']\n",
    "\n",
    "print('before:',len(data19))\n",
    "data19.drop(data19[data19['tripduration'] < '0:00:00'].index, inplace=True)\n",
    "print('after: ',len(data19))\n"
   ]
  },
  {
   "cell_type": "code",
   "execution_count": 8,
   "metadata": {},
   "outputs": [
    {
     "name": "stdout",
     "output_type": "stream",
     "text": [
      "before: 3817965\n",
      "after:  3472163\n",
      "dropped =  345802\n"
     ]
    }
   ],
   "source": [
    "data20.drop(columns=['ride_id', 'rideable_type', 'start_station_name', 'start_station_id', 'end_station_name',\n",
    "       'end_station_id'],inplace=True)\n",
    "data20.rename(columns={'started_at':'start_time','ended_at':'end_time','member_casual':'usertype'},inplace=True)\n",
    "data20['tripduration'] = data20['end_time'] - data20['start_time']\n",
    "\n",
    "b = len(data20)\n",
    "\n",
    "print('before:',b)\n",
    "data20.drop(data20[data20['tripduration'] < '0:00:00'].index, inplace=True)\n",
    "print('after: ',len(data20))\n",
    "print('dropped = ',b-len(data20),(b-len(data20))/b*100)"
   ]
  },
  {
   "cell_type": "code",
   "execution_count": 9,
   "metadata": {},
   "outputs": [
    {
     "name": "stdout",
     "output_type": "stream",
     "text": [
      "before: 3817965\n",
      "after:  5593819\n",
      "dropped =  -1775854\n"
     ]
    }
   ],
   "source": [
    "data21.drop(columns=['ride_id', 'rideable_type', 'start_station_name', 'start_station_id', 'end_station_name',\n",
    "       'end_station_id'],inplace=True)\n",
    "data21.rename(columns={'started_at':'start_time','ended_at':'end_time','member_casual':'usertype'},inplace=True)\n",
    "data21['tripduration'] = data21['end_time'] - data21['start_time']\n",
    "\n",
    "b = len(data21)\n",
    "\n",
    "print('before:',b)\n",
    "data21.drop(data21[data21['tripduration'] < '0:00:00'].index, inplace=True)\n",
    "print('after: ',len(data21))\n",
    "print('dropped = ',b-len(data21))"
   ]
  },
  {
   "cell_type": "code",
   "execution_count": 10,
   "metadata": {},
   "outputs": [
    {
     "name": "stdout",
     "output_type": "stream",
     "text": [
      "change from 19 to 20  -0.09057233369085363\n",
      "change from 20 to 21  0.611047350023602\n"
     ]
    }
   ],
   "source": [
    "print('change from 19 to 20 ',(len(data20) - len(data19))/len(data19) )\n",
    "print('change from 20 to 21 ',(len(data21) - len(data20))/len(data20) )"
   ]
  },
  {
   "cell_type": "code",
   "execution_count": 11,
   "metadata": {},
   "outputs": [
    {
     "name": "stdout",
     "output_type": "stream",
     "text": [
      "<class 'pandas.core.frame.DataFrame'>\n",
      "Int64Index: 12883947 entries, 0 to 247539\n",
      "Data columns (total 8 columns):\n",
      " #   Column        Dtype          \n",
      "---  ------        -----          \n",
      " 0   start_time    datetime64[ns] \n",
      " 1   end_time      datetime64[ns] \n",
      " 2   usertype      object         \n",
      " 3   start_lat     float64        \n",
      " 4   start_lng     float64        \n",
      " 5   end_lat       float64        \n",
      " 6   end_lng       float64        \n",
      " 7   tripduration  timedelta64[ns]\n",
      "dtypes: datetime64[ns](2), float64(4), object(1), timedelta64[ns](1)\n",
      "memory usage: 884.7+ MB\n"
     ]
    }
   ],
   "source": [
    "bigData = pd.concat([data19,data20,data21],axis=0)\n",
    "bigData.info()"
   ]
  },
  {
   "cell_type": "code",
   "execution_count": 12,
   "metadata": {},
   "outputs": [],
   "source": [
    "bigData['month'] = pd.DatetimeIndex(bigData['start_time']).month\n",
    "bigData['year'] = pd.DatetimeIndex(bigData['start_time']).year\n",
    "# I added these to facilitate doing a pivot table based on year and month"
   ]
  },
  {
   "cell_type": "code",
   "execution_count": 45,
   "metadata": {},
   "outputs": [
    {
     "data": {
      "text/html": [
       "<div>\n",
       "<style scoped>\n",
       "    .dataframe tbody tr th:only-of-type {\n",
       "        vertical-align: middle;\n",
       "    }\n",
       "\n",
       "    .dataframe tbody tr th {\n",
       "        vertical-align: top;\n",
       "    }\n",
       "\n",
       "    .dataframe thead th {\n",
       "        text-align: right;\n",
       "    }\n",
       "</style>\n",
       "<table border=\"1\" class=\"dataframe\">\n",
       "  <thead>\n",
       "    <tr style=\"text-align: right;\">\n",
       "      <th>year</th>\n",
       "      <th>2019</th>\n",
       "      <th>2020</th>\n",
       "      <th>2021</th>\n",
       "    </tr>\n",
       "    <tr>\n",
       "      <th>month</th>\n",
       "      <th></th>\n",
       "      <th></th>\n",
       "      <th></th>\n",
       "    </tr>\n",
       "  </thead>\n",
       "  <tbody>\n",
       "    <tr>\n",
       "      <th>1</th>\n",
       "      <td>103214</td>\n",
       "      <td>143884</td>\n",
       "      <td>96834</td>\n",
       "    </tr>\n",
       "    <tr>\n",
       "      <th>2</th>\n",
       "      <td>96146</td>\n",
       "      <td>139585</td>\n",
       "      <td>49622</td>\n",
       "    </tr>\n",
       "    <tr>\n",
       "      <th>3</th>\n",
       "      <td>165390</td>\n",
       "      <td>143418</td>\n",
       "      <td>228496</td>\n",
       "    </tr>\n",
       "    <tr>\n",
       "      <th>4</th>\n",
       "      <td>264690</td>\n",
       "      <td>84776</td>\n",
       "      <td>337230</td>\n",
       "    </tr>\n",
       "    <tr>\n",
       "      <th>5</th>\n",
       "      <td>366469</td>\n",
       "      <td>200274</td>\n",
       "      <td>531633</td>\n",
       "    </tr>\n",
       "    <tr>\n",
       "      <th>6</th>\n",
       "      <td>473985</td>\n",
       "      <td>343005</td>\n",
       "      <td>729595</td>\n",
       "    </tr>\n",
       "    <tr>\n",
       "      <th>7</th>\n",
       "      <td>555226</td>\n",
       "      <td>551480</td>\n",
       "      <td>822410</td>\n",
       "    </tr>\n",
       "    <tr>\n",
       "      <th>8</th>\n",
       "      <td>588101</td>\n",
       "      <td>622361</td>\n",
       "      <td>804352</td>\n",
       "    </tr>\n",
       "    <tr>\n",
       "      <th>9</th>\n",
       "      <td>491935</td>\n",
       "      <td>532958</td>\n",
       "      <td>756147</td>\n",
       "    </tr>\n",
       "    <tr>\n",
       "      <th>10</th>\n",
       "      <td>371180</td>\n",
       "      <td>388653</td>\n",
       "      <td>631226</td>\n",
       "    </tr>\n",
       "    <tr>\n",
       "      <th>11</th>\n",
       "      <td>177026</td>\n",
       "      <td>259716</td>\n",
       "      <td>359978</td>\n",
       "    </tr>\n",
       "    <tr>\n",
       "      <th>12</th>\n",
       "      <td>154926</td>\n",
       "      <td>131573</td>\n",
       "      <td>247540</td>\n",
       "    </tr>\n",
       "  </tbody>\n",
       "</table>\n",
       "</div>"
      ],
      "text/plain": [
       "year     2019    2020    2021\n",
       "month                        \n",
       "1      103214  143884   96834\n",
       "2       96146  139585   49622\n",
       "3      165390  143418  228496\n",
       "4      264690   84776  337230\n",
       "5      366469  200274  531633\n",
       "6      473985  343005  729595\n",
       "7      555226  551480  822410\n",
       "8      588101  622361  804352\n",
       "9      491935  532958  756147\n",
       "10     371180  388653  631226\n",
       "11     177026  259716  359978\n",
       "12     154926  131573  247540"
      ]
     },
     "execution_count": 45,
     "metadata": {},
     "output_type": "execute_result"
    }
   ],
   "source": [
    "pivot1920 = bigData.pivot_table(index='month',columns='year',values='start_lat',aggfunc = 'count')\n",
    "pivot1920"
   ]
  },
  {
   "cell_type": "code",
   "execution_count": 53,
   "metadata": {},
   "outputs": [
    {
     "data": {
      "text/plain": [
       "Text(0.5, 1.0, 'Number of Divvy rides per month in 2019, 2020, and 2021')"
      ]
     },
     "execution_count": 53,
     "metadata": {},
     "output_type": "execute_result"
    },
    {
     "data": {
      "image/png": "[encoded data removed]",
      "text/plain": [
       "<Figure size 792x648 with 1 Axes>"
      ]
     },
     "metadata": {
      "needs_background": "light"
     },
     "output_type": "display_data"
    }
   ],
   "source": [
    "pivot1920.plot(kind = 'bar',figsize=(11,9))\n",
    "plt.xticks(rotation=0,horizontalalignment = 'center')\n",
    "plt.ylabel('Number of Rides')\n",
    "plt.xlabel('Month of year')\n",
    "plt.title('Number of Divvy rides per month in 2019, 2020, and 2021')"
   ]
  },
  {
   "cell_type": "markdown",
   "metadata": {},
   "source": [
    "Initially 2020 was shaping up to be a boom year for Divvy, but Covid shutdowns (or fear of using public bikes) hammered the number of riders in March - June. Ridership was about the same in July and was higher in 2020 than in 2019 for Aug thru Nov."
   ]
  },
  {
   "cell_type": "code",
   "execution_count": 16,
   "metadata": {},
   "outputs": [],
   "source": [
    "bigData['usertype'].replace(['Subscriber','Customer'],['member','casual'],inplace = True)"
   ]
  },
  {
   "cell_type": "code",
   "execution_count": 17,
   "metadata": {},
   "outputs": [
    {
     "data": {
      "text/html": [
       "<div>\n",
       "<style scoped>\n",
       "    .dataframe tbody tr th:only-of-type {\n",
       "        vertical-align: middle;\n",
       "    }\n",
       "\n",
       "    .dataframe tbody tr th {\n",
       "        vertical-align: top;\n",
       "    }\n",
       "\n",
       "    .dataframe thead tr th {\n",
       "        text-align: left;\n",
       "    }\n",
       "\n",
       "    .dataframe thead tr:last-of-type th {\n",
       "        text-align: right;\n",
       "    }\n",
       "</style>\n",
       "<table border=\"1\" class=\"dataframe\">\n",
       "  <thead>\n",
       "    <tr>\n",
       "      <th>year</th>\n",
       "      <th colspan=\"2\" halign=\"left\">2019</th>\n",
       "      <th colspan=\"2\" halign=\"left\">2020</th>\n",
       "      <th colspan=\"2\" halign=\"left\">2021</th>\n",
       "    </tr>\n",
       "    <tr>\n",
       "      <th>usertype</th>\n",
       "      <th>casual</th>\n",
       "      <th>member</th>\n",
       "      <th>casual</th>\n",
       "      <th>member</th>\n",
       "      <th>casual</th>\n",
       "      <th>member</th>\n",
       "    </tr>\n",
       "    <tr>\n",
       "      <th>month</th>\n",
       "      <th></th>\n",
       "      <th></th>\n",
       "      <th></th>\n",
       "      <th></th>\n",
       "      <th></th>\n",
       "      <th></th>\n",
       "    </tr>\n",
       "  </thead>\n",
       "  <tbody>\n",
       "    <tr>\n",
       "      <th>1</th>\n",
       "      <td>4602</td>\n",
       "      <td>98670</td>\n",
       "      <td>7785</td>\n",
       "      <td>136099</td>\n",
       "      <td>18117</td>\n",
       "      <td>78717</td>\n",
       "    </tr>\n",
       "    <tr>\n",
       "      <th>2</th>\n",
       "      <td>2638</td>\n",
       "      <td>93548</td>\n",
       "      <td>12870</td>\n",
       "      <td>126715</td>\n",
       "      <td>10131</td>\n",
       "      <td>39491</td>\n",
       "    </tr>\n",
       "    <tr>\n",
       "      <th>3</th>\n",
       "      <td>15923</td>\n",
       "      <td>149688</td>\n",
       "      <td>27825</td>\n",
       "      <td>115593</td>\n",
       "      <td>84033</td>\n",
       "      <td>144463</td>\n",
       "    </tr>\n",
       "    <tr>\n",
       "      <th>4</th>\n",
       "      <td>47744</td>\n",
       "      <td>217566</td>\n",
       "      <td>23628</td>\n",
       "      <td>61148</td>\n",
       "      <td>136601</td>\n",
       "      <td>200629</td>\n",
       "    </tr>\n",
       "    <tr>\n",
       "      <th>5</th>\n",
       "      <td>81624</td>\n",
       "      <td>285834</td>\n",
       "      <td>86909</td>\n",
       "      <td>113365</td>\n",
       "      <td>256916</td>\n",
       "      <td>274717</td>\n",
       "    </tr>\n",
       "    <tr>\n",
       "      <th>6</th>\n",
       "      <td>130218</td>\n",
       "      <td>345177</td>\n",
       "      <td>154718</td>\n",
       "      <td>188287</td>\n",
       "      <td>370681</td>\n",
       "      <td>358914</td>\n",
       "    </tr>\n",
       "    <tr>\n",
       "      <th>7</th>\n",
       "      <td>175632</td>\n",
       "      <td>381683</td>\n",
       "      <td>269296</td>\n",
       "      <td>282184</td>\n",
       "      <td>442056</td>\n",
       "      <td>380354</td>\n",
       "    </tr>\n",
       "    <tr>\n",
       "      <th>8</th>\n",
       "      <td>186889</td>\n",
       "      <td>403295</td>\n",
       "      <td>289661</td>\n",
       "      <td>332700</td>\n",
       "      <td>412671</td>\n",
       "      <td>391681</td>\n",
       "    </tr>\n",
       "    <tr>\n",
       "      <th>9</th>\n",
       "      <td>129173</td>\n",
       "      <td>364046</td>\n",
       "      <td>230692</td>\n",
       "      <td>302266</td>\n",
       "      <td>363890</td>\n",
       "      <td>392257</td>\n",
       "    </tr>\n",
       "    <tr>\n",
       "      <th>10</th>\n",
       "      <td>71035</td>\n",
       "      <td>300751</td>\n",
       "      <td>145012</td>\n",
       "      <td>243641</td>\n",
       "      <td>257242</td>\n",
       "      <td>373984</td>\n",
       "    </tr>\n",
       "    <tr>\n",
       "      <th>11</th>\n",
       "      <td>18729</td>\n",
       "      <td>158447</td>\n",
       "      <td>88099</td>\n",
       "      <td>171617</td>\n",
       "      <td>106929</td>\n",
       "      <td>253049</td>\n",
       "    </tr>\n",
       "    <tr>\n",
       "      <th>12</th>\n",
       "      <td>16430</td>\n",
       "      <td>138662</td>\n",
       "      <td>30080</td>\n",
       "      <td>101493</td>\n",
       "      <td>69738</td>\n",
       "      <td>177802</td>\n",
       "    </tr>\n",
       "  </tbody>\n",
       "</table>\n",
       "</div>"
      ],
      "text/plain": [
       "year        2019            2020            2021        \n",
       "usertype  casual  member  casual  member  casual  member\n",
       "month                                                   \n",
       "1           4602   98670    7785  136099   18117   78717\n",
       "2           2638   93548   12870  126715   10131   39491\n",
       "3          15923  149688   27825  115593   84033  144463\n",
       "4          47744  217566   23628   61148  136601  200629\n",
       "5          81624  285834   86909  113365  256916  274717\n",
       "6         130218  345177  154718  188287  370681  358914\n",
       "7         175632  381683  269296  282184  442056  380354\n",
       "8         186889  403295  289661  332700  412671  391681\n",
       "9         129173  364046  230692  302266  363890  392257\n",
       "10         71035  300751  145012  243641  257242  373984\n",
       "11         18729  158447   88099  171617  106929  253049\n",
       "12         16430  138662   30080  101493   69738  177802"
      ]
     },
     "execution_count": 17,
     "metadata": {},
     "output_type": "execute_result"
    }
   ],
   "source": [
    "pivotCust = bigData.pivot_table(index=['month'],columns=['year','usertype'],values='start_time',aggfunc = 'count')\n",
    "pivotCust"
   ]
  },
  {
   "cell_type": "code",
   "execution_count": 20,
   "metadata": {},
   "outputs": [
    {
     "data": {
      "text/html": [
       "<div>\n",
       "<style scoped>\n",
       "    .dataframe tbody tr th:only-of-type {\n",
       "        vertical-align: middle;\n",
       "    }\n",
       "\n",
       "    .dataframe tbody tr th {\n",
       "        vertical-align: top;\n",
       "    }\n",
       "\n",
       "    .dataframe thead th {\n",
       "        text-align: right;\n",
       "    }\n",
       "</style>\n",
       "<table border=\"1\" class=\"dataframe\">\n",
       "  <thead>\n",
       "    <tr style=\"text-align: right;\">\n",
       "      <th>usertype</th>\n",
       "      <th>casual</th>\n",
       "      <th>member</th>\n",
       "    </tr>\n",
       "    <tr>\n",
       "      <th>year</th>\n",
       "      <th></th>\n",
       "      <th></th>\n",
       "    </tr>\n",
       "  </thead>\n",
       "  <tbody>\n",
       "    <tr>\n",
       "      <th>2019</th>\n",
       "      <td>880637</td>\n",
       "      <td>2937367</td>\n",
       "    </tr>\n",
       "    <tr>\n",
       "      <th>2020</th>\n",
       "      <td>1366575</td>\n",
       "      <td>2175108</td>\n",
       "    </tr>\n",
       "    <tr>\n",
       "      <th>2021</th>\n",
       "      <td>2529005</td>\n",
       "      <td>3066058</td>\n",
       "    </tr>\n",
       "  </tbody>\n",
       "</table>\n",
       "</div>"
      ],
      "text/plain": [
       "usertype   casual   member\n",
       "year                      \n",
       "2019       880637  2937367\n",
       "2020      1366575  2175108\n",
       "2021      2529005  3066058"
      ]
     },
     "execution_count": 20,
     "metadata": {},
     "output_type": "execute_result"
    }
   ],
   "source": [
    "pivotCustAnnual = bigData.pivot_table(index=['year'],columns = ['usertype'],values='start_time',aggfunc='count')\n",
    "pivotCustAnnual"
   ]
  },
  {
   "cell_type": "code",
   "execution_count": 48,
   "metadata": {},
   "outputs": [
    {
     "data": {
      "text/plain": [
       "Text(0.5, 0, 'Year')"
      ]
     },
     "execution_count": 48,
     "metadata": {},
     "output_type": "execute_result"
    },
    {
     "data": {
      "image/png": "[encoded data removed]",
      "text/plain": [
       "<Figure size 432x288 with 1 Axes>"
      ]
     },
     "metadata": {
      "needs_background": "light"
     },
     "output_type": "display_data"
    }
   ],
   "source": [
    "pivotCustAnnual.plot(kind ='bar')\n",
    "plt.xticks(rotation=0,horizontalalignment = 'center')\n",
    "plt.ylabel('Number of Rides (in millions)')\n",
    "plt.xlabel('Year')"
   ]
  },
  {
   "cell_type": "code",
   "execution_count": 33,
   "metadata": {},
   "outputs": [
    {
     "data": {
      "text/plain": [
       "Text(0, 0.5, 'Rides per month')"
      ]
     },
     "execution_count": 33,
     "metadata": {},
     "output_type": "execute_result"
    },
    {
     "data": {
      "image/png": "[encoded data removed]",
      "text/plain": [
       "<Figure size 1224x720 with 1 Axes>"
      ]
     },
     "metadata": {
      "needs_background": "light"
     },
     "output_type": "display_data"
    }
   ],
   "source": [
    "pivotCust.plot(kind = 'bar',figsize=(17,10))\n",
    "plt.xticks(rotation=0,horizontalalignment = 'center')\n",
    "plt.xlabel('Month')\n",
    "plt.ylabel('Rides per month')"
   ]
  },
  {
   "cell_type": "code",
   "execution_count": 49,
   "metadata": {},
   "outputs": [
    {
     "data": {
      "text/plain": [
       "<AxesSubplot:xlabel='month'>"
      ]
     },
     "execution_count": 49,
     "metadata": {},
     "output_type": "execute_result"
    },
    {
     "data": {
      "image/png": "[encoded data removed]",
      "text/plain": [
       "<Figure size 432x288 with 1 Axes>"
      ]
     },
     "metadata": {
      "needs_background": "light"
     },
     "output_type": "display_data"
    }
   ],
   "source": [
    "pivotCasual = bigData[bigData['usertype']== 'casual'].pivot_table(index=['month'],columns=['year'],values='start_time',aggfunc = 'count')\n"
   ]
  },
  {
   "cell_type": "code",
   "execution_count": 68,
   "metadata": {},
   "outputs": [
    {
     "data": {
      "text/plain": [
       "Text(0.5, 1.0, \"Number of 'casual' Divvy rides per month\")"
      ]
     },
     "execution_count": 68,
     "metadata": {},
     "output_type": "execute_result"
    },
    {
     "data": {
      "image/png": "[encoded data removed]",
      "text/plain": [
       "<Figure size 432x288 with 1 Axes>"
      ]
     },
     "metadata": {
      "needs_background": "light"
     },
     "output_type": "display_data"
    }
   ],
   "source": [
    "import numpy as np\n",
    "pivotCasual.plot(kind='bar',figsize=(6,4))\n",
    "plt.xticks(rotation=0,horizontalalignment = 'center')\n",
    "plt.xlabel('Month')\n",
    "plt.ylabel('Rides per month')\n",
    "plt.yticks(np.arange(0,450000,100000))\n",
    "plt.grid(axis='y')\n",
    "plt.title(\"Number of 'casual' Divvy rides per month\")\n",
    "\n"
   ]
  },
  {
   "cell_type": "code",
   "execution_count": 69,
   "metadata": {},
   "outputs": [
    {
     "data": {
      "text/plain": [
       "Text(0.5, 1.0, \"Number of 'member' Divvy rides per month\")"
      ]
     },
     "execution_count": 69,
     "metadata": {},
     "output_type": "execute_result"
    },
    {
     "data": {
      "image/png": "[encoded data removed]",
      "text/plain": [
       "<Figure size 432x288 with 1 Axes>"
      ]
     },
     "metadata": {
      "needs_background": "light"
     },
     "output_type": "display_data"
    }
   ],
   "source": [
    "bigData[bigData['usertype']== 'member'].pivot_table(index=['month'],columns=['year'],values='start_time',aggfunc = 'count').plot(kind='bar',figsize=(6,4))\n",
    "plt.xticks(rotation=0,horizontalalignment = 'center')\n",
    "plt.xlabel('Month')\n",
    "plt.ylabel('Rides per month')\n",
    "plt.yticks(np.arange(0,450000,100000))\n",
    "plt.grid(axis='y')\n",
    "plt.title(\"Number of 'member' Divvy rides per month\")"
   ]
  },
  {
   "cell_type": "code",
   "execution_count": 34,
   "metadata": {},
   "outputs": [
    {
     "data": {
      "text/plain": [
       "MultiIndex([(2019, 'casual'),\n",
       "            (2019, 'member'),\n",
       "            (2020, 'casual'),\n",
       "            (2020, 'member'),\n",
       "            (2021, 'casual'),\n",
       "            (2021, 'member')],\n",
       "           names=['year', 'usertype'])"
      ]
     },
     "execution_count": 34,
     "metadata": {},
     "output_type": "execute_result"
    }
   ],
   "source": [
    "pivotCust.columns"
   ]
  },
  {
   "cell_type": "code",
   "execution_count": 43,
   "metadata": {},
   "outputs": [
    {
     "data": {
      "text/plain": [
       "Text(0, 0.5, 'Rides per month')"
      ]
     },
     "execution_count": 43,
     "metadata": {},
     "output_type": "execute_result"
    },
    {
     "data": {
      "image/png": "[encoded data removed]",
      "text/plain": [
       "<Figure size 1224x720 with 1 Axes>"
      ]
     },
     "metadata": {
      "needs_background": "light"
     },
     "output_type": "display_data"
    }
   ],
   "source": [
    "pivotCust.plot(kind = 'bar',stacked = True, figsize=(17,10))\n",
    "plt.xticks(rotation=0,horizontalalignment = 'center')\n",
    "plt.xlabel('Month')\n",
    "plt.ylabel('Rides per month')"
   ]
  },
  {
   "cell_type": "markdown",
   "metadata": {},
   "source": [
    "The above chart shows that Divvy \"members\" were the main users of the system in 2019 (about 75% of all rides), but in 2020, \"member\" users were substantially lower from April through October (orange and red columns).\n",
    "\n",
    "The number of \"casual\" users grew, especially after July (compare green and blue columns)."
   ]
  },
  {
   "cell_type": "code",
   "execution_count": 13,
   "metadata": {},
   "outputs": [
    {
     "data": {
      "text/html": [
       "<div>\n",
       "<style scoped>\n",
       "    .dataframe tbody tr th:only-of-type {\n",
       "        vertical-align: middle;\n",
       "    }\n",
       "\n",
       "    .dataframe tbody tr th {\n",
       "        vertical-align: top;\n",
       "    }\n",
       "\n",
       "    .dataframe thead tr th {\n",
       "        text-align: left;\n",
       "    }\n",
       "\n",
       "    .dataframe thead tr:last-of-type th {\n",
       "        text-align: right;\n",
       "    }\n",
       "</style>\n",
       "<table border=\"1\" class=\"dataframe\">\n",
       "  <thead>\n",
       "    <tr>\n",
       "      <th></th>\n",
       "      <th colspan=\"6\" halign=\"left\">mean</th>\n",
       "    </tr>\n",
       "    <tr>\n",
       "      <th>year</th>\n",
       "      <th colspan=\"2\" halign=\"left\">2019</th>\n",
       "      <th colspan=\"2\" halign=\"left\">2020</th>\n",
       "      <th colspan=\"2\" halign=\"left\">2021</th>\n",
       "    </tr>\n",
       "    <tr>\n",
       "      <th>usertype</th>\n",
       "      <th>Customer</th>\n",
       "      <th>Subscriber</th>\n",
       "      <th>casual</th>\n",
       "      <th>member</th>\n",
       "      <th>casual</th>\n",
       "      <th>member</th>\n",
       "    </tr>\n",
       "    <tr>\n",
       "      <th>month</th>\n",
       "      <th></th>\n",
       "      <th></th>\n",
       "      <th></th>\n",
       "      <th></th>\n",
       "      <th></th>\n",
       "      <th></th>\n",
       "    </tr>\n",
       "  </thead>\n",
       "  <tbody>\n",
       "    <tr>\n",
       "      <th>1</th>\n",
       "      <td>0 days 00:47:19.483485441</td>\n",
       "      <td>0 days 00:15:39.002584372</td>\n",
       "      <td>0 days 02:44:14.224495148</td>\n",
       "      <td>0 days 00:11:07.096063145</td>\n",
       "      <td>0 days 00:25:41.257605035</td>\n",
       "      <td>0 days 00:12:52.351548501</td>\n",
       "    </tr>\n",
       "    <tr>\n",
       "      <th>2</th>\n",
       "      <td>0 days 02:25:36.291129643</td>\n",
       "      <td>0 days 00:13:24.217332278</td>\n",
       "      <td>0 days 02:07:52.678551576</td>\n",
       "      <td>0 days 00:12:50.609336232</td>\n",
       "      <td>0 days 00:49:22.716556422</td>\n",
       "      <td>0 days 00:18:01.486421441</td>\n",
       "    </tr>\n",
       "    <tr>\n",
       "      <th>3</th>\n",
       "      <td>0 days 00:52:18.354079005</td>\n",
       "      <td>0 days 00:13:02.420942226</td>\n",
       "      <td>0 days 01:03:19.231369531</td>\n",
       "      <td>0 days 00:14:21.617471652</td>\n",
       "      <td>0 days 00:38:09.611343887</td>\n",
       "      <td>0 days 00:13:58.293254583</td>\n",
       "    </tr>\n",
       "    <tr>\n",
       "      <th>4</th>\n",
       "      <td>0 days 00:50:56.547147285</td>\n",
       "      <td>0 days 00:13:30.767528014</td>\n",
       "      <td>0 days 01:13:34.635799543</td>\n",
       "      <td>0 days 00:21:33.099462052</td>\n",
       "      <td>0 days 00:38:01.419144838</td>\n",
       "      <td>0 days 00:14:41.359043773</td>\n",
       "    </tr>\n",
       "    <tr>\n",
       "      <th>5</th>\n",
       "      <td>0 days 00:51:14.379282038</td>\n",
       "      <td>0 days 00:13:51.001619872</td>\n",
       "      <td>0 days 00:51:04.373642790</td>\n",
       "      <td>0 days 00:19:46.572813782</td>\n",
       "      <td>0 days 00:38:13.854795757</td>\n",
       "      <td>0 days 00:14:38.285042781</td>\n",
       "    </tr>\n",
       "    <tr>\n",
       "      <th>6</th>\n",
       "      <td>0 days 00:45:55.202391374</td>\n",
       "      <td>0 days 00:14:32.846478763</td>\n",
       "      <td>0 days 00:51:49.666778984</td>\n",
       "      <td>0 days 00:18:43.822416563</td>\n",
       "      <td>0 days 00:37:07.396915853</td>\n",
       "      <td>0 days 00:14:40.668334062</td>\n",
       "    </tr>\n",
       "    <tr>\n",
       "      <th>7</th>\n",
       "      <td>0 days 00:59:47.058742811</td>\n",
       "      <td>0 days 00:16:25.998891718</td>\n",
       "      <td>0 days 00:59:44.317448142</td>\n",
       "      <td>0 days 00:17:46.309840372</td>\n",
       "      <td>0 days 00:32:47.517742884</td>\n",
       "      <td>0 days 00:14:14.360705053</td>\n",
       "    </tr>\n",
       "    <tr>\n",
       "      <th>8</th>\n",
       "      <td>0 days 01:07:00.451342775</td>\n",
       "      <td>0 days 00:16:11.132429115</td>\n",
       "      <td>0 days 00:44:59.836589953</td>\n",
       "      <td>0 days 00:16:50.276789156</td>\n",
       "      <td>0 days 00:28:47.273275245</td>\n",
       "      <td>0 days 00:14:06.110571742</td>\n",
       "    </tr>\n",
       "    <tr>\n",
       "      <th>9</th>\n",
       "      <td>0 days 00:51:40.002183118</td>\n",
       "      <td>0 days 00:14:07.838915961</td>\n",
       "      <td>0 days 00:38:11.977702133</td>\n",
       "      <td>0 days 00:15:33.097594490</td>\n",
       "      <td>0 days 00:27:49.010798880</td>\n",
       "      <td>0 days 00:13:44.135761386</td>\n",
       "    </tr>\n",
       "    <tr>\n",
       "      <th>10</th>\n",
       "      <td>0 days 00:58:59.529020905</td>\n",
       "      <td>0 days 00:13:01.853250695</td>\n",
       "      <td>0 days 00:30:15.354670830</td>\n",
       "      <td>0 days 00:14:02.341403636</td>\n",
       "      <td>0 days 00:28:40.507694879</td>\n",
       "      <td>0 days 00:12:30.120630862</td>\n",
       "    </tr>\n",
       "    <tr>\n",
       "      <th>11</th>\n",
       "      <td>0 days 01:07:01.965817443</td>\n",
       "      <td>0 days 00:12:25.924255238</td>\n",
       "      <td>0 days 00:31:50.813087034</td>\n",
       "      <td>0 days 00:13:35.213734987</td>\n",
       "      <td>0 days 00:23:08.050588972</td>\n",
       "      <td>0 days 00:11:18.571239964</td>\n",
       "    </tr>\n",
       "    <tr>\n",
       "      <th>12</th>\n",
       "      <td>0 days 01:03:19.959403530</td>\n",
       "      <td>0 days 00:11:24.909838311</td>\n",
       "      <td>0 days 00:26:55.189357735</td>\n",
       "      <td>0 days 00:12:44.148956738</td>\n",
       "      <td>0 days 00:23:29.724338745</td>\n",
       "      <td>0 days 00:11:00.294208980</td>\n",
       "    </tr>\n",
       "  </tbody>\n",
       "</table>\n",
       "</div>"
      ],
      "text/plain": [
       "                              mean                            \\\n",
       "year                          2019                             \n",
       "usertype                  Customer                Subscriber   \n",
       "month                                                          \n",
       "1        0 days 00:47:19.483485441 0 days 00:15:39.002584372   \n",
       "2        0 days 02:25:36.291129643 0 days 00:13:24.217332278   \n",
       "3        0 days 00:52:18.354079005 0 days 00:13:02.420942226   \n",
       "4        0 days 00:50:56.547147285 0 days 00:13:30.767528014   \n",
       "5        0 days 00:51:14.379282038 0 days 00:13:51.001619872   \n",
       "6        0 days 00:45:55.202391374 0 days 00:14:32.846478763   \n",
       "7        0 days 00:59:47.058742811 0 days 00:16:25.998891718   \n",
       "8        0 days 01:07:00.451342775 0 days 00:16:11.132429115   \n",
       "9        0 days 00:51:40.002183118 0 days 00:14:07.838915961   \n",
       "10       0 days 00:58:59.529020905 0 days 00:13:01.853250695   \n",
       "11       0 days 01:07:01.965817443 0 days 00:12:25.924255238   \n",
       "12       0 days 01:03:19.959403530 0 days 00:11:24.909838311   \n",
       "\n",
       "                                                              \\\n",
       "year                          2020                             \n",
       "usertype                    casual                    member   \n",
       "month                                                          \n",
       "1        0 days 02:44:14.224495148 0 days 00:11:07.096063145   \n",
       "2        0 days 02:07:52.678551576 0 days 00:12:50.609336232   \n",
       "3        0 days 01:03:19.231369531 0 days 00:14:21.617471652   \n",
       "4        0 days 01:13:34.635799543 0 days 00:21:33.099462052   \n",
       "5        0 days 00:51:04.373642790 0 days 00:19:46.572813782   \n",
       "6        0 days 00:51:49.666778984 0 days 00:18:43.822416563   \n",
       "7        0 days 00:59:44.317448142 0 days 00:17:46.309840372   \n",
       "8        0 days 00:44:59.836589953 0 days 00:16:50.276789156   \n",
       "9        0 days 00:38:11.977702133 0 days 00:15:33.097594490   \n",
       "10       0 days 00:30:15.354670830 0 days 00:14:02.341403636   \n",
       "11       0 days 00:31:50.813087034 0 days 00:13:35.213734987   \n",
       "12       0 days 00:26:55.189357735 0 days 00:12:44.148956738   \n",
       "\n",
       "                                                              \n",
       "year                          2021                            \n",
       "usertype                    casual                    member  \n",
       "month                                                         \n",
       "1        0 days 00:25:41.257605035 0 days 00:12:52.351548501  \n",
       "2        0 days 00:49:22.716556422 0 days 00:18:01.486421441  \n",
       "3        0 days 00:38:09.611343887 0 days 00:13:58.293254583  \n",
       "4        0 days 00:38:01.419144838 0 days 00:14:41.359043773  \n",
       "5        0 days 00:38:13.854795757 0 days 00:14:38.285042781  \n",
       "6        0 days 00:37:07.396915853 0 days 00:14:40.668334062  \n",
       "7        0 days 00:32:47.517742884 0 days 00:14:14.360705053  \n",
       "8        0 days 00:28:47.273275245 0 days 00:14:06.110571742  \n",
       "9        0 days 00:27:49.010798880 0 days 00:13:44.135761386  \n",
       "10       0 days 00:28:40.507694879 0 days 00:12:30.120630862  \n",
       "11       0 days 00:23:08.050588972 0 days 00:11:18.571239964  \n",
       "12       0 days 00:23:29.724338745 0 days 00:11:00.294208980  "
      ]
     },
     "execution_count": 13,
     "metadata": {},
     "output_type": "execute_result"
    }
   ],
   "source": [
    "pivotTripDur = bigData.pivot_table(index=['month'],columns=['year','usertype'],values='tripduration',aggfunc = ['mean'])\n",
    "pivotTripDur"
   ]
  },
  {
   "cell_type": "code",
   "execution_count": 14,
   "metadata": {},
   "outputs": [
    {
     "data": {
      "text/html": [
       "<div>\n",
       "<style scoped>\n",
       "    .dataframe tbody tr th:only-of-type {\n",
       "        vertical-align: middle;\n",
       "    }\n",
       "\n",
       "    .dataframe tbody tr th {\n",
       "        vertical-align: top;\n",
       "    }\n",
       "\n",
       "    .dataframe thead tr th {\n",
       "        text-align: left;\n",
       "    }\n",
       "</style>\n",
       "<table border=\"1\" class=\"dataframe\">\n",
       "  <thead>\n",
       "    <tr>\n",
       "      <th></th>\n",
       "      <th colspan=\"6\" halign=\"left\">mean</th>\n",
       "    </tr>\n",
       "    <tr>\n",
       "      <th>year</th>\n",
       "      <th colspan=\"2\" halign=\"left\">2019</th>\n",
       "      <th colspan=\"2\" halign=\"left\">2020</th>\n",
       "      <th colspan=\"2\" halign=\"left\">2021</th>\n",
       "    </tr>\n",
       "    <tr>\n",
       "      <th>usertype</th>\n",
       "      <th>Customer</th>\n",
       "      <th>Subscriber</th>\n",
       "      <th>casual</th>\n",
       "      <th>member</th>\n",
       "      <th>casual</th>\n",
       "      <th>member</th>\n",
       "    </tr>\n",
       "  </thead>\n",
       "  <tbody>\n",
       "    <tr>\n",
       "      <th>count</th>\n",
       "      <td>12</td>\n",
       "      <td>12</td>\n",
       "      <td>12</td>\n",
       "      <td>12</td>\n",
       "      <td>12</td>\n",
       "      <td>12</td>\n",
       "    </tr>\n",
       "    <tr>\n",
       "      <th>mean</th>\n",
       "      <td>0 days 01:03:25.768668780</td>\n",
       "      <td>0 days 00:13:58.159505546</td>\n",
       "      <td>0 days 01:03:39.358291116</td>\n",
       "      <td>0 days 00:15:44.517156900</td>\n",
       "      <td>0 days 00:32:36.528400116</td>\n",
       "      <td>0 days 00:13:48.836396927</td>\n",
       "    </tr>\n",
       "    <tr>\n",
       "      <th>std</th>\n",
       "      <td>0 days 00:26:52.418887968</td>\n",
       "      <td>0 days 00:01:31.068454133</td>\n",
       "      <td>0 days 00:41:41.899494578</td>\n",
       "      <td>0 days 00:03:11.954026761</td>\n",
       "      <td>0 days 00:07:47.268081331</td>\n",
       "      <td>0 days 00:01:50.023383299</td>\n",
       "    </tr>\n",
       "    <tr>\n",
       "      <th>min</th>\n",
       "      <td>0 days 00:45:55.202391374</td>\n",
       "      <td>0 days 00:11:24.909838311</td>\n",
       "      <td>0 days 00:26:55.189357735</td>\n",
       "      <td>0 days 00:11:07.096063145</td>\n",
       "      <td>0 days 00:23:08.050588972</td>\n",
       "      <td>0 days 00:11:00.294208980</td>\n",
       "    </tr>\n",
       "    <tr>\n",
       "      <th>25%</th>\n",
       "      <td>0 days 00:51:09.921248349</td>\n",
       "      <td>0 days 00:13:02.279019343</td>\n",
       "      <td>0 days 00:36:36.686548358</td>\n",
       "      <td>0 days 00:13:24.062635298</td>\n",
       "      <td>0 days 00:27:17.072500418</td>\n",
       "      <td>0 days 00:12:46.793819091</td>\n",
       "    </tr>\n",
       "    <tr>\n",
       "      <th>50%</th>\n",
       "      <td>0 days 00:55:38.941549955</td>\n",
       "      <td>0 days 00:13:40.884573943</td>\n",
       "      <td>0 days 00:51:27.020210887</td>\n",
       "      <td>0 days 00:14:57.357533071</td>\n",
       "      <td>0 days 00:30:47.395509064</td>\n",
       "      <td>0 days 00:14:02.201913162</td>\n",
       "    </tr>\n",
       "    <tr>\n",
       "      <th>75%</th>\n",
       "      <td>0 days 01:04:15.082388341</td>\n",
       "      <td>0 days 00:14:49.385505165</td>\n",
       "      <td>0 days 01:05:53.082477034</td>\n",
       "      <td>0 days 00:18:00.687984419</td>\n",
       "      <td>0 days 00:38:03.467194600</td>\n",
       "      <td>0 days 00:14:38.880865601</td>\n",
       "    </tr>\n",
       "    <tr>\n",
       "      <th>max</th>\n",
       "      <td>0 days 02:25:36.291129643</td>\n",
       "      <td>0 days 00:16:25.998891718</td>\n",
       "      <td>0 days 02:44:14.224495148</td>\n",
       "      <td>0 days 00:21:33.099462052</td>\n",
       "      <td>0 days 00:49:22.716556422</td>\n",
       "      <td>0 days 00:18:01.486421441</td>\n",
       "    </tr>\n",
       "  </tbody>\n",
       "</table>\n",
       "</div>"
      ],
      "text/plain": [
       "                               mean                             \\\n",
       "year                           2019                              \n",
       "usertype                   Customer                 Subscriber   \n",
       "count                            12                         12   \n",
       "mean      0 days 01:03:25.768668780  0 days 00:13:58.159505546   \n",
       "std       0 days 00:26:52.418887968  0 days 00:01:31.068454133   \n",
       "min       0 days 00:45:55.202391374  0 days 00:11:24.909838311   \n",
       "25%       0 days 00:51:09.921248349  0 days 00:13:02.279019343   \n",
       "50%       0 days 00:55:38.941549955  0 days 00:13:40.884573943   \n",
       "75%       0 days 01:04:15.082388341  0 days 00:14:49.385505165   \n",
       "max       0 days 02:25:36.291129643  0 days 00:16:25.998891718   \n",
       "\n",
       "                                                                \\\n",
       "year                           2020                              \n",
       "usertype                     casual                     member   \n",
       "count                            12                         12   \n",
       "mean      0 days 01:03:39.358291116  0 days 00:15:44.517156900   \n",
       "std       0 days 00:41:41.899494578  0 days 00:03:11.954026761   \n",
       "min       0 days 00:26:55.189357735  0 days 00:11:07.096063145   \n",
       "25%       0 days 00:36:36.686548358  0 days 00:13:24.062635298   \n",
       "50%       0 days 00:51:27.020210887  0 days 00:14:57.357533071   \n",
       "75%       0 days 01:05:53.082477034  0 days 00:18:00.687984419   \n",
       "max       0 days 02:44:14.224495148  0 days 00:21:33.099462052   \n",
       "\n",
       "                                                                \n",
       "year                           2021                             \n",
       "usertype                     casual                     member  \n",
       "count                            12                         12  \n",
       "mean      0 days 00:32:36.528400116  0 days 00:13:48.836396927  \n",
       "std       0 days 00:07:47.268081331  0 days 00:01:50.023383299  \n",
       "min       0 days 00:23:08.050588972  0 days 00:11:00.294208980  \n",
       "25%       0 days 00:27:17.072500418  0 days 00:12:46.793819091  \n",
       "50%       0 days 00:30:47.395509064  0 days 00:14:02.201913162  \n",
       "75%       0 days 00:38:03.467194600  0 days 00:14:38.880865601  \n",
       "max       0 days 00:49:22.716556422  0 days 00:18:01.486421441  "
      ]
     },
     "execution_count": 14,
     "metadata": {},
     "output_type": "execute_result"
    }
   ],
   "source": [
    "pivotTripDur.describe()"
   ]
  },
  {
   "cell_type": "markdown",
   "metadata": {},
   "source": [
    "WTF is going on with the 2020 trip duration data? -1 days? It seems to be concentrated in the December 2020 data."
   ]
  },
  {
   "cell_type": "code",
   "execution_count": 119,
   "metadata": {},
   "outputs": [
    {
     "data": {
      "text/plain": [
       "108250"
      ]
     },
     "execution_count": 119,
     "metadata": {},
     "output_type": "execute_result"
    }
   ],
   "source": [
    "problems = bigData[bigData['tripduration'] < '0:00:00']\n",
    "problems.size"
   ]
  },
  {
   "cell_type": "code",
   "execution_count": 72,
   "metadata": {},
   "outputs": [
    {
     "data": {
      "text/html": [
       "<div>\n",
       "<style scoped>\n",
       "    .dataframe tbody tr th:only-of-type {\n",
       "        vertical-align: middle;\n",
       "    }\n",
       "\n",
       "    .dataframe tbody tr th {\n",
       "        vertical-align: top;\n",
       "    }\n",
       "\n",
       "    .dataframe thead th {\n",
       "        text-align: right;\n",
       "    }\n",
       "</style>\n",
       "<table border=\"1\" class=\"dataframe\">\n",
       "  <thead>\n",
       "    <tr style=\"text-align: right;\">\n",
       "      <th></th>\n",
       "      <th>start_time</th>\n",
       "      <th>end_time</th>\n",
       "      <th>usertype</th>\n",
       "      <th>start_lat</th>\n",
       "      <th>start_lng</th>\n",
       "      <th>end_lat</th>\n",
       "      <th>end_lng</th>\n",
       "      <th>tripduration</th>\n",
       "      <th>month</th>\n",
       "      <th>year</th>\n",
       "    </tr>\n",
       "  </thead>\n",
       "  <tbody>\n",
       "    <tr>\n",
       "      <th>384478</th>\n",
       "      <td>2019-11-03 01:43:21</td>\n",
       "      <td>2019-11-03 01:09:56</td>\n",
       "      <td>casual</td>\n",
       "      <td>41.944540</td>\n",
       "      <td>-87.654678</td>\n",
       "      <td>41.889177</td>\n",
       "      <td>-87.638506</td>\n",
       "      <td>-1 days +23:26:35</td>\n",
       "      <td>11</td>\n",
       "      <td>2019</td>\n",
       "    </tr>\n",
       "    <tr>\n",
       "      <th>384483</th>\n",
       "      <td>2019-11-03 01:46:01</td>\n",
       "      <td>2019-11-03 01:10:44</td>\n",
       "      <td>casual</td>\n",
       "      <td>41.895465</td>\n",
       "      <td>-87.706128</td>\n",
       "      <td>41.938429</td>\n",
       "      <td>-87.698008</td>\n",
       "      <td>-1 days +23:24:43</td>\n",
       "      <td>11</td>\n",
       "      <td>2019</td>\n",
       "    </tr>\n",
       "    <tr>\n",
       "      <th>384485</th>\n",
       "      <td>2019-11-03 01:47:49</td>\n",
       "      <td>2019-11-03 01:02:40</td>\n",
       "      <td>member</td>\n",
       "      <td>41.943739</td>\n",
       "      <td>-87.664020</td>\n",
       "      <td>41.925563</td>\n",
       "      <td>-87.658404</td>\n",
       "      <td>-1 days +23:14:51</td>\n",
       "      <td>11</td>\n",
       "      <td>2019</td>\n",
       "    </tr>\n",
       "    <tr>\n",
       "      <th>384486</th>\n",
       "      <td>2019-11-03 01:48:04</td>\n",
       "      <td>2019-11-03 01:16:48</td>\n",
       "      <td>member</td>\n",
       "      <td>41.939532</td>\n",
       "      <td>-87.671114</td>\n",
       "      <td>41.939532</td>\n",
       "      <td>-87.671114</td>\n",
       "      <td>-1 days +23:28:44</td>\n",
       "      <td>11</td>\n",
       "      <td>2019</td>\n",
       "    </tr>\n",
       "    <tr>\n",
       "      <th>384487</th>\n",
       "      <td>2019-11-03 01:50:31</td>\n",
       "      <td>2019-11-03 01:04:25</td>\n",
       "      <td>member</td>\n",
       "      <td>41.956004</td>\n",
       "      <td>-87.680161</td>\n",
       "      <td>41.929465</td>\n",
       "      <td>-87.684158</td>\n",
       "      <td>-1 days +23:13:54</td>\n",
       "      <td>11</td>\n",
       "      <td>2019</td>\n",
       "    </tr>\n",
       "  </tbody>\n",
       "</table>\n",
       "</div>"
      ],
      "text/plain": [
       "                start_time            end_time usertype  start_lat  start_lng  \\\n",
       "384478 2019-11-03 01:43:21 2019-11-03 01:09:56   casual  41.944540 -87.654678   \n",
       "384483 2019-11-03 01:46:01 2019-11-03 01:10:44   casual  41.895465 -87.706128   \n",
       "384485 2019-11-03 01:47:49 2019-11-03 01:02:40   member  41.943739 -87.664020   \n",
       "384486 2019-11-03 01:48:04 2019-11-03 01:16:48   member  41.939532 -87.671114   \n",
       "384487 2019-11-03 01:50:31 2019-11-03 01:04:25   member  41.956004 -87.680161   \n",
       "\n",
       "          end_lat    end_lng      tripduration  month  year  \n",
       "384478  41.889177 -87.638506 -1 days +23:26:35     11  2019  \n",
       "384483  41.938429 -87.698008 -1 days +23:24:43     11  2019  \n",
       "384485  41.925563 -87.658404 -1 days +23:14:51     11  2019  \n",
       "384486  41.939532 -87.671114 -1 days +23:28:44     11  2019  \n",
       "384487  41.929465 -87.684158 -1 days +23:13:54     11  2019  "
      ]
     },
     "execution_count": 72,
     "metadata": {},
     "output_type": "execute_result"
    }
   ],
   "source": [
    "problems.head()"
   ]
  },
  {
   "cell_type": "code",
   "execution_count": 74,
   "metadata": {},
   "outputs": [
    {
     "name": "stdout",
     "output_type": "stream",
     "text": [
      "202012-divvy-tripdata.json\n"
     ]
    }
   ],
   "source": [
    "dec2020 = getData('2020',['12'])"
   ]
  },
  {
   "cell_type": "code",
   "execution_count": 78,
   "metadata": {},
   "outputs": [
    {
     "data": {
      "text/plain": [
       "(131573, 13)"
      ]
     },
     "execution_count": 78,
     "metadata": {},
     "output_type": "execute_result"
    }
   ],
   "source": [
    "dec2020.shape"
   ]
  },
  {
   "cell_type": "code",
   "execution_count": 79,
   "metadata": {},
   "outputs": [
    {
     "data": {
      "text/html": [
       "<div>\n",
       "<style scoped>\n",
       "    .dataframe tbody tr th:only-of-type {\n",
       "        vertical-align: middle;\n",
       "    }\n",
       "\n",
       "    .dataframe tbody tr th {\n",
       "        vertical-align: top;\n",
       "    }\n",
       "\n",
       "    .dataframe thead th {\n",
       "        text-align: right;\n",
       "    }\n",
       "</style>\n",
       "<table border=\"1\" class=\"dataframe\">\n",
       "  <thead>\n",
       "    <tr style=\"text-align: right;\">\n",
       "      <th></th>\n",
       "      <th>ride_id</th>\n",
       "      <th>rideable_type</th>\n",
       "      <th>started_at</th>\n",
       "      <th>ended_at</th>\n",
       "      <th>start_station_name</th>\n",
       "      <th>start_station_id</th>\n",
       "      <th>end_station_name</th>\n",
       "      <th>end_station_id</th>\n",
       "      <th>start_lat</th>\n",
       "      <th>start_lng</th>\n",
       "      <th>end_lat</th>\n",
       "      <th>end_lng</th>\n",
       "      <th>member_casual</th>\n",
       "    </tr>\n",
       "  </thead>\n",
       "  <tbody>\n",
       "    <tr>\n",
       "      <th>0</th>\n",
       "      <td>70B6A9A437D4C30D</td>\n",
       "      <td>classic_bike</td>\n",
       "      <td>2020-12-27 12:44:29</td>\n",
       "      <td>2020-12-27 12:55:06</td>\n",
       "      <td>Aberdeen St &amp; Jackson Blvd</td>\n",
       "      <td>13157</td>\n",
       "      <td>Desplaines St &amp; Kinzie St</td>\n",
       "      <td>TA1306000003</td>\n",
       "      <td>41.877726</td>\n",
       "      <td>-87.654787</td>\n",
       "      <td>41.888716</td>\n",
       "      <td>-87.644448</td>\n",
       "      <td>member</td>\n",
       "    </tr>\n",
       "    <tr>\n",
       "      <th>1</th>\n",
       "      <td>158A465D4E74C54A</td>\n",
       "      <td>electric_bike</td>\n",
       "      <td>2020-12-18 17:37:15</td>\n",
       "      <td>2020-12-18 17:44:19</td>\n",
       "      <td>None</td>\n",
       "      <td>None</td>\n",
       "      <td>None</td>\n",
       "      <td>None</td>\n",
       "      <td>41.930000</td>\n",
       "      <td>-87.700000</td>\n",
       "      <td>41.910000</td>\n",
       "      <td>-87.700000</td>\n",
       "      <td>member</td>\n",
       "    </tr>\n",
       "    <tr>\n",
       "      <th>2</th>\n",
       "      <td>5262016E0F1F2F9A</td>\n",
       "      <td>electric_bike</td>\n",
       "      <td>2020-12-15 15:04:33</td>\n",
       "      <td>2020-12-15 15:11:28</td>\n",
       "      <td>None</td>\n",
       "      <td>None</td>\n",
       "      <td>None</td>\n",
       "      <td>None</td>\n",
       "      <td>41.910000</td>\n",
       "      <td>-87.690000</td>\n",
       "      <td>41.930000</td>\n",
       "      <td>-87.700000</td>\n",
       "      <td>member</td>\n",
       "    </tr>\n",
       "    <tr>\n",
       "      <th>3</th>\n",
       "      <td>BE119628E44F871E</td>\n",
       "      <td>electric_bike</td>\n",
       "      <td>2020-12-15 15:54:18</td>\n",
       "      <td>2020-12-15 16:00:11</td>\n",
       "      <td>None</td>\n",
       "      <td>None</td>\n",
       "      <td>None</td>\n",
       "      <td>None</td>\n",
       "      <td>41.920000</td>\n",
       "      <td>-87.700000</td>\n",
       "      <td>41.910000</td>\n",
       "      <td>-87.700000</td>\n",
       "      <td>member</td>\n",
       "    </tr>\n",
       "    <tr>\n",
       "      <th>4</th>\n",
       "      <td>69AF78D57854E110</td>\n",
       "      <td>electric_bike</td>\n",
       "      <td>2020-12-22 12:08:17</td>\n",
       "      <td>2020-12-22 12:10:59</td>\n",
       "      <td>None</td>\n",
       "      <td>None</td>\n",
       "      <td>None</td>\n",
       "      <td>None</td>\n",
       "      <td>41.800000</td>\n",
       "      <td>-87.590000</td>\n",
       "      <td>41.800000</td>\n",
       "      <td>-87.590000</td>\n",
       "      <td>member</td>\n",
       "    </tr>\n",
       "  </tbody>\n",
       "</table>\n",
       "</div>"
      ],
      "text/plain": [
       "            ride_id  rideable_type          started_at            ended_at  \\\n",
       "0  70B6A9A437D4C30D   classic_bike 2020-12-27 12:44:29 2020-12-27 12:55:06   \n",
       "1  158A465D4E74C54A  electric_bike 2020-12-18 17:37:15 2020-12-18 17:44:19   \n",
       "2  5262016E0F1F2F9A  electric_bike 2020-12-15 15:04:33 2020-12-15 15:11:28   \n",
       "3  BE119628E44F871E  electric_bike 2020-12-15 15:54:18 2020-12-15 16:00:11   \n",
       "4  69AF78D57854E110  electric_bike 2020-12-22 12:08:17 2020-12-22 12:10:59   \n",
       "\n",
       "           start_station_name start_station_id           end_station_name  \\\n",
       "0  Aberdeen St & Jackson Blvd            13157  Desplaines St & Kinzie St   \n",
       "1                        None             None                       None   \n",
       "2                        None             None                       None   \n",
       "3                        None             None                       None   \n",
       "4                        None             None                       None   \n",
       "\n",
       "  end_station_id  start_lat  start_lng    end_lat    end_lng member_casual  \n",
       "0   TA1306000003  41.877726 -87.654787  41.888716 -87.644448        member  \n",
       "1           None  41.930000 -87.700000  41.910000 -87.700000        member  \n",
       "2           None  41.910000 -87.690000  41.930000 -87.700000        member  \n",
       "3           None  41.920000 -87.700000  41.910000 -87.700000        member  \n",
       "4           None  41.800000 -87.590000  41.800000 -87.590000        member  "
      ]
     },
     "execution_count": 79,
     "metadata": {},
     "output_type": "execute_result"
    }
   ],
   "source": [
    "dec2020.head()\n"
   ]
  },
  {
   "cell_type": "code",
   "execution_count": 80,
   "metadata": {},
   "outputs": [],
   "source": [
    "dec2020.drop(columns=['ride_id', 'rideable_type', 'start_station_name', 'start_station_id', 'end_station_name',\n",
    "       'end_station_id'],inplace=True)\n",
    "dec2020.rename(columns={'started_at':'start_time','ended_at':'end_time','member_casual':'usertype'},inplace=True)\n",
    "dec2020['tripduration'] = dec2020['end_time'] - dec2020['start_time']\n"
   ]
  },
  {
   "cell_type": "code",
   "execution_count": 81,
   "metadata": {},
   "outputs": [
    {
     "data": {
      "text/html": [
       "<div>\n",
       "<style scoped>\n",
       "    .dataframe tbody tr th:only-of-type {\n",
       "        vertical-align: middle;\n",
       "    }\n",
       "\n",
       "    .dataframe tbody tr th {\n",
       "        vertical-align: top;\n",
       "    }\n",
       "\n",
       "    .dataframe thead th {\n",
       "        text-align: right;\n",
       "    }\n",
       "</style>\n",
       "<table border=\"1\" class=\"dataframe\">\n",
       "  <thead>\n",
       "    <tr style=\"text-align: right;\">\n",
       "      <th></th>\n",
       "      <th>start_time</th>\n",
       "      <th>end_time</th>\n",
       "      <th>start_lat</th>\n",
       "      <th>start_lng</th>\n",
       "      <th>end_lat</th>\n",
       "      <th>end_lng</th>\n",
       "      <th>usertype</th>\n",
       "      <th>tripduration</th>\n",
       "    </tr>\n",
       "  </thead>\n",
       "  <tbody>\n",
       "    <tr>\n",
       "      <th>0</th>\n",
       "      <td>2020-12-27 12:44:29</td>\n",
       "      <td>2020-12-27 12:55:06</td>\n",
       "      <td>41.877726</td>\n",
       "      <td>-87.654787</td>\n",
       "      <td>41.888716</td>\n",
       "      <td>-87.644448</td>\n",
       "      <td>member</td>\n",
       "      <td>0 days 00:10:37</td>\n",
       "    </tr>\n",
       "    <tr>\n",
       "      <th>1</th>\n",
       "      <td>2020-12-18 17:37:15</td>\n",
       "      <td>2020-12-18 17:44:19</td>\n",
       "      <td>41.930000</td>\n",
       "      <td>-87.700000</td>\n",
       "      <td>41.910000</td>\n",
       "      <td>-87.700000</td>\n",
       "      <td>member</td>\n",
       "      <td>0 days 00:07:04</td>\n",
       "    </tr>\n",
       "    <tr>\n",
       "      <th>2</th>\n",
       "      <td>2020-12-15 15:04:33</td>\n",
       "      <td>2020-12-15 15:11:28</td>\n",
       "      <td>41.910000</td>\n",
       "      <td>-87.690000</td>\n",
       "      <td>41.930000</td>\n",
       "      <td>-87.700000</td>\n",
       "      <td>member</td>\n",
       "      <td>0 days 00:06:55</td>\n",
       "    </tr>\n",
       "    <tr>\n",
       "      <th>3</th>\n",
       "      <td>2020-12-15 15:54:18</td>\n",
       "      <td>2020-12-15 16:00:11</td>\n",
       "      <td>41.920000</td>\n",
       "      <td>-87.700000</td>\n",
       "      <td>41.910000</td>\n",
       "      <td>-87.700000</td>\n",
       "      <td>member</td>\n",
       "      <td>0 days 00:05:53</td>\n",
       "    </tr>\n",
       "    <tr>\n",
       "      <th>4</th>\n",
       "      <td>2020-12-22 12:08:17</td>\n",
       "      <td>2020-12-22 12:10:59</td>\n",
       "      <td>41.800000</td>\n",
       "      <td>-87.590000</td>\n",
       "      <td>41.800000</td>\n",
       "      <td>-87.590000</td>\n",
       "      <td>member</td>\n",
       "      <td>0 days 00:02:42</td>\n",
       "    </tr>\n",
       "  </tbody>\n",
       "</table>\n",
       "</div>"
      ],
      "text/plain": [
       "           start_time            end_time  start_lat  start_lng    end_lat  \\\n",
       "0 2020-12-27 12:44:29 2020-12-27 12:55:06  41.877726 -87.654787  41.888716   \n",
       "1 2020-12-18 17:37:15 2020-12-18 17:44:19  41.930000 -87.700000  41.910000   \n",
       "2 2020-12-15 15:04:33 2020-12-15 15:11:28  41.910000 -87.690000  41.930000   \n",
       "3 2020-12-15 15:54:18 2020-12-15 16:00:11  41.920000 -87.700000  41.910000   \n",
       "4 2020-12-22 12:08:17 2020-12-22 12:10:59  41.800000 -87.590000  41.800000   \n",
       "\n",
       "     end_lng usertype    tripduration  \n",
       "0 -87.644448   member 0 days 00:10:37  \n",
       "1 -87.700000   member 0 days 00:07:04  \n",
       "2 -87.700000   member 0 days 00:06:55  \n",
       "3 -87.700000   member 0 days 00:05:53  \n",
       "4 -87.590000   member 0 days 00:02:42  "
      ]
     },
     "execution_count": 81,
     "metadata": {},
     "output_type": "execute_result"
    }
   ],
   "source": [
    "dec2020.head()"
   ]
  },
  {
   "cell_type": "code",
   "execution_count": 84,
   "metadata": {},
   "outputs": [
    {
     "data": {
      "text/plain": [
       "434"
      ]
     },
     "execution_count": 84,
     "metadata": {},
     "output_type": "execute_result"
    }
   ],
   "source": [
    "problem2 = dec2020[dec2020['tripduration'] < '0:00:00']\n",
    "len(problem2)"
   ]
  },
  {
   "cell_type": "code",
   "execution_count": 85,
   "metadata": {},
   "outputs": [
    {
     "data": {
      "text/html": [
       "<div>\n",
       "<style scoped>\n",
       "    .dataframe tbody tr th:only-of-type {\n",
       "        vertical-align: middle;\n",
       "    }\n",
       "\n",
       "    .dataframe tbody tr th {\n",
       "        vertical-align: top;\n",
       "    }\n",
       "\n",
       "    .dataframe thead th {\n",
       "        text-align: right;\n",
       "    }\n",
       "</style>\n",
       "<table border=\"1\" class=\"dataframe\">\n",
       "  <thead>\n",
       "    <tr style=\"text-align: right;\">\n",
       "      <th></th>\n",
       "      <th>start_time</th>\n",
       "      <th>end_time</th>\n",
       "      <th>start_lat</th>\n",
       "      <th>start_lng</th>\n",
       "      <th>end_lat</th>\n",
       "      <th>end_lng</th>\n",
       "      <th>usertype</th>\n",
       "      <th>tripduration</th>\n",
       "    </tr>\n",
       "  </thead>\n",
       "  <tbody>\n",
       "    <tr>\n",
       "      <th>125</th>\n",
       "      <td>2020-12-15 11:48:35</td>\n",
       "      <td>2020-11-25 13:21:43</td>\n",
       "      <td>41.78</td>\n",
       "      <td>-87.60</td>\n",
       "      <td>41.79</td>\n",
       "      <td>-87.60</td>\n",
       "      <td>member</td>\n",
       "      <td>-20 days +01:33:08</td>\n",
       "    </tr>\n",
       "    <tr>\n",
       "      <th>136</th>\n",
       "      <td>2020-12-15 11:50:32</td>\n",
       "      <td>2020-11-25 14:06:37</td>\n",
       "      <td>41.90</td>\n",
       "      <td>-87.69</td>\n",
       "      <td>41.90</td>\n",
       "      <td>-87.69</td>\n",
       "      <td>member</td>\n",
       "      <td>-20 days +02:16:05</td>\n",
       "    </tr>\n",
       "    <tr>\n",
       "      <th>681</th>\n",
       "      <td>2020-12-15 12:05:43</td>\n",
       "      <td>2020-11-25 20:20:05</td>\n",
       "      <td>41.80</td>\n",
       "      <td>-87.59</td>\n",
       "      <td>41.80</td>\n",
       "      <td>-87.60</td>\n",
       "      <td>member</td>\n",
       "      <td>-20 days +08:14:22</td>\n",
       "    </tr>\n",
       "    <tr>\n",
       "      <th>1190</th>\n",
       "      <td>2020-12-15 12:11:41</td>\n",
       "      <td>2020-11-25 20:03:07</td>\n",
       "      <td>41.93</td>\n",
       "      <td>-87.71</td>\n",
       "      <td>41.92</td>\n",
       "      <td>-87.71</td>\n",
       "      <td>casual</td>\n",
       "      <td>-20 days +07:51:26</td>\n",
       "    </tr>\n",
       "    <tr>\n",
       "      <th>1703</th>\n",
       "      <td>2020-12-15 12:15:37</td>\n",
       "      <td>2020-11-25 16:38:59</td>\n",
       "      <td>41.88</td>\n",
       "      <td>-87.65</td>\n",
       "      <td>41.87</td>\n",
       "      <td>-87.65</td>\n",
       "      <td>casual</td>\n",
       "      <td>-20 days +04:23:22</td>\n",
       "    </tr>\n",
       "  </tbody>\n",
       "</table>\n",
       "</div>"
      ],
      "text/plain": [
       "              start_time            end_time  start_lat  start_lng  end_lat  \\\n",
       "125  2020-12-15 11:48:35 2020-11-25 13:21:43      41.78     -87.60    41.79   \n",
       "136  2020-12-15 11:50:32 2020-11-25 14:06:37      41.90     -87.69    41.90   \n",
       "681  2020-12-15 12:05:43 2020-11-25 20:20:05      41.80     -87.59    41.80   \n",
       "1190 2020-12-15 12:11:41 2020-11-25 20:03:07      41.93     -87.71    41.92   \n",
       "1703 2020-12-15 12:15:37 2020-11-25 16:38:59      41.88     -87.65    41.87   \n",
       "\n",
       "      end_lng usertype       tripduration  \n",
       "125    -87.60   member -20 days +01:33:08  \n",
       "136    -87.69   member -20 days +02:16:05  \n",
       "681    -87.60   member -20 days +08:14:22  \n",
       "1190   -87.71   casual -20 days +07:51:26  \n",
       "1703   -87.65   casual -20 days +04:23:22  "
      ]
     },
     "execution_count": 85,
     "metadata": {},
     "output_type": "execute_result"
    }
   ],
   "source": [
    "problem2.head()"
   ]
  },
  {
   "cell_type": "code",
   "execution_count": 94,
   "metadata": {},
   "outputs": [
    {
     "name": "stdout",
     "output_type": "stream",
     "text": [
      "<class 'pandas.core.frame.DataFrame'>\n",
      "Int64Index: 131573 entries, 0 to 131572\n",
      "Data columns (total 8 columns):\n",
      " #   Column        Non-Null Count   Dtype          \n",
      "---  ------        --------------   -----          \n",
      " 0   start_time    131573 non-null  datetime64[ns] \n",
      " 1   end_time      131573 non-null  datetime64[ns] \n",
      " 2   start_lat     131573 non-null  float64        \n",
      " 3   start_lng     131573 non-null  float64        \n",
      " 4   end_lat       131462 non-null  float64        \n",
      " 5   end_lng       131462 non-null  float64        \n",
      " 6   usertype      131573 non-null  object         \n",
      " 7   tripduration  131573 non-null  timedelta64[ns]\n",
      "dtypes: datetime64[ns](2), float64(4), object(1), timedelta64[ns](1)\n",
      "memory usage: 9.0+ MB\n"
     ]
    }
   ],
   "source": [
    "dec2020.info()"
   ]
  },
  {
   "cell_type": "code",
   "execution_count": 123,
   "metadata": {},
   "outputs": [],
   "source": [
    "def fixTripDur(row):\n",
    "    start = row['start_time']\n",
    "    end = row['end_time']\n",
    "    if start > end:\n",
    "        row['start_time'] = end\n",
    "        row['end_time'] = start"
   ]
  },
  {
   "cell_type": "code",
   "execution_count": 106,
   "metadata": {},
   "outputs": [],
   "source": [
    "dec2020 = dec2020.apply(lambda row: fixTripDur(row),axis = 0)\n"
   ]
  },
  {
   "cell_type": "code",
   "execution_count": 126,
   "metadata": {},
   "outputs": [
    {
     "data": {
      "text/html": [
       "<div>\n",
       "<style scoped>\n",
       "    .dataframe tbody tr th:only-of-type {\n",
       "        vertical-align: middle;\n",
       "    }\n",
       "\n",
       "    .dataframe tbody tr th {\n",
       "        vertical-align: top;\n",
       "    }\n",
       "\n",
       "    .dataframe thead th {\n",
       "        text-align: right;\n",
       "    }\n",
       "</style>\n",
       "<table border=\"1\" class=\"dataframe\">\n",
       "  <thead>\n",
       "    <tr style=\"text-align: right;\">\n",
       "      <th></th>\n",
       "      <th>start_time</th>\n",
       "      <th>end_time</th>\n",
       "      <th>usertype</th>\n",
       "      <th>start_lat</th>\n",
       "      <th>start_lng</th>\n",
       "      <th>end_lat</th>\n",
       "      <th>end_lng</th>\n",
       "      <th>tripduration</th>\n",
       "      <th>month</th>\n",
       "      <th>year</th>\n",
       "    </tr>\n",
       "  </thead>\n",
       "  <tbody>\n",
       "    <tr>\n",
       "      <th>384478</th>\n",
       "      <td>2019-11-03 01:43:21</td>\n",
       "      <td>2019-11-03 01:09:56</td>\n",
       "      <td>casual</td>\n",
       "      <td>41.944540</td>\n",
       "      <td>-87.654678</td>\n",
       "      <td>41.889177</td>\n",
       "      <td>-87.638506</td>\n",
       "      <td>-1 days +23:26:35</td>\n",
       "      <td>11</td>\n",
       "      <td>2019</td>\n",
       "    </tr>\n",
       "    <tr>\n",
       "      <th>384483</th>\n",
       "      <td>2019-11-03 01:46:01</td>\n",
       "      <td>2019-11-03 01:10:44</td>\n",
       "      <td>casual</td>\n",
       "      <td>41.895465</td>\n",
       "      <td>-87.706128</td>\n",
       "      <td>41.938429</td>\n",
       "      <td>-87.698008</td>\n",
       "      <td>-1 days +23:24:43</td>\n",
       "      <td>11</td>\n",
       "      <td>2019</td>\n",
       "    </tr>\n",
       "    <tr>\n",
       "      <th>384485</th>\n",
       "      <td>2019-11-03 01:47:49</td>\n",
       "      <td>2019-11-03 01:02:40</td>\n",
       "      <td>member</td>\n",
       "      <td>41.943739</td>\n",
       "      <td>-87.664020</td>\n",
       "      <td>41.925563</td>\n",
       "      <td>-87.658404</td>\n",
       "      <td>-1 days +23:14:51</td>\n",
       "      <td>11</td>\n",
       "      <td>2019</td>\n",
       "    </tr>\n",
       "    <tr>\n",
       "      <th>384486</th>\n",
       "      <td>2019-11-03 01:48:04</td>\n",
       "      <td>2019-11-03 01:16:48</td>\n",
       "      <td>member</td>\n",
       "      <td>41.939532</td>\n",
       "      <td>-87.671114</td>\n",
       "      <td>41.939532</td>\n",
       "      <td>-87.671114</td>\n",
       "      <td>-1 days +23:28:44</td>\n",
       "      <td>11</td>\n",
       "      <td>2019</td>\n",
       "    </tr>\n",
       "    <tr>\n",
       "      <th>384487</th>\n",
       "      <td>2019-11-03 01:50:31</td>\n",
       "      <td>2019-11-03 01:04:25</td>\n",
       "      <td>member</td>\n",
       "      <td>41.956004</td>\n",
       "      <td>-87.680161</td>\n",
       "      <td>41.929465</td>\n",
       "      <td>-87.684158</td>\n",
       "      <td>-1 days +23:13:54</td>\n",
       "      <td>11</td>\n",
       "      <td>2019</td>\n",
       "    </tr>\n",
       "    <tr>\n",
       "      <th>384490</th>\n",
       "      <td>2019-11-03 01:51:55</td>\n",
       "      <td>2019-11-03 01:04:33</td>\n",
       "      <td>casual</td>\n",
       "      <td>41.926277</td>\n",
       "      <td>-87.630834</td>\n",
       "      <td>41.921540</td>\n",
       "      <td>-87.653818</td>\n",
       "      <td>-1 days +23:12:38</td>\n",
       "      <td>11</td>\n",
       "      <td>2019</td>\n",
       "    </tr>\n",
       "    <tr>\n",
       "      <th>384489</th>\n",
       "      <td>2019-11-03 01:51:59</td>\n",
       "      <td>2019-11-03 01:03:02</td>\n",
       "      <td>member</td>\n",
       "      <td>41.983593</td>\n",
       "      <td>-87.669154</td>\n",
       "      <td>41.961406</td>\n",
       "      <td>-87.676169</td>\n",
       "      <td>-1 days +23:11:03</td>\n",
       "      <td>11</td>\n",
       "      <td>2019</td>\n",
       "    </tr>\n",
       "    <tr>\n",
       "      <th>384491</th>\n",
       "      <td>2019-11-03 01:53:08</td>\n",
       "      <td>2019-11-03 01:04:53</td>\n",
       "      <td>casual</td>\n",
       "      <td>41.926277</td>\n",
       "      <td>-87.630834</td>\n",
       "      <td>41.921540</td>\n",
       "      <td>-87.653818</td>\n",
       "      <td>-1 days +23:11:45</td>\n",
       "      <td>11</td>\n",
       "      <td>2019</td>\n",
       "    </tr>\n",
       "    <tr>\n",
       "      <th>384492</th>\n",
       "      <td>2019-11-03 01:53:10</td>\n",
       "      <td>2019-11-03 01:04:53</td>\n",
       "      <td>casual</td>\n",
       "      <td>41.926277</td>\n",
       "      <td>-87.630834</td>\n",
       "      <td>41.921540</td>\n",
       "      <td>-87.653818</td>\n",
       "      <td>-1 days +23:11:43</td>\n",
       "      <td>11</td>\n",
       "      <td>2019</td>\n",
       "    </tr>\n",
       "    <tr>\n",
       "      <th>384493</th>\n",
       "      <td>2019-11-03 01:53:24</td>\n",
       "      <td>2019-11-03 01:06:08</td>\n",
       "      <td>casual</td>\n",
       "      <td>41.954005</td>\n",
       "      <td>-87.719128</td>\n",
       "      <td>41.954005</td>\n",
       "      <td>-87.719128</td>\n",
       "      <td>-1 days +23:12:44</td>\n",
       "      <td>11</td>\n",
       "      <td>2019</td>\n",
       "    </tr>\n",
       "  </tbody>\n",
       "</table>\n",
       "</div>"
      ],
      "text/plain": [
       "                start_time            end_time usertype  start_lat  start_lng  \\\n",
       "384478 2019-11-03 01:43:21 2019-11-03 01:09:56   casual  41.944540 -87.654678   \n",
       "384483 2019-11-03 01:46:01 2019-11-03 01:10:44   casual  41.895465 -87.706128   \n",
       "384485 2019-11-03 01:47:49 2019-11-03 01:02:40   member  41.943739 -87.664020   \n",
       "384486 2019-11-03 01:48:04 2019-11-03 01:16:48   member  41.939532 -87.671114   \n",
       "384487 2019-11-03 01:50:31 2019-11-03 01:04:25   member  41.956004 -87.680161   \n",
       "384490 2019-11-03 01:51:55 2019-11-03 01:04:33   casual  41.926277 -87.630834   \n",
       "384489 2019-11-03 01:51:59 2019-11-03 01:03:02   member  41.983593 -87.669154   \n",
       "384491 2019-11-03 01:53:08 2019-11-03 01:04:53   casual  41.926277 -87.630834   \n",
       "384492 2019-11-03 01:53:10 2019-11-03 01:04:53   casual  41.926277 -87.630834   \n",
       "384493 2019-11-03 01:53:24 2019-11-03 01:06:08   casual  41.954005 -87.719128   \n",
       "\n",
       "          end_lat    end_lng      tripduration  month  year  \n",
       "384478  41.889177 -87.638506 -1 days +23:26:35     11  2019  \n",
       "384483  41.938429 -87.698008 -1 days +23:24:43     11  2019  \n",
       "384485  41.925563 -87.658404 -1 days +23:14:51     11  2019  \n",
       "384486  41.939532 -87.671114 -1 days +23:28:44     11  2019  \n",
       "384487  41.929465 -87.684158 -1 days +23:13:54     11  2019  \n",
       "384490  41.921540 -87.653818 -1 days +23:12:38     11  2019  \n",
       "384489  41.961406 -87.676169 -1 days +23:11:03     11  2019  \n",
       "384491  41.921540 -87.653818 -1 days +23:11:45     11  2019  \n",
       "384492  41.921540 -87.653818 -1 days +23:11:43     11  2019  \n",
       "384493  41.954005 -87.719128 -1 days +23:12:44     11  2019  "
      ]
     },
     "execution_count": 126,
     "metadata": {},
     "output_type": "execute_result"
    }
   ],
   "source": [
    "problems.head(10)"
   ]
  },
  {
   "cell_type": "code",
   "execution_count": 3,
   "metadata": {},
   "outputs": [
    {
     "ename": "NameError",
     "evalue": "name 'bigData' is not defined",
     "output_type": "error",
     "traceback": [
      "\u001b[0;31m---------------------------------------------------------------------------\u001b[0m",
      "\u001b[0;31mNameError\u001b[0m                                 Traceback (most recent call last)",
      "\u001b[0;32m/tmp/ipykernel_157811/3284014928.py\u001b[0m in \u001b[0;36m<module>\u001b[0;34m\u001b[0m\n\u001b[0;32m----> 1\u001b[0;31m \u001b[0mlen\u001b[0m\u001b[0;34m(\u001b[0m\u001b[0mbigData\u001b[0m\u001b[0;34m[\u001b[0m\u001b[0mbigData\u001b[0m\u001b[0;34m[\u001b[0m\u001b[0;34m'tripduration'\u001b[0m\u001b[0;34m]\u001b[0m \u001b[0;34m<\u001b[0m \u001b[0;34m'0:00:00'\u001b[0m\u001b[0;34m]\u001b[0m\u001b[0;34m)\u001b[0m \u001b[0;34m/\u001b[0m \u001b[0mlen\u001b[0m\u001b[0;34m(\u001b[0m\u001b[0mbigData\u001b[0m\u001b[0;34m)\u001b[0m \u001b[0;34m*\u001b[0m \u001b[0;36m100\u001b[0m\u001b[0;34m\u001b[0m\u001b[0;34m\u001b[0m\u001b[0m\n\u001b[0m",
      "\u001b[0;31mNameError\u001b[0m: name 'bigData' is not defined"
     ]
    }
   ],
   "source": [
    "len(bigData[bigData['tripduration'] < '0:00:00']) / len(bigData) * 100"
   ]
  },
  {
   "cell_type": "markdown",
   "metadata": {},
   "source": [
    "A lot of the problem rows (where end time is before the start time) seem to be station errors -- the start and end locations are almost the same. Since these messy rows are only 0.08% of the total database, let's just delete them. "
   ]
  },
  {
   "cell_type": "code",
   "execution_count": 2,
   "metadata": {},
   "outputs": [
    {
     "ename": "NameError",
     "evalue": "name 'bigData' is not defined",
     "output_type": "error",
     "traceback": [
      "\u001b[0;31m---------------------------------------------------------------------------\u001b[0m",
      "\u001b[0;31mNameError\u001b[0m                                 Traceback (most recent call last)",
      "\u001b[0;32m/tmp/ipykernel_157811/3426801047.py\u001b[0m in \u001b[0;36m<module>\u001b[0;34m\u001b[0m\n\u001b[0;32m----> 1\u001b[0;31m \u001b[0mprint\u001b[0m\u001b[0;34m(\u001b[0m\u001b[0;34m'before:'\u001b[0m\u001b[0;34m,\u001b[0m\u001b[0mlen\u001b[0m\u001b[0;34m(\u001b[0m\u001b[0mbigData\u001b[0m\u001b[0;34m)\u001b[0m\u001b[0;34m)\u001b[0m\u001b[0;34m\u001b[0m\u001b[0;34m\u001b[0m\u001b[0m\n\u001b[0m\u001b[1;32m      2\u001b[0m \u001b[0mbigData\u001b[0m\u001b[0;34m.\u001b[0m\u001b[0mdrop\u001b[0m\u001b[0;34m(\u001b[0m\u001b[0mbigData\u001b[0m\u001b[0;34m[\u001b[0m\u001b[0mbigData\u001b[0m\u001b[0;34m[\u001b[0m\u001b[0;34m'tripduration'\u001b[0m\u001b[0;34m]\u001b[0m \u001b[0;34m<\u001b[0m \u001b[0;34m'0:00:00'\u001b[0m\u001b[0;34m]\u001b[0m\u001b[0;34m.\u001b[0m\u001b[0mindex\u001b[0m\u001b[0;34m,\u001b[0m \u001b[0minplace\u001b[0m\u001b[0;34m=\u001b[0m\u001b[0;32mTrue\u001b[0m\u001b[0;34m)\u001b[0m\u001b[0;34m\u001b[0m\u001b[0;34m\u001b[0m\u001b[0m\n\u001b[1;32m      3\u001b[0m \u001b[0mprint\u001b[0m\u001b[0;34m(\u001b[0m\u001b[0;34m'after: '\u001b[0m\u001b[0;34m,\u001b[0m\u001b[0mlen\u001b[0m\u001b[0;34m(\u001b[0m\u001b[0mbigData\u001b[0m\u001b[0;34m)\u001b[0m\u001b[0;34m)\u001b[0m\u001b[0;34m\u001b[0m\u001b[0;34m\u001b[0m\u001b[0m\n",
      "\u001b[0;31mNameError\u001b[0m: name 'bigData' is not defined"
     ]
    }
   ],
   "source": [
    "print('before:',len(bigData))\n",
    "bigData.drop(bigData[bigData['tripduration'] < '0:00:00'].index, inplace=True)\n",
    "print('after: ',len(bigData))"
   ]
  },
  {
   "cell_type": "code",
   "execution_count": null,
   "metadata": {},
   "outputs": [],
   "source": []
  },
  {
   "cell_type": "code",
   "execution_count": null,
   "metadata": {},
   "outputs": [],
   "source": []
  }
 ],
 "metadata": {
  "kernelspec": {
   "display_name": "Python 3.8.10 64-bit",
   "language": "python",
   "name": "python3"
  },
  "language_info": {
   "codemirror_mode": {
    "name": "ipython",
    "version": 3
   },
   "file_extension": ".py",
   "mimetype": "text/x-python",
   "name": "python",
   "nbconvert_exporter": "python",
   "pygments_lexer": "ipython3",
   "version": "3.10.4"
  },
  "orig_nbformat": 4,
  "vscode": {
   "interpreter": {
    "hash": "916dbcbb3f70747c44a77c7bcd40155683ae19c65e1c03b4aa3499c5328201f1"
   }
  }
 },
 "nbformat": 4,
 "nbformat_minor": 2
}
